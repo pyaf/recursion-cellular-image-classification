{
 "cells": [
  {
   "cell_type": "code",
   "execution_count": null,
   "metadata": {
    "ExecuteTime": {
     "end_time": "2019-09-04T19:37:11.933715Z",
     "start_time": "2019-09-04T19:37:11.925032Z"
    }
   },
   "outputs": [],
   "source": [
    "import sys\n",
    "sys.path.append('../')\n",
    "import pdb\n",
    "import pycm\n",
    "from glob import glob\n",
    "import torch\n",
    "from torch import nn\n",
    "import cv2\n",
    "import os\n",
    "from PIL import Image\n",
    "from skimage import io, transform\n",
    "import matplotlib.pyplot as plt\n",
    "import seaborn as sn\n",
    "import matplotlib.image as mpimg\n",
    "import pandas as pd\n",
    "from torchvision.datasets.folder import pil_loader\n",
    "import random\n",
    "import numpy as np\n",
    "from torchsummary import summary\n",
    "import pretrainedmodels\n",
    "from sklearn.model_selection import KFold, StratifiedKFold\n",
    "from sklearn.metrics import *\n",
    "from tensorboard_logger import * \n",
    "from dataloader import *\n",
    "from submission import *\n",
    "from albumentations import torch as AT\n",
    "from pycm import *\n",
    "os.environ['CUDA_VISIBLE_DEVICES']=\"\"\n",
    "import warnings\n",
    "warnings.filterwarnings(\"ignore\")\n",
    "\n",
    "%matplotlib inline"
   ]
  },
  {
   "cell_type": "code",
   "execution_count": null,
   "metadata": {
    "ExecuteTime": {
     "end_time": "2019-09-04T07:50:50.698311Z",
     "start_time": "2019-09-04T07:50:50.695613Z"
    }
   },
   "outputs": [],
   "source": [
    "st = 'tensorboard --logdir '\n",
    "for x in range(5):\n",
    "    st += f'v{x}:318_effnet-b5_f{x}_pord/,'\n",
    "print(st)"
   ]
  },
  {
   "cell_type": "markdown",
   "metadata": {
    "heading_collapsed": true
   },
   "source": [
    "### preprocessing experiments results"
   ]
  },
  {
   "cell_type": "code",
   "execution_count": null,
   "metadata": {
    "ExecuteTime": {
     "end_time": "2019-08-18T18:07:09.616242Z",
     "start_time": "2019-08-18T18:07:09.588910Z"
    },
    "hidden": true
   },
   "outputs": [],
   "source": [
    "aug = {}\n",
    "for i in range(11):\n",
    "    try:\n",
    "        print(f'/home/ags/Downloads/predictions/aug_{i}_predictions.csv')\n",
    "        aug[i] = pd.read_csv(f'/home/ags/Downloads/predictions/aug_{i}_predictions.csv')\n",
    "    except: \n",
    "        pass"
   ]
  },
  {
   "cell_type": "code",
   "execution_count": null,
   "metadata": {
    "ExecuteTime": {
     "end_time": "2019-08-18T18:07:10.940343Z",
     "start_time": "2019-08-18T18:07:10.806063Z"
    },
    "hidden": true
   },
   "outputs": [],
   "source": [
    "!ls /home/ags/Downloads/predictions/"
   ]
  },
  {
   "cell_type": "code",
   "execution_count": null,
   "metadata": {
    "ExecuteTime": {
     "end_time": "2019-08-18T18:07:11.085878Z",
     "start_time": "2019-08-18T18:07:11.075690Z"
    },
    "hidden": true
   },
   "outputs": [],
   "source": [
    "aug[3].head()"
   ]
  },
  {
   "cell_type": "code",
   "execution_count": null,
   "metadata": {
    "ExecuteTime": {
     "end_time": "2019-08-18T18:07:14.818754Z",
     "start_time": "2019-08-18T18:07:14.630837Z"
    },
    "hidden": true
   },
   "outputs": [],
   "source": [
    "tpr = {}\n",
    "ppv = {}\n",
    "f1 = {}\n",
    "for i in range(11):\n",
    "    try:\n",
    "        cm = ConfusionMatrix(aug[i]['diagnosis'].values, aug[i]['prediction'].values.astype('uint8'))\n",
    "        tpr[i] = cm.class_stat['TPR']\n",
    "        ppv[i] = cm.class_stat['PPV']\n",
    "        f1[i] = cm.class_stat['F1']\n",
    "    except Exception as e:\n",
    "        print(e)\n",
    "    "
   ]
  },
  {
   "cell_type": "code",
   "execution_count": null,
   "metadata": {
    "ExecuteTime": {
     "end_time": "2019-08-18T18:06:40.249224Z",
     "start_time": "2019-08-18T18:06:40.246919Z"
    },
    "hidden": true
   },
   "outputs": [],
   "source": [
    "print(cm.class_stat['F1'])"
   ]
  },
  {
   "cell_type": "code",
   "execution_count": null,
   "metadata": {
    "ExecuteTime": {
     "end_time": "2019-08-18T18:07:18.034260Z",
     "start_time": "2019-08-18T18:07:18.022723Z"
    },
    "hidden": true
   },
   "outputs": [],
   "source": [
    "for c in range(5):\n",
    "    print(c)\n",
    "    for key in f1.keys():\n",
    "        print('aug_%d:' % key, f1[key][str(c)])"
   ]
  },
  {
   "cell_type": "code",
   "execution_count": null,
   "metadata": {
    "ExecuteTime": {
     "end_time": "2019-08-18T17:58:40.401555Z",
     "start_time": "2019-08-18T17:58:40.391204Z"
    },
    "hidden": true
   },
   "outputs": [],
   "source": [
    "for c in range(5):\n",
    "    print(c)\n",
    "    for key in tpr.keys():\n",
    "        print('aug_%d:' % key, tpr[key][str(c)])"
   ]
  },
  {
   "cell_type": "code",
   "execution_count": null,
   "metadata": {
    "ExecuteTime": {
     "end_time": "2019-08-18T17:58:43.600938Z",
     "start_time": "2019-08-18T17:58:43.594792Z"
    },
    "hidden": true
   },
   "outputs": [],
   "source": [
    "for c in range(5):\n",
    "    print(c)\n",
    "    best_tpr = 0\n",
    "    for key in tpr.keys():\n",
    "        if tpr[key][str(c)] > best_tpr:\n",
    "            best_tpr = tpr[key][str(c)]\n",
    "            aug = key\n",
    "    print('aug_%d:' % aug, best_tpr)\n",
    "       "
   ]
  },
  {
   "cell_type": "code",
   "execution_count": null,
   "metadata": {
    "ExecuteTime": {
     "end_time": "2019-08-18T18:20:27.018383Z",
     "start_time": "2019-08-18T18:20:27.012972Z"
    },
    "hidden": true
   },
   "outputs": [],
   "source": [
    "for c in range(5):\n",
    "    metric_list = []\n",
    "    for key in tpr.keys():\n",
    "        metric_list.append([\"aug_%d\" % key, tpr[key][str(c)]])\n",
    "    print(\"class %d:\" % c, sorted(metric_list, key=lambda x : x[1], reverse=True)[:3]) "
   ]
  },
  {
   "cell_type": "code",
   "execution_count": null,
   "metadata": {
    "ExecuteTime": {
     "end_time": "2019-08-18T18:19:26.810989Z",
     "start_time": "2019-08-18T18:19:26.806411Z"
    },
    "hidden": true
   },
   "outputs": [],
   "source": [
    "for c in range(5):\n",
    "    metric_list = []\n",
    "    for key in ppv.keys():\n",
    "        metric_list.append([\"aug_%d\" % key, ppv[key][str(c)]])\n",
    "    print(\"class %d:\" % c, sorted(metric_list, key=lambda x : x[1], reverse=True)[:3]) "
   ]
  },
  {
   "cell_type": "code",
   "execution_count": null,
   "metadata": {
    "ExecuteTime": {
     "end_time": "2019-08-18T18:20:11.871637Z",
     "start_time": "2019-08-18T18:20:11.868384Z"
    },
    "hidden": true
   },
   "outputs": [],
   "source": [
    "for c in range(5):\n",
    "    metric_list = []\n",
    "    for key in f1.keys():\n",
    "        metric_list.append([\"aug_%d\" % key, f1[key][str(c)]])\n",
    "    print(\"class %d:\" % c, sorted(metric_list, key=lambda x : x[1], reverse=True)[:3]) "
   ]
  },
  {
   "cell_type": "code",
   "execution_count": null,
   "metadata": {
    "ExecuteTime": {
     "end_time": "2019-08-18T18:07:26.698548Z",
     "start_time": "2019-08-18T18:07:26.691019Z"
    },
    "hidden": true
   },
   "outputs": [],
   "source": [
    "for c in range(5):\n",
    "    print(c)\n",
    "    best_f1 = 0\n",
    "    for key in f1.keys():\n",
    "        if f1[key][str(c)] > best_f1:\n",
    "            best_f1 = f1[key][str(c)]\n",
    "            aug = key\n",
    "    print('aug_%d:' % aug, best_f1)"
   ]
  },
  {
   "cell_type": "code",
   "execution_count": null,
   "metadata": {
    "hidden": true
   },
   "outputs": [],
   "source": []
  },
  {
   "cell_type": "code",
   "execution_count": null,
   "metadata": {
    "hidden": true
   },
   "outputs": [],
   "source": []
  },
  {
   "cell_type": "code",
   "execution_count": null,
   "metadata": {
    "hidden": true
   },
   "outputs": [],
   "source": []
  },
  {
   "cell_type": "code",
   "execution_count": null,
   "metadata": {
    "hidden": true
   },
   "outputs": [],
   "source": []
  },
  {
   "cell_type": "code",
   "execution_count": null,
   "metadata": {
    "ExecuteTime": {
     "end_time": "2019-08-19T12:35:03.703700Z",
     "start_time": "2019-08-19T12:35:03.695590Z"
    },
    "hidden": true
   },
   "outputs": [],
   "source": [
    "def get_uniques(path):\n",
    "    '''takes predicted csv's and returns unique counts'''\n",
    "    pred = pd.read_csv(path)\n",
    "    print(np.unique(pred.diagnosis.values, return_counts=True))\n",
    "\n",
    "# def get_preds(pred, threshold):\n",
    "#     '''pred: [nx5], threshold: float'''\n",
    "#     y1 = pred > threshold\n",
    "#     y1 = np.clip(y1.astype(int).sum(axis=1) - 1, 0, 4)\n",
    "#     return y1\n",
    "\n",
    "def get_preds(arr, threshold, num_cls=5):\n",
    "    \"\"\" takes in thresholded predictions (num_samples, num_cls) and returns (num_samples,)\n",
    "    [3], arr needs to be a numpy array, NOT torch tensor\"\"\"\n",
    "    arr = arr > threshold\n",
    "    mask = arr == 0\n",
    "    # pdb.set_trace()\n",
    "    return np.clip(np.where(mask.any(1), mask.argmax(1), num_cls) - 1, 0, num_cls - 1)\n",
    "\n",
    "\n",
    "def predict(X, coef):\n",
    "    # [0.15, 2.4, ..] -> [0, 2, ..]\n",
    "    X_p = np.copy(X)\n",
    "    for i, pred in enumerate(X_p):\n",
    "        if pred < coef[0]:\n",
    "            X_p[i] = 0\n",
    "        elif pred >= coef[0] and pred < coef[1]:\n",
    "            X_p[i] = 1\n",
    "        elif pred >= coef[1] and pred < coef[2]:\n",
    "            X_p[i] = 2\n",
    "        elif pred >= coef[2] and pred < coef[3]:\n",
    "            X_p[i] = 3\n",
    "        else:\n",
    "            X_p[i] = 4\n",
    "    return X_p.astype('int')\n",
    "\n"
   ]
  },
  {
   "cell_type": "code",
   "execution_count": null,
   "metadata": {
    "ExecuteTime": {
     "end_time": "2019-08-19T12:35:04.135130Z",
     "start_time": "2019-08-19T12:35:03.964956Z"
    },
    "hidden": true
   },
   "outputs": [],
   "source": [
    "get_uniques('../weights/submission713.csv') \n",
    "get_uniques('../weights/submission736.csv') \n",
    "get_uniques('../weights/submission73.csv') \n",
    "get_uniques('../weights/submission785.csv') \n",
    "get_uniques('../weights/submission812.csv') "
   ]
  },
  {
   "cell_type": "code",
   "execution_count": null,
   "metadata": {
    "ExecuteTime": {
     "end_time": "2019-08-19T12:35:23.866607Z",
     "start_time": "2019-08-19T12:35:23.836018Z"
    },
    "hidden": true
   },
   "outputs": [],
   "source": [
    "pd.read_csv('../weights/submission820.csv')['diagnosis'].value_counts(normalize=True)"
   ]
  },
  {
   "cell_type": "markdown",
   "metadata": {
    "heading_collapsed": true
   },
   "source": [
    "### 4 class test"
   ]
  },
  {
   "cell_type": "code",
   "execution_count": null,
   "metadata": {
    "ExecuteTime": {
     "end_time": "2019-08-20T10:55:11.602969Z",
     "start_time": "2019-08-20T10:55:11.562060Z"
    },
    "hidden": true
   },
   "outputs": [],
   "source": [
    "npy_folder = '../weights/208_efficientnet-b5_f1_ptest2/test_npy/256/'\n",
    "files = glob(os.path.join(npy_folder, '*.npy'))\n",
    "preds = {}\n",
    "for file in files:\n",
    "    ep = file.split('/')[-1]\n",
    "    preds[ep] = np.load(file)\n",
    "#preds.keys()"
   ]
  },
  {
   "cell_type": "code",
   "execution_count": null,
   "metadata": {
    "ExecuteTime": {
     "end_time": "2019-08-20T10:54:53.361911Z",
     "start_time": "2019-08-20T10:54:53.300958Z"
    },
    "hidden": true
   },
   "outputs": [],
   "source": [
    "y_test = pd.read_csv('../weights/submission820.csv')['diagnosis'].values#.reshape(-1, 1)\n",
    "y_test1 = pd.read_csv('../weights/submission812.csv')['diagnosis'].values#.reshape(-1, 1)\n",
    "# y_test1 = pd.read_csv('../weights/168_efficientnet_poma_ensemble.csv')['diagnosis'].values.reshape(-1, 1)  # 0.808\n",
    "np.unique(y_test, return_counts=True)"
   ]
  },
  {
   "cell_type": "code",
   "execution_count": null,
   "metadata": {
    "ExecuteTime": {
     "end_time": "2019-08-20T10:54:53.665278Z",
     "start_time": "2019-08-20T10:54:53.649351Z"
    },
    "hidden": true
   },
   "outputs": [],
   "source": [
    "sub = pd.read_csv('../weights/submission820.csv')\n",
    "sub['pred'] = 0\n",
    "sub.head()"
   ]
  },
  {
   "cell_type": "code",
   "execution_count": null,
   "metadata": {
    "ExecuteTime": {
     "end_time": "2019-08-20T10:54:54.117184Z",
     "start_time": "2019-08-20T10:54:54.108308Z"
    },
    "hidden": true
   },
   "outputs": [],
   "source": [
    "sub.query('diagnosis!=0').index.values"
   ]
  },
  {
   "cell_type": "code",
   "execution_count": null,
   "metadata": {
    "ExecuteTime": {
     "end_time": "2019-08-20T10:54:54.721385Z",
     "start_time": "2019-08-20T10:54:54.717869Z"
    },
    "hidden": true
   },
   "outputs": [],
   "source": [
    "def predict(X, coef):\n",
    "    # [0.15, 2.4, ..] -> [0, 2, ..]\n",
    "    X_p = np.copy(X)\n",
    "    for i, pred in enumerate(X_p):\n",
    "        if pred < coef[0]:\n",
    "            X_p[i] = 0\n",
    "        elif pred >= coef[0] and pred < coef[1]:\n",
    "            X_p[i] = 1\n",
    "        elif pred >= coef[1] and pred < coef[2]:\n",
    "            X_p[i] = 2\n",
    "        else:\n",
    "            X_p[i] = 3\n",
    "        #elif pred >= coef[2] and pred < coef[3]:\n",
    "        #    X_p[i] = 3\n",
    "        #else:\n",
    "        #    X_p[i] = 4\n",
    "    return X_p.astype(\"int\")\n",
    "\n",
    "# pred[sub.query('diagnosis!=0').index.tolist()] = "
   ]
  },
  {
   "cell_type": "code",
   "execution_count": null,
   "metadata": {
    "ExecuteTime": {
     "end_time": "2019-08-20T10:54:55.171071Z",
     "start_time": "2019-08-20T10:54:55.164763Z"
    },
    "hidden": true
   },
   "outputs": [],
   "source": [
    "np.unique(sub.query('diagnosis!=0')['diagnosis'].values, return_counts=True)"
   ]
  },
  {
   "cell_type": "code",
   "execution_count": null,
   "metadata": {
    "ExecuteTime": {
     "end_time": "2019-08-20T10:55:15.432157Z",
     "start_time": "2019-08-20T10:55:15.367797Z"
    },
    "hidden": true
   },
   "outputs": [],
   "source": [
    "for key in sorted(preds.keys()):\n",
    "    sub['pred'] = predict(preds[key][0], [0.5, 1.5, 2.5]) + 1\n",
    "    print(key, np.unique(sub.query('diagnosis!=0')['pred'].values, return_counts=True))"
   ]
  },
  {
   "cell_type": "code",
   "execution_count": null,
   "metadata": {
    "ExecuteTime": {
     "end_time": "2019-08-20T10:55:37.150396Z",
     "start_time": "2019-08-20T10:55:37.146497Z"
    },
    "hidden": true
   },
   "outputs": [],
   "source": [
    "nonzero = sub.query('diagnosis!=0')#['pred'].value_counts()"
   ]
  },
  {
   "cell_type": "code",
   "execution_count": null,
   "metadata": {
    "ExecuteTime": {
     "end_time": "2019-08-20T10:55:37.651190Z",
     "start_time": "2019-08-20T10:55:37.641337Z"
    },
    "hidden": true
   },
   "outputs": [],
   "source": [
    "cm = ConfusionMatrix(nonzero['diagnosis'].values, nonzero['pred'].values)"
   ]
  },
  {
   "cell_type": "code",
   "execution_count": null,
   "metadata": {
    "ExecuteTime": {
     "end_time": "2019-08-20T10:55:37.954393Z",
     "start_time": "2019-08-20T10:55:37.951650Z"
    },
    "hidden": true
   },
   "outputs": [],
   "source": [
    "cm.print_matrix()"
   ]
  },
  {
   "cell_type": "code",
   "execution_count": null,
   "metadata": {
    "ExecuteTime": {
     "end_time": "2019-08-20T10:58:36.738017Z",
     "start_time": "2019-08-20T10:58:36.734397Z"
    },
    "hidden": true
   },
   "outputs": [],
   "source": [
    "cm.class_stat['F1']"
   ]
  },
  {
   "cell_type": "code",
   "execution_count": null,
   "metadata": {
    "hidden": true
   },
   "outputs": [],
   "source": []
  },
  {
   "cell_type": "code",
   "execution_count": null,
   "metadata": {
    "hidden": true
   },
   "outputs": [],
   "source": []
  },
  {
   "cell_type": "code",
   "execution_count": null,
   "metadata": {
    "hidden": true
   },
   "outputs": [],
   "source": []
  },
  {
   "cell_type": "code",
   "execution_count": null,
   "metadata": {
    "hidden": true
   },
   "outputs": [],
   "source": []
  },
  {
   "cell_type": "markdown",
   "metadata": {
    "heading_collapsed": true
   },
   "source": [
    "### TEST npy analysis "
   ]
  },
  {
   "cell_type": "code",
   "execution_count": null,
   "metadata": {
    "hidden": true
   },
   "outputs": [],
   "source": []
  },
  {
   "cell_type": "code",
   "execution_count": null,
   "metadata": {
    "ExecuteTime": {
     "end_time": "2019-09-01T18:55:45.979995Z",
     "start_time": "2019-09-01T18:55:45.966790Z"
    },
    "hidden": true
   },
   "outputs": [],
   "source": [
    "#npy_folder = '../weights/15-7_resnext101_32x4d_v0_fold0_bgcpold256/test_npy/'\n",
    "#npy_folder = '../weights/17-7_resnext101_32x4d_v0_fold0_bgcpcold256reg/test_npy/'\n",
    "# npy_folder = '../weights/18-7_resnext101_32x16d_fold0_bgccpold/test_npy/'\n",
    "# npy_folder = '../weights/268_efficientnet-b4_f1_pordcw/test_npy/256/'\n",
    "# npy_folder = '../weights/318_senet154_f1_pordpt/test_npy/224/'\n",
    "npy_folder = '../weights/318_effnet-b5_f1_pordcw/test_npy/256/'\n",
    "# npy_folder = '../weights/248_efficientnet-b6_f1_po6/test_npy/256/'\n",
    "files = glob(os.path.join(npy_folder, '*.npy'))\n",
    "preds = {}\n",
    "for file in files:\n",
    "    ep = file.split('/')[-1]\n",
    "    preds[ep] = np.load(file)\n",
    "len(sorted(preds.keys()))"
   ]
  },
  {
   "cell_type": "code",
   "execution_count": null,
   "metadata": {
    "ExecuteTime": {
     "end_time": "2019-09-01T18:55:46.176123Z",
     "start_time": "2019-09-01T18:55:46.160760Z"
    },
    "hidden": true
   },
   "outputs": [],
   "source": [
    "y_test = pd.read_csv('../weights/submission829.csv')['diagnosis'].values#.reshape(-1, 1)\n",
    "y_test1 = pd.read_csv('../weights/submission820.csv')['diagnosis'].values#.reshape(-1, 1)\n",
    "# y_test2 = pd.read_csv('../weights/submission812.csv')['diagnosis'].values#.reshape(-1, 1)\n",
    "# y_test1 = pd.read_csv('../weights/168_efficientnet_poma_ensemble.csv')['diagnosis'].values.reshape(-1, 1)  # 0.808\n",
    "print(np.unique(y_test, return_counts=True))\n",
    "cm = ConfusionMatrix(y_test, y_test1)\n",
    "cm.print_matrix()\n",
    "cohen_kappa_score(y_test, y_test1, weights=\"quadratic\"), accuracy_score(y_test, y_test1)"
   ]
  },
  {
   "cell_type": "code",
   "execution_count": null,
   "metadata": {
    "ExecuteTime": {
     "end_time": "2019-09-01T18:55:46.380522Z",
     "start_time": "2019-09-01T18:55:46.350957Z"
    },
    "hidden": true
   },
   "outputs": [],
   "source": [
    "for key in sorted(preds.keys(), key=lambda x: int(x.split('.')[0][9:])):\n",
    "    pred, val_bt = preds[key]# val_bt = validation best threhsold\n",
    "    th = 0.5\n",
    "    th = [0.5, 0.5, 0.5, 0.5, 0.6]\n",
    "    pred = (pred > th).astype('uint8')\n",
    "    pred1 = get_preds(pred, 5)\n",
    "    score = cohen_kappa_score(y_test, pred1, weights=\"quadratic\")\n",
    "    acc = accuracy_score(y_test, pred1)\n",
    "    print(f'{key} qwk: {score}, acc: {acc}', np.unique(pred1, return_counts=True)[1])"
   ]
  },
  {
   "cell_type": "code",
   "execution_count": null,
   "metadata": {
    "ExecuteTime": {
     "end_time": "2019-09-01T19:07:55.579861Z",
     "start_time": "2019-09-01T19:07:55.565825Z"
    },
    "hidden": true
   },
   "outputs": [],
   "source": [
    "# key = 'test_ckpt14.npy' # pordcw\n",
    "key = 'test_ckpt7.npy' # pord\n",
    "raw_pred = preds[key][0]\n",
    "# th = 0.5\n",
    "th = [0.5, 0.5, 0.5, 0.5, 0.5]\n",
    "pred = (raw_pred > th).astype('uint8')\n",
    "pred1 = get_preds(pred, 5)\n",
    "cm = ConfusionMatrix(y_test, pred1.flatten())\n",
    "cm.print_matrix()\n",
    "score = cohen_kappa_score(y_test, pred1, weights=\"quadratic\")\n",
    "print(f'{key} qwk: {score}, acc: {cm.overall_stat[\"Overall ACC\"]}, counts: {np.unique(pred1, return_counts=True)[1]}')\n",
    "cm.class_stat['F1']"
   ]
  },
  {
   "cell_type": "code",
   "execution_count": null,
   "metadata": {
    "ExecuteTime": {
     "end_time": "2019-09-01T19:06:30.367055Z",
     "start_time": "2019-09-01T19:06:30.363443Z"
    },
    "hidden": true
   },
   "outputs": [],
   "source": [
    "\n",
    "def compute_score_inv(thresholds, predictions, targets):\n",
    "#     pdb.set_trace()\n",
    "    predictions = (predictions > thresholds).astype('uint8')\n",
    "    preds = get_preds(predictions, 5)\n",
    "#     score = accuracy_score(targets, preds)\n",
    "    score = cohen_kappa_score(preds, targets, weights=\"quadratic\") \n",
    "    return 1 - score\n",
    "\n",
    "def optimize(raw_pred, y_train):\n",
    "    base_th = [0.5, 0.5, 0.5, 0.5, 0.5]\n",
    "    simplex = scipy.optimize.minimize(\n",
    "        compute_score_inv,\n",
    "        base_th,\n",
    "        args=(raw_pred, y_train),\n",
    "        method=\"nelder-mead\",\n",
    "    )\n",
    "    best_th = simplex[\"x\"]\n",
    "    return best_th"
   ]
  },
  {
   "cell_type": "code",
   "execution_count": null,
   "metadata": {
    "ExecuteTime": {
     "end_time": "2019-09-01T19:06:30.913497Z",
     "start_time": "2019-09-01T19:06:30.796393Z"
    },
    "hidden": true
   },
   "outputs": [],
   "source": [
    "best_th = optimize(raw_pred, y_test)\n",
    "print('best thresholds:', best_th)\n",
    "pred = (raw_pred > best_th).astype('uint8')\n",
    "pred1 = get_preds(pred, 5)\n",
    "cm = ConfusionMatrix(y_test, pred1.flatten())\n",
    "cm.print_matrix()\n",
    "score = cohen_kappa_score(y_test, pred1, weights=\"quadratic\")\n",
    "print(f'{key} qwk: {score}, acc: {cm.overall_stat[\"Overall ACC\"]}', np.unique(pred1, return_counts=True)[1])\n",
    "cm.class_stat['F1']"
   ]
  },
  {
   "cell_type": "markdown",
   "metadata": {
    "hidden": true
   },
   "source": [
    "The thing is you don't have to use the optimized thresholds, but you can see where the model is struggling to predict the correct labels and so ease the threshold for that particular category"
   ]
  },
  {
   "cell_type": "markdown",
   "metadata": {
    "hidden": true
   },
   "source": [
    "##### create submission.csv"
   ]
  },
  {
   "cell_type": "code",
   "execution_count": null,
   "metadata": {
    "ExecuteTime": {
     "end_time": "2019-09-01T19:03:41.566407Z",
     "start_time": "2019-09-01T19:03:41.559089Z"
    },
    "hidden": true
   },
   "outputs": [],
   "source": [
    "sub = pd.read_csv('../data/sample_submission.csv')\n",
    "sub.loc[:, 'diagnosis'] = pred1\n",
    "sub.head()"
   ]
  },
  {
   "cell_type": "code",
   "execution_count": null,
   "metadata": {
    "ExecuteTime": {
     "end_time": "2019-09-01T19:03:48.915773Z",
     "start_time": "2019-09-01T19:03:48.904520Z"
    },
    "hidden": true
   },
   "outputs": [],
   "source": [
    "sub_path = os.path.join(npy_folder, key.replace('.npy', 'opt.csv'))\n",
    "sub.to_csv(sub_path, index=False)"
   ]
  },
  {
   "cell_type": "code",
   "execution_count": null,
   "metadata": {
    "ExecuteTime": {
     "end_time": "2019-08-31T20:33:26.999669Z",
     "start_time": "2019-08-31T20:33:26.995125Z"
    },
    "hidden": true
   },
   "outputs": [],
   "source": [
    "df1 = pd.read_csv('../weights/318_senet154_f1_pord/test_npy/224/test_ckpt6.csv')"
   ]
  },
  {
   "cell_type": "code",
   "execution_count": null,
   "metadata": {
    "ExecuteTime": {
     "end_time": "2019-08-31T20:33:27.526171Z",
     "start_time": "2019-08-31T20:33:27.517178Z"
    },
    "hidden": true
   },
   "outputs": [],
   "source": [
    "cm = ConfusionMatrix(sub['diagnosis'].values, df1['diagnosis'].values)\n",
    "cm.print_matrix()\n",
    "# score = cohen_kappa_score(y_test, pred1, weights=\"quadratic\")\n",
    "# print(f'{key} qwk: {score}, acc: {cm.overall_stat[\"Overall ACC\"]}', np.unique(pred1, return_counts=True)[1])"
   ]
  },
  {
   "cell_type": "code",
   "execution_count": null,
   "metadata": {
    "hidden": true
   },
   "outputs": [],
   "source": []
  },
  {
   "cell_type": "code",
   "execution_count": null,
   "metadata": {
    "hidden": true
   },
   "outputs": [],
   "source": []
  },
  {
   "cell_type": "markdown",
   "metadata": {
    "heading_collapsed": true
   },
   "source": [
    "### Binary classifier"
   ]
  },
  {
   "cell_type": "code",
   "execution_count": null,
   "metadata": {
    "ExecuteTime": {
     "end_time": "2019-08-17T12:53:06.393229Z",
     "start_time": "2019-08-17T12:53:06.385431Z"
    },
    "hidden": true
   },
   "outputs": [],
   "source": [
    "# ensemble = pd.read_csv('../weights/168_efficientnet_poma_ensemble.csv')\n",
    "ensemble = pd.read_csv('../weights/submission820.csv')\n",
    "np.unique(ensemble['diagnosis'], return_counts=True)"
   ]
  },
  {
   "cell_type": "code",
   "execution_count": null,
   "metadata": {
    "ExecuteTime": {
     "end_time": "2019-08-17T12:53:09.654430Z",
     "start_time": "2019-08-17T12:53:09.652109Z"
    },
    "hidden": true
   },
   "outputs": [],
   "source": [
    "def sigmoid(x):\n",
    "    return 1 / (1 + np.exp(-x))"
   ]
  },
  {
   "cell_type": "code",
   "execution_count": null,
   "metadata": {
    "ExecuteTime": {
     "end_time": "2019-08-17T12:53:09.668874Z",
     "start_time": "2019-08-17T12:53:09.655546Z"
    },
    "hidden": true
   },
   "outputs": [],
   "source": [
    "test_classifier_preds = np.load('../classifier/weights/17-8_efficientnet-b5_f0_focalsamp/test_npy/test_ckpt29.npy')\n",
    "test_classifier_preds = sigmoid(test_classifier_preds)\n",
    "cls_preds = (test_classifier_preds > 0.6).astype('uint8').flatten()\n",
    "print('total:', np.sum(cls_preds))\n",
    "print(ensemble.iloc[np.where(cls_preds == 1)]['diagnosis'].value_counts())"
   ]
  },
  {
   "cell_type": "code",
   "execution_count": null,
   "metadata": {
    "ExecuteTime": {
     "end_time": "2019-08-17T12:53:14.156047Z",
     "start_time": "2019-08-17T12:53:14.051734Z"
    },
    "hidden": true
   },
   "outputs": [],
   "source": [
    "plt.hist(test_classifier_preds );"
   ]
  },
  {
   "cell_type": "code",
   "execution_count": null,
   "metadata": {
    "ExecuteTime": {
     "end_time": "2019-08-17T12:53:14.518703Z",
     "start_time": "2019-08-17T12:53:14.512897Z"
    },
    "hidden": true
   },
   "outputs": [],
   "source": [
    "diff = ensemble.iloc[np.where(cls_preds == 1)].query('diagnosis!=4')\n",
    "diff.shape"
   ]
  },
  {
   "cell_type": "code",
   "execution_count": null,
   "metadata": {
    "ExecuteTime": {
     "end_time": "2019-08-17T12:53:23.895502Z",
     "start_time": "2019-08-17T12:53:18.295626Z"
    },
    "hidden": true
   },
   "outputs": [],
   "source": [
    "#fig = plt.figure(figsize=(25, 16))\n",
    "IMG_SIZE=300\n",
    "for class_id in sorted([0, 1, 2, 3]):\n",
    "    samples = len(diff[diff['diagnosis'] == class_id])\n",
    "    if samples == 0: continue\n",
    "    for i, (idx, row) in enumerate(diff.loc[diff['diagnosis'] == class_id].sample(samples, random_state=69).iterrows()):\n",
    "        path=f\"../data/test_images/{row['id_code']}.png\"\n",
    "        image = cv2.imread(path)\n",
    "        #print(image.shape)\n",
    "        image = cv2.cvtColor(image, cv2.COLOR_BGR2RGB)\n",
    "    #     image = cv2.resize(image, (IMG_SIZE, IMG_SIZE))\n",
    "        #image=cv2.addWeighted ( image,4, cv2.GaussianBlur( image , (0,0) , IMG_SIZE/10) ,-4 ,128) # the trick is to add this line\n",
    "        plt.imshow(image)\n",
    "        prob = test_classifier_preds[idx]#[row.index.values]\n",
    "        plt.title('reg pred: %d, cls pred: %f | %s' % (class_id, prob, image.shape) )\n",
    "        plt.show()"
   ]
  },
  {
   "cell_type": "code",
   "execution_count": null,
   "metadata": {
    "ExecuteTime": {
     "end_time": "2019-08-17T12:45:27.854436Z",
     "start_time": "2019-08-17T12:45:27.850775Z"
    },
    "hidden": true
   },
   "outputs": [],
   "source": [
    "ensemble.at[np.where(cls_preds == 1)[0].tolist(), 'diagnosis'] = 4"
   ]
  },
  {
   "cell_type": "code",
   "execution_count": null,
   "metadata": {
    "ExecuteTime": {
     "end_time": "2019-08-17T12:45:28.272284Z",
     "start_time": "2019-08-17T12:45:28.269120Z"
    },
    "hidden": true
   },
   "outputs": [],
   "source": [
    "np.unique(ensemble['diagnosis'], return_counts=True)"
   ]
  },
  {
   "cell_type": "code",
   "execution_count": null,
   "metadata": {
    "ExecuteTime": {
     "end_time": "2019-08-17T12:45:29.221570Z",
     "start_time": "2019-08-17T12:45:29.208644Z"
    },
    "hidden": true
   },
   "outputs": [],
   "source": [
    "y_test = pd.read_csv('../weights/submission820.csv')['diagnosis'].values.reshape(-1, 1)\n",
    "cohen_kappa_score(y_test, ensemble['diagnosis'].values, weights=\"quadratic\"), accuracy_score(y_test, ensemble['diagnosis'].values)"
   ]
  },
  {
   "cell_type": "code",
   "execution_count": null,
   "metadata": {
    "ExecuteTime": {
     "end_time": "2019-08-17T12:45:33.904216Z",
     "start_time": "2019-08-17T12:45:33.896725Z"
    },
    "hidden": true
   },
   "outputs": [],
   "source": [
    "# ensemble.to_csv('../weights/168_efficientnet_poma_ensemble_withcls.csv', index=False)"
   ]
  },
  {
   "cell_type": "code",
   "execution_count": null,
   "metadata": {
    "ExecuteTime": {
     "end_time": "2019-08-16T19:55:31.723356Z",
     "start_time": "2019-08-16T19:55:31.710850Z"
    },
    "hidden": true
   },
   "outputs": [],
   "source": []
  },
  {
   "cell_type": "code",
   "execution_count": null,
   "metadata": {
    "ExecuteTime": {
     "end_time": "2019-08-19T12:36:49.784034Z",
     "start_time": "2019-08-19T12:36:49.770687Z"
    },
    "hidden": true
   },
   "outputs": [],
   "source": [
    "ckpt_path = '../weights/168_efficientnet-b5_f1_poma/test_npy/test_ckpt14.npy'\n",
    "sub_path = ckpt_path.replace('test_npy/', '').replace('.npy', '.csv')\n",
    "raw_preds = np.load(ckpt_path)[0]\n",
    "base_thresholds = [0.5, 1.5, 2.5, 3.5]\n",
    "df_preds = predict(raw_preds, base_thresholds)\n",
    "print(np.unique(df_preds, return_counts=True))\n",
    "df = pd.read_csv('../data/sample_submission.csv')\n",
    "df.loc[:, 'diagnosis'] = df_preds\n",
    "# df.to_csv(sub_path, index=False)"
   ]
  },
  {
   "cell_type": "code",
   "execution_count": null,
   "metadata": {
    "ExecuteTime": {
     "end_time": "2019-08-19T12:36:37.512447Z",
     "start_time": "2019-08-19T12:36:37.509209Z"
    },
    "hidden": true
   },
   "outputs": [],
   "source": [
    "df.diagnosis.head()"
   ]
  },
  {
   "cell_type": "code",
   "execution_count": null,
   "metadata": {
    "ExecuteTime": {
     "end_time": "2019-08-12T05:11:16.716629Z",
     "start_time": "2019-08-12T05:11:16.707294Z"
    },
    "hidden": true
   },
   "outputs": [],
   "source": [
    "pred, th = preds['test_ckpt17.npy']\n",
    "best_threshold = [0.5, 1.5, 2.5, 3.5]\n",
    "pred_ = predict(pred, best_threshold)\n",
    "print(np.unique(pred_, return_counts=True))\n",
    "pred_ = predict(pred, th)\n",
    "print(np.unique(pred_, return_counts=True))\n"
   ]
  },
  {
   "cell_type": "markdown",
   "metadata": {
    "hidden": true
   },
   "source": [
    "#### Train set  "
   ]
  },
  {
   "cell_type": "code",
   "execution_count": null,
   "metadata": {
    "ExecuteTime": {
     "end_time": "2019-08-20T10:17:43.883968Z",
     "start_time": "2019-08-20T10:17:43.250034Z"
    },
    "hidden": true
   },
   "outputs": [],
   "source": [
    "train_df = pd.read_csv('../data/train.csv')\n",
    "train_df['diagnosis'].value_counts()"
   ]
  },
  {
   "cell_type": "code",
   "execution_count": null,
   "metadata": {
    "ExecuteTime": {
     "end_time": "2019-08-20T10:18:04.548063Z",
     "start_time": "2019-08-20T10:18:04.545474Z"
    },
    "hidden": true
   },
   "outputs": [],
   "source": [
    "def sigmoid(x):\n",
    "    return 1 / (1 + np.exp(-x))"
   ]
  },
  {
   "cell_type": "code",
   "execution_count": null,
   "metadata": {
    "ExecuteTime": {
     "end_time": "2019-08-20T10:18:05.937389Z",
     "start_time": "2019-08-20T10:18:04.946836Z"
    },
    "hidden": true
   },
   "outputs": [],
   "source": [
    "raw_train_preds = sigmoid(np.load('../classifier/weights/17-8_efficientnet-b5_f0_focalsamp/train_npy/train_ckpt29.npy'))\n",
    "cls_preds = (raw_train_preds > 0.6).astype('uint8').flatten()\n",
    "print('total:', np.sum(cls_preds))"
   ]
  },
  {
   "cell_type": "code",
   "execution_count": null,
   "metadata": {
    "ExecuteTime": {
     "end_time": "2019-08-20T10:18:07.481942Z",
     "start_time": "2019-08-20T10:18:07.354381Z"
    },
    "hidden": true
   },
   "outputs": [],
   "source": [
    "plt.hist(raw_train_preds);"
   ]
  },
  {
   "cell_type": "code",
   "execution_count": null,
   "metadata": {
    "ExecuteTime": {
     "end_time": "2019-08-20T10:18:09.177258Z",
     "start_time": "2019-08-20T10:18:09.156826Z"
    },
    "hidden": true
   },
   "outputs": [],
   "source": [
    "print(train_df.iloc[np.where(cls_preds == 1)]['diagnosis'].value_counts())"
   ]
  },
  {
   "cell_type": "code",
   "execution_count": null,
   "metadata": {
    "ExecuteTime": {
     "end_time": "2019-08-17T12:38:46.965530Z",
     "start_time": "2019-08-17T12:38:46.954039Z"
    },
    "hidden": true
   },
   "outputs": [],
   "source": [
    "# TPs\n",
    "same = train_df.iloc[np.where(cls_preds == 1)].query('diagnosis == 4') # those cases which the classifier predicts to be `4`, and they are so -> TPs\n",
    "same.shape"
   ]
  },
  {
   "cell_type": "code",
   "execution_count": null,
   "metadata": {
    "ExecuteTime": {
     "end_time": "2019-08-17T12:38:46.978441Z",
     "start_time": "2019-08-17T12:38:46.967266Z"
    },
    "hidden": true
   },
   "outputs": [],
   "source": [
    "# FPs\n",
    "diff = train_df.iloc[np.where(cls_preds == 1)].query('diagnosis != 4') # those cases which the classifier predicts to be `4`, but they aren't so -> FPs\n",
    "diff.shape"
   ]
  },
  {
   "cell_type": "code",
   "execution_count": null,
   "metadata": {
    "ExecuteTime": {
     "end_time": "2019-08-17T12:42:29.806199Z",
     "start_time": "2019-08-17T12:42:07.586445Z"
    },
    "hidden": true
   },
   "outputs": [],
   "source": [
    "#fig = plt.figure(figsize=(25, 16))\n",
    "IMG_SIZE=300\n",
    "for class_id in sorted([0, 1, 2, 3]):\n",
    "    samples = len(diff[diff['diagnosis'] == class_id])\n",
    "    if samples == 0: continue\n",
    "    for i, (idx, row) in enumerate(diff.loc[diff['diagnosis'] == class_id].sample(samples, random_state=69).iterrows()):\n",
    "        path=f\"../data/all_images/{row['id_code']}\"\n",
    "        image = cv2.imread(path)\n",
    "        #print(image.shape)\n",
    "        image = cv2.cvtColor(image, cv2.COLOR_BGR2RGB)\n",
    "    #     image = cv2.resize(image, (IMG_SIZE, IMG_SIZE))\n",
    "        image=cv2.addWeighted ( image,4, cv2.GaussianBlur( image , (0,0) , 10) ,-4 ,128) # the trick is to add this line\n",
    "        plt.imshow(image)\n",
    "        prob = raw_train_preds[idx]#[row.index.values]\n",
    "        plt.title('actual: %d, cls pred: %f | %s' % (class_id, prob, image.shape) )\n",
    "        plt.show()"
   ]
  },
  {
   "cell_type": "code",
   "execution_count": null,
   "metadata": {
    "ExecuteTime": {
     "end_time": "2019-08-17T12:44:18.539405Z",
     "start_time": "2019-08-17T12:43:22.643530Z"
    },
    "hidden": true
   },
   "outputs": [],
   "source": [
    "#fig = plt.figure(figsize=(25, 16))\n",
    "IMG_SIZE=300\n",
    "for class_id in sorted([4]):\n",
    "    samples = len(same[same['diagnosis'] == class_id])\n",
    "    if samples == 0: continue\n",
    "    for i, (idx, row) in enumerate(same.loc[same['diagnosis'] == class_id].sample(samples, random_state=69).iterrows()):\n",
    "        path=f\"../data/all_images/{row['id_code']}\"\n",
    "        image = cv2.imread(path)\n",
    "        #print(image.shape)\n",
    "        image = cv2.cvtColor(image, cv2.COLOR_BGR2RGB)\n",
    "    #     image = cv2.resize(image, (IMG_SIZE, IMG_SIZE))\n",
    "        image=cv2.addWeighted (image, 4, cv2.GaussianBlur( image , (0,0) , IMG_SIZE/10) ,-4 ,128) # the trick is to add this line\n",
    "        plt.imshow(image)\n",
    "        prob = raw_train_preds[idx]#[row.index.values]\n",
    "        plt.title('actual: %d, cls pred: %f | %s' % (class_id, prob, image.shape) )\n",
    "        plt.show()"
   ]
  },
  {
   "cell_type": "code",
   "execution_count": null,
   "metadata": {
    "hidden": true
   },
   "outputs": [],
   "source": []
  },
  {
   "cell_type": "code",
   "execution_count": null,
   "metadata": {
    "hidden": true
   },
   "outputs": [],
   "source": []
  },
  {
   "cell_type": "code",
   "execution_count": null,
   "metadata": {
    "hidden": true
   },
   "outputs": [],
   "source": []
  },
  {
   "cell_type": "code",
   "execution_count": null,
   "metadata": {
    "hidden": true
   },
   "outputs": [],
   "source": []
  },
  {
   "cell_type": "code",
   "execution_count": null,
   "metadata": {
    "hidden": true
   },
   "outputs": [],
   "source": []
  },
  {
   "cell_type": "code",
   "execution_count": null,
   "metadata": {
    "hidden": true
   },
   "outputs": [],
   "source": []
  },
  {
   "cell_type": "markdown",
   "metadata": {},
   "source": [
    "### Analysis of model on train/val using cm obj files"
   ]
  },
  {
   "cell_type": "code",
   "execution_count": null,
   "metadata": {
    "ExecuteTime": {
     "end_time": "2019-09-04T19:48:17.101270Z",
     "start_time": "2019-09-04T19:48:16.876292Z"
    }
   },
   "outputs": [],
   "source": [
    "train_cm = ConfusionMatrix(file=open('../weights/168_efficientnet-b5_f2_poma/logs/base_cmtrain_16.obj', 'r'))\n",
    "cms = {}\n",
    "for i in range(5):\n",
    "#     val_cm = ConfusionMatrix(file=open(f'../weights/168_efficientnet-b5_f{i}_poma/logs/base_cmval_16.obj', 'r'))\n",
    "    val_cm = ConfusionMatrix(file=open(f'../weights/318_effnet-b5_f{i}_pord/logs/base_cmval_16.obj', 'r'))\n",
    "    cms[i] = val_cm\n",
    "# val_new_cm = ConfusionMatrix(file=open('../weights/168_efficientnet-b5_f1_oma/logs/base_cmval_new_13.obj', 'r'))"
   ]
  },
  {
   "cell_type": "code",
   "execution_count": null,
   "metadata": {
    "ExecuteTime": {
     "end_time": "2019-09-04T19:48:17.878677Z",
     "start_time": "2019-09-04T19:48:17.876295Z"
    }
   },
   "outputs": [],
   "source": [
    "from collections import defaultdict\n",
    "f1 = defaultdict(int)\n",
    "for i in range(5):\n",
    "    cf1 = cms[i].class_stat['F1']\n",
    "    for j in range(5):\n",
    "        f1[j] += cf1[j]/5\n",
    "    "
   ]
  },
  {
   "cell_type": "code",
   "execution_count": null,
   "metadata": {
    "ExecuteTime": {
     "end_time": "2019-09-04T19:48:18.342684Z",
     "start_time": "2019-09-04T19:48:18.340135Z"
    }
   },
   "outputs": [],
   "source": [
    "f1"
   ]
  },
  {
   "cell_type": "code",
   "execution_count": null,
   "metadata": {
    "ExecuteTime": {
     "end_time": "2019-09-04T19:38:17.449090Z",
     "start_time": "2019-09-04T19:38:17.446766Z"
    }
   },
   "outputs": [],
   "source": [
    "val_cm.print_normalized_matrix()"
   ]
  },
  {
   "cell_type": "code",
   "execution_count": null,
   "metadata": {
    "ExecuteTime": {
     "end_time": "2019-08-20T16:20:07.423029Z",
     "start_time": "2019-08-20T16:20:07.420429Z"
    }
   },
   "outputs": [],
   "source": [
    "train_cm.print_matrix()"
   ]
  },
  {
   "cell_type": "code",
   "execution_count": null,
   "metadata": {
    "ExecuteTime": {
     "end_time": "2019-08-20T16:20:07.900312Z",
     "start_time": "2019-08-20T16:20:07.898227Z"
    }
   },
   "outputs": [],
   "source": [
    "val_cm.print_matrix()"
   ]
  },
  {
   "cell_type": "code",
   "execution_count": null,
   "metadata": {},
   "outputs": [],
   "source": []
  },
  {
   "cell_type": "markdown",
   "metadata": {},
   "source": [
    "Effnet fold1, ckpt10 is my best performing model so far. LB: 0.812, \n",
    "Things to notice:\n",
    "* Val thresholds optimized were used for val metric val_cm."
   ]
  },
  {
   "cell_type": "code",
   "execution_count": null,
   "metadata": {
    "ExecuteTime": {
     "end_time": "2019-07-20T19:01:51.854288Z",
     "start_time": "2019-07-20T19:01:51.851336Z"
    }
   },
   "outputs": [],
   "source": [
    "val_cm.overall_stat"
   ]
  },
  {
   "cell_type": "code",
   "execution_count": null,
   "metadata": {
    "ExecuteTime": {
     "end_time": "2019-08-19T12:37:27.484764Z",
     "start_time": "2019-08-19T12:37:27.481856Z"
    }
   },
   "outputs": [],
   "source": [
    "np.mean(list(val_cm.class_stat['TPR'].values()))"
   ]
  },
  {
   "cell_type": "code",
   "execution_count": null,
   "metadata": {
    "ExecuteTime": {
     "end_time": "2019-08-19T12:38:22.408078Z",
     "start_time": "2019-08-19T12:38:22.404918Z"
    }
   },
   "outputs": [],
   "source": [
    "val_cm.class_stat['TPR'], val_cm.class_stat['PPV'], val_cm.class_stat['F1'],"
   ]
  },
  {
   "cell_type": "code",
   "execution_count": null,
   "metadata": {
    "ExecuteTime": {
     "end_time": "2019-08-12T05:47:42.990113Z",
     "start_time": "2019-08-12T05:47:42.984310Z"
    }
   },
   "outputs": [],
   "source": [
    "cm = val_cm\n",
    "cm.matrix"
   ]
  },
  {
   "cell_type": "code",
   "execution_count": null,
   "metadata": {
    "ExecuteTime": {
     "end_time": "2019-08-12T05:47:43.275521Z",
     "start_time": "2019-08-12T05:47:43.269254Z"
    }
   },
   "outputs": [],
   "source": [
    "cm.TP, cm.FP, cm.TN, cm.FN"
   ]
  },
  {
   "cell_type": "code",
   "execution_count": null,
   "metadata": {
    "ExecuteTime": {
     "end_time": "2019-08-12T05:47:47.989355Z",
     "start_time": "2019-08-12T05:47:47.853776Z"
    }
   },
   "outputs": [],
   "source": [
    "plt.bar(cm.FP.keys(), cm.FP.values())\n",
    "plt.title('FPs');"
   ]
  },
  {
   "cell_type": "code",
   "execution_count": null,
   "metadata": {
    "ExecuteTime": {
     "end_time": "2019-08-12T05:47:48.237378Z",
     "start_time": "2019-08-12T05:47:48.117255Z"
    }
   },
   "outputs": [],
   "source": [
    "plt.bar(cm.FN.keys(), cm.FN.values())\n",
    "plt.title('FNs');"
   ]
  },
  {
   "cell_type": "markdown",
   "metadata": {
    "heading_collapsed": true
   },
   "source": [
    "### Let's plot some mispredictions"
   ]
  },
  {
   "cell_type": "code",
   "execution_count": null,
   "metadata": {
    "ExecuteTime": {
     "end_time": "2019-08-20T10:18:49.064145Z",
     "start_time": "2019-08-20T10:18:49.049654Z"
    },
    "hidden": true
   },
   "outputs": [],
   "source": [
    "fig = plt.figure(figsize=(25, 16))\n",
    "IMG_SIZE=512\n",
    "for class_id in sorted(diff['actual'].unique()):\n",
    "    samples = len(diff[diff['actual'] == class_id])\n",
    "    samples = 5 if samples > 5 else samples # make sure there are atleast 5 predictions to plot or go for whatever is available\n",
    "    for i, (idx, row) in enumerate(diff.loc[diff['actual'] == class_id].sample(samples, random_state=69).iterrows()):\n",
    "        ax = fig.add_subplot(5, 5, class_id * 5 + i + 1, xticks=[], yticks=[])\n",
    "        path=f\"../data/train_images/{row['id_code']}.png\"\n",
    "        image = cv2.imread(path)\n",
    "        image = cv2.cvtColor(image, cv2.COLOR_BGR2GRAY)\n",
    "        image = cv2.resize(image, (IMG_SIZE, IMG_SIZE))\n",
    "        image=cv2.addWeighted ( image,4, cv2.GaussianBlur( image , (0,0) , IMG_SIZE/10) ,-4 ,128) # the trick is to add this line\n",
    "        plt.imshow(image, cmap='gray')\n",
    "        ax.set_title('Actual: %d Pred: %d | %s' % (class_id, row['pred'], idx) )"
   ]
  },
  {
   "cell_type": "code",
   "execution_count": null,
   "metadata": {
    "ExecuteTime": {
     "end_time": "2019-07-07T11:31:47.295232Z",
     "start_time": "2019-07-07T11:31:45.802635Z"
    },
    "hidden": true
   },
   "outputs": [],
   "source": [
    "#i = 1546 \n",
    "i = 494\n",
    "#img = mpimg.imread() # remember the indices of diff are same as df\n",
    "path = '../data/train_images/' + df.iloc[i]['id_code'] + '.png'\n",
    "image = cv2.imread(path)\n",
    "#image = cv2.cvtColor(image, cv2.COLOR_BGR2GRAY)\n",
    "image = cv2.cvtColor(image, cv2.COLOR_BGR2RGB)\n",
    "#image = cv2.resize(image, (IMG_SIZE, IMG_SIZE))\n",
    "#|image=cv2.addWeighted (image, 4, cv2.GaussianBlur( image , (0,0) , IMG_SIZE/10) ,-4 ,128) # the trick is to add this line\n",
    "fig = plt.figure(figsize=(25, 16))\n",
    "#plt.imshow(image, cmap='gray')\n",
    "plt.imshow(image, )\n",
    "plt.title(\"Actual: %d | Pred: %d\" % (df.iloc[i]['actual'], df.iloc[i]['pred']))\n",
    "plt.show()"
   ]
  },
  {
   "cell_type": "markdown",
   "metadata": {
    "hidden": true
   },
   "source": [
    "#####  https://www.eyeops.com/contents/our-services/eye-diseases/diabetic-retinopathy"
   ]
  },
  {
   "cell_type": "code",
   "execution_count": null,
   "metadata": {
    "ExecuteTime": {
     "end_time": "2019-07-07T12:44:41.186173Z",
     "start_time": "2019-07-07T12:44:41.144464Z"
    },
    "hidden": true
   },
   "outputs": [],
   "source": [
    "image = cv2.resize(image, (IMG_SIZE, IMG_SIZE, 3))\n"
   ]
  },
  {
   "cell_type": "code",
   "execution_count": null,
   "metadata": {
    "hidden": true
   },
   "outputs": [],
   "source": []
  },
  {
   "cell_type": "markdown",
   "metadata": {
    "heading_collapsed": true
   },
   "source": [
    "### Base model Activation heatmaps"
   ]
  },
  {
   "cell_type": "code",
   "execution_count": null,
   "metadata": {
    "ExecuteTime": {
     "end_time": "2019-07-10T11:05:45.670912Z",
     "start_time": "2019-07-10T11:05:45.667897Z"
    },
    "hidden": true
   },
   "outputs": [],
   "source": [
    "# Visualize feature maps\n",
    "activation = {}\n",
    "def get_activation(name):\n",
    "    def hook(model, input, output):\n",
    "        activation[name] = output.detach()\n",
    "    return hook\n"
   ]
  },
  {
   "cell_type": "code",
   "execution_count": null,
   "metadata": {
    "ExecuteTime": {
     "end_time": "2019-07-10T11:05:46.199996Z",
     "start_time": "2019-07-10T11:05:46.027345Z"
    },
    "hidden": true
   },
   "outputs": [],
   "source": [
    "model_name = \"densenet121\"\n",
    "model = Model(model_name, 5)"
   ]
  },
  {
   "cell_type": "code",
   "execution_count": null,
   "metadata": {
    "ExecuteTime": {
     "end_time": "2019-07-10T11:05:47.979581Z",
     "start_time": "2019-07-10T11:05:47.974068Z"
    },
    "hidden": true
   },
   "outputs": [],
   "source": [
    "model.model.features.norm5.register_forward_hook(get_activation('norm5'))"
   ]
  },
  {
   "cell_type": "code",
   "execution_count": null,
   "metadata": {
    "ExecuteTime": {
     "end_time": "2019-07-10T11:05:48.265180Z",
     "start_time": "2019-07-10T11:05:48.234188Z"
    },
    "hidden": true
   },
   "outputs": [],
   "source": [
    "fold =0\n",
    "total_folds = 10\n",
    "images_folder = '../data/train_images/'\n",
    "df_path = '../data/train.csv'\n",
    "size = 224\n",
    "mean = (0.485, 0.456, 0.406)\n",
    "std = (0.229, 0.224, 0.225)\n",
    "dataloaders = {\n",
    "    phase: provider(\n",
    "        fold,\n",
    "        total_folds,\n",
    "        images_folder,\n",
    "        df_path,\n",
    "        phase,\n",
    "        size,\n",
    "        mean,\n",
    "        std,\n",
    "        batch_size=1,\n",
    "        num_workers=1,\n",
    "    )\n",
    "    for phase in [\"train\", \"val\"]\n",
    "}\n",
    "\n",
    "def unnormalize(img):\n",
    "    mean = torch.as_tensor([0.485, 0.456, 0.406])\n",
    "    std = torch.as_tensor([0.229, 0.224, 0.225])\n",
    "    #return (img * std) + mean\n",
    "    for t, m, s in zip(img, mean, std):    \n",
    "        t.mul_(s).add_(m)\n",
    "    return img.permute(1, 2, 0)# * 255"
   ]
  },
  {
   "cell_type": "code",
   "execution_count": null,
   "metadata": {
    "ExecuteTime": {
     "end_time": "2019-07-10T11:10:18.465162Z",
     "start_time": "2019-07-10T11:10:18.270517Z"
    },
    "hidden": true
   },
   "outputs": [],
   "source": [
    "batch = next(iter(dataloaders['train']))"
   ]
  },
  {
   "cell_type": "code",
   "execution_count": null,
   "metadata": {
    "ExecuteTime": {
     "end_time": "2019-07-10T11:10:22.695011Z",
     "start_time": "2019-07-10T11:10:22.561711Z"
    },
    "hidden": true
   },
   "outputs": [],
   "source": [
    "fnames, images, labels = batch\n",
    "output = model(images) # during forward pass, model populates the activation dictionary using forward hook"
   ]
  },
  {
   "cell_type": "code",
   "execution_count": null,
   "metadata": {
    "ExecuteTime": {
     "end_time": "2019-07-10T11:10:22.930418Z",
     "start_time": "2019-07-10T11:10:22.927807Z"
    },
    "hidden": true
   },
   "outputs": [],
   "source": [
    "act = activation['norm5'] # 1, 1024, 7, 7\n",
    "mean_act = torch.mean(act[0], 0) # take mean across 1024 channels"
   ]
  },
  {
   "cell_type": "code",
   "execution_count": null,
   "metadata": {
    "ExecuteTime": {
     "end_time": "2019-07-10T11:10:23.500616Z",
     "start_time": "2019-07-10T11:10:23.315926Z"
    },
    "hidden": true
   },
   "outputs": [],
   "source": [
    "plt.imshow(mean_act, cmap='viridis')"
   ]
  },
  {
   "cell_type": "code",
   "execution_count": null,
   "metadata": {
    "ExecuteTime": {
     "end_time": "2019-07-10T11:10:23.664578Z",
     "start_time": "2019-07-10T11:10:23.660798Z"
    },
    "hidden": true
   },
   "outputs": [],
   "source": [
    "unimage = unnormalize(images[0].clone())"
   ]
  },
  {
   "cell_type": "code",
   "execution_count": null,
   "metadata": {
    "ExecuteTime": {
     "end_time": "2019-07-10T11:20:06.762037Z",
     "start_time": "2019-07-10T11:20:06.157364Z"
    },
    "hidden": true
   },
   "outputs": [],
   "source": [
    "plt.figure(figsize=(10, 10))\n",
    "plt.subplot(1, 2, 1)\n",
    "plt.imshow(unimage);\n",
    "plt.subplot(1, 2, 2)\n",
    "plt.imshow(mpimg.imread(f'../data/train_images/{fnames[0]}.png')); \n",
    "plt.show(); # original image"
   ]
  },
  {
   "cell_type": "code",
   "execution_count": null,
   "metadata": {
    "ExecuteTime": {
     "end_time": "2019-07-10T10:35:37.176600Z",
     "start_time": "2019-07-10T10:35:37.169958Z"
    },
    "hidden": true
   },
   "outputs": [],
   "source": [
    "torch.max(unimage), torch.min(unimage)"
   ]
  },
  {
   "cell_type": "code",
   "execution_count": null,
   "metadata": {
    "ExecuteTime": {
     "end_time": "2019-07-10T10:37:09.699527Z",
     "start_time": "2019-07-10T10:37:09.696562Z"
    },
    "hidden": true
   },
   "outputs": [],
   "source": [
    "torch.max(images), torch.min(images)"
   ]
  },
  {
   "cell_type": "markdown",
   "metadata": {
    "heading_collapsed": true
   },
   "source": [
    "### Where's model failing? Hard examples? Analysing train set"
   ]
  },
  {
   "cell_type": "code",
   "execution_count": null,
   "metadata": {
    "ExecuteTime": {
     "end_time": "2019-09-01T18:54:19.110923Z",
     "start_time": "2019-09-01T18:54:19.092057Z"
    },
    "hidden": true
   },
   "outputs": [],
   "source": [
    "weights_folder = '../weights/318_effnet-b5_f1_pordcw/'\n",
    "npy_folder = weights_folder + 'train_npy/256/'\n",
    "files = glob(os.path.join(npy_folder, '*.npy'))\n",
    "preds = {}\n",
    "for file in files:\n",
    "    ep = file.split('/')[-1]\n",
    "    preds[ep] = np.load(file)\n",
    "len(sorted(preds.keys()))"
   ]
  },
  {
   "cell_type": "code",
   "execution_count": null,
   "metadata": {
    "ExecuteTime": {
     "end_time": "2019-09-01T18:54:19.302178Z",
     "start_time": "2019-09-01T18:54:19.294085Z"
    },
    "hidden": true
   },
   "outputs": [],
   "source": [
    "y_train = pd.read_csv('../data/train.csv')['diagnosis'].values"
   ]
  },
  {
   "cell_type": "code",
   "execution_count": null,
   "metadata": {
    "ExecuteTime": {
     "end_time": "2019-09-01T18:54:19.558446Z",
     "start_time": "2019-09-01T18:54:19.505937Z"
    },
    "hidden": true
   },
   "outputs": [],
   "source": [
    "for key in sorted(preds.keys(), key=lambda x: int(x.split('.')[0].split('_')[1][4:])):\n",
    "    pred, val_bt = preds[key]# val_bt = validation best threhsold\n",
    "    #best_threshold = get_optimised_threshold(pred)\n",
    "#     best_threshold = val_bt\n",
    "#     best_threshold = np.array([0.5, 1.5, 2.5, 3.3])\n",
    "#     base_threshold = np.array([0.5, 1.5, 2.5, 3.5])\n",
    "#     print(f'\\n{key}: {best_threshold}')\n",
    "#     print(f'{key}')\n",
    "#     pred1 = predict(pred, best_threshold)\n",
    "#     pred2 = predict(pred, base_threshold)\n",
    "#     score = cohen_kappa_score(y_test, pred1, weights=\"quadratic\")\n",
    "#     acc = accuracy_score(y_test, pred1)\n",
    "#     print('best:', np.unique(pred1, return_counts=True)[1])\n",
    "#     print(f'best score: {score}, acc: {acc}')\n",
    "#     print('*' * 10)\n",
    "#     score = cohen_kappa_score(y_train, pred2, weights=\"quadratic\")\n",
    "#     acc = accuracy_score(y_test, pred2)\n",
    "#     print('base:', np.unique(pred2, return_counts=True)[1])\n",
    "#     print(f'base qwk: {score}, acc: {acc}') \n",
    "    th = 0.5\n",
    "    th = best_th\n",
    "#     th = [0.5, 0.5, 0.5, 0.4, 0.4]\n",
    "    pred = (pred > th).astype('uint8')\n",
    "    pred1 = get_preds(pred, 5)\n",
    "    score = cohen_kappa_score(y_train, pred1, weights=\"quadratic\")\n",
    "    acc = accuracy_score(y_train, pred1)\n",
    "\n",
    "    print('base:', np.unique(pred1, return_counts=True)[1])\n",
    "    print(f'{key} qwk: {score}, acc: {acc}')\n"
   ]
  },
  {
   "cell_type": "markdown",
   "metadata": {
    "hidden": true
   },
   "source": [
    "It's utmost important to analyse the predictions on train and val set seperately"
   ]
  },
  {
   "cell_type": "code",
   "execution_count": null,
   "metadata": {
    "ExecuteTime": {
     "end_time": "2019-09-01T18:54:21.589231Z",
     "start_time": "2019-09-01T18:54:21.586400Z"
    },
    "hidden": true
   },
   "outputs": [],
   "source": [
    "# npy files created with test.py\n",
    "\n",
    "# train_pred, best_thresholds = np.load('../weights/21-7_efficientnet-b5_fold1_bgccpo300aug2/train_npy/train_ckpt15.npy')\n",
    "#train_pred, best_thresholds = np.load('../weights/24-7_efficientnet-b5_fold1_poscwwd/train_npy/train_ckpt29.npy')\n",
    "# train_pred, best_thresholds = np.load('../weights/268_efficientnet-b4_f1_pord/train_npy/256/train_ckpt30.npy')\n",
    "key = 'train_ckpt15.npy'\n",
    "raw_pred, best_th = preds[key]\n",
    "base_th = [0.5, 0.5, 0.5, 0.5, 0.5]\n",
    "# train_bestpred = predict(train_pred, best_thresholds)\n",
    "# train_basepred = predict(train_pred, base_th)\n",
    "train_pred = (raw_pred > base_th).astype('uint8')\n",
    "train_basepred = get_preds(train_pred, 5)"
   ]
  },
  {
   "cell_type": "code",
   "execution_count": null,
   "metadata": {
    "ExecuteTime": {
     "end_time": "2019-09-01T11:45:40.761399Z",
     "start_time": "2019-09-01T11:45:40.759595Z"
    },
    "hidden": true
   },
   "outputs": [],
   "source": [
    "# train_df = pd.read_csv('../data/train.csv')\n",
    "# train_df['diagnosis'] = train_basepred\n",
    "# train_df.to_csv('../weights/118_efficientnet-b5_f1_postraug2/train_ckpt16.csv', index=False)"
   ]
  },
  {
   "cell_type": "code",
   "execution_count": null,
   "metadata": {
    "ExecuteTime": {
     "end_time": "2019-09-01T18:54:27.308695Z",
     "start_time": "2019-09-01T18:54:27.143834Z"
    },
    "hidden": true
   },
   "outputs": [],
   "source": [
    "df = pd.read_csv('../data/train.csv')\n",
    "val_df = pd.read_csv(weights_folder + 'val.csv')\n",
    "df['is_val'] = df.apply(lambda x: int(x[0] in val_df.id_code.tolist()), axis=1)\n",
    "df['basepred'] = train_basepred\n",
    "df['dist'] = abs(df['basepred']-df['diagnosis'])\n",
    "val_df = df.query('is_val==1')\n",
    "train_df = df.query('is_val==0')\n",
    "y_train = df.diagnosis.values"
   ]
  },
  {
   "cell_type": "code",
   "execution_count": null,
   "metadata": {
    "ExecuteTime": {
     "end_time": "2019-09-01T11:47:31.178924Z",
     "start_time": "2019-09-01T11:47:31.136320Z"
    },
    "hidden": true
   },
   "outputs": [],
   "source": [
    "best_th = optimize(raw_pred, y_train.flatten())\n",
    "print('best thresholds:', best_th)\n",
    "pred = (raw_pred > best_th).astype('uint8')\n",
    "pred1 = get_preds(pred, 5)\n",
    "cm = ConfusionMatrix(y_train, pred1.flatten())\n",
    "cm.print_matrix()\n",
    "score = cohen_kappa_score(y_train, pred1, weights=\"quadratic\")\n",
    "print(f'{key} qwk: {score}, acc: {cm.overall_stat[\"Overall ACC\"]}', np.unique(pred1, return_counts=True)[1])\n",
    "cm.class_stat['F1']"
   ]
  },
  {
   "cell_type": "code",
   "execution_count": null,
   "metadata": {
    "ExecuteTime": {
     "end_time": "2019-09-01T11:47:44.640945Z",
     "start_time": "2019-09-01T11:47:44.604574Z"
    },
    "hidden": true
   },
   "outputs": [],
   "source": [
    "# val set optimization\n",
    "val_raw_pred = raw_pred[val_df.index]\n",
    "y_train = val_df.diagnosis.values\n",
    "best_th = optimize(val_raw_pred, y_train.flatten())\n",
    "print('best thresholds:', best_th)\n",
    "pred = (val_raw_pred > best_th).astype('uint8')\n",
    "pred1 = get_preds(pred, 5)\n",
    "cm = ConfusionMatrix(y_train, pred1.flatten())\n",
    "cm.print_matrix()\n",
    "score = cohen_kappa_score(y_train, pred1, weights=\"quadratic\")\n",
    "print(f'{key} qwk: {score}, acc: {cm.overall_stat[\"Overall ACC\"]}', np.unique(pred1, return_counts=True)[1])\n",
    "cm.class_stat['F1']"
   ]
  },
  {
   "cell_type": "code",
   "execution_count": null,
   "metadata": {
    "ExecuteTime": {
     "end_time": "2019-09-01T11:47:37.023599Z",
     "start_time": "2019-09-01T11:47:36.983356Z"
    },
    "hidden": true
   },
   "outputs": [],
   "source": [
    "# only train set optimization\n",
    "train_raw_pred = raw_pred[train_df.index]\n",
    "y_train = train_df.diagnosis.values\n",
    "best_th = optimize(train_raw_pred, y_train.flatten())\n",
    "print('best thresholds:', best_th)\n",
    "pred = (train_raw_pred > best_th).astype('uint8')\n",
    "pred1 = get_preds(pred, 5)\n",
    "cm = ConfusionMatrix(y_train, pred1.flatten())\n",
    "cm.print_matrix()\n",
    "score = cohen_kappa_score(y_train, pred1, weights=\"quadratic\")\n",
    "print(f'{key} qwk: {score}, acc: {cm.overall_stat[\"Overall ACC\"]}', np.unique(pred1, return_counts=True)[1])\n",
    "cm.class_stat['F1']"
   ]
  },
  {
   "cell_type": "markdown",
   "metadata": {
    "heading_collapsed": true,
    "hidden": true
   },
   "source": [
    "##### messidor preds"
   ]
  },
  {
   "cell_type": "code",
   "execution_count": null,
   "metadata": {
    "ExecuteTime": {
     "end_time": "2019-09-01T10:47:41.797310Z",
     "start_time": "2019-09-01T10:47:41.789526Z"
    },
    "hidden": true
   },
   "outputs": [],
   "source": [
    "# messidor train preds\n",
    "df = pd.read_csv('../data/train_messidor.csv')\n",
    "key = 'train_ckpt17.npy'\n",
    "train_pred = np.load('../weights/318_effnet-b5_f1_pord/mes_npy/256/mes_ckpt17.npy')[0]\n",
    "train_pred = (train_pred > 0.5).astype('uint8')\n",
    "train_basepred = get_preds(train_pred, 5)\n",
    "df['basepred'] = train_basepred\n",
    "df['dist'] = abs(df['basepred']-df['diagnosis'])"
   ]
  },
  {
   "cell_type": "code",
   "execution_count": null,
   "metadata": {
    "ExecuteTime": {
     "end_time": "2019-09-01T10:53:25.452124Z",
     "start_time": "2019-09-01T10:53:25.446388Z"
    },
    "hidden": true
   },
   "outputs": [],
   "source": [
    "# idrid train preds\n",
    "df = pd.read_csv('../data/idrid.csv')\n",
    "key = 'train_ckpt17.npy'\n",
    "train_pred = np.load('../weights/318_effnet-b5_f1_pord/idrid_npy/256/idrid_ckpt17.npy')[0]\n",
    "train_pred = (train_pred > 0.5).astype('uint8')\n",
    "train_basepred = get_preds(train_pred, 5)\n",
    "df['basepred'] = train_basepred\n",
    "df['dist'] = abs(df['basepred']-df['diagnosis'])"
   ]
  },
  {
   "cell_type": "code",
   "execution_count": null,
   "metadata": {
    "ExecuteTime": {
     "end_time": "2019-09-01T10:53:26.583275Z",
     "start_time": "2019-09-01T10:53:26.577668Z"
    },
    "hidden": true
   },
   "outputs": [],
   "source": [
    "df.head()"
   ]
  },
  {
   "cell_type": "markdown",
   "metadata": {
    "heading_collapsed": true,
    "hidden": true
   },
   "source": [
    "##### messidor train evaluation"
   ]
  },
  {
   "cell_type": "code",
   "execution_count": null,
   "metadata": {
    "ExecuteTime": {
     "end_time": "2019-09-01T10:53:33.873067Z",
     "start_time": "2019-09-01T10:53:33.869409Z"
    },
    "hidden": true
   },
   "outputs": [],
   "source": [
    "df.diagnosis.value_counts()\n",
    "# train_df.head()"
   ]
  },
  {
   "cell_type": "code",
   "execution_count": null,
   "metadata": {
    "ExecuteTime": {
     "end_time": "2019-09-01T11:27:21.134733Z",
     "start_time": "2019-09-01T11:27:21.128080Z"
    },
    "hidden": true
   },
   "outputs": [],
   "source": [
    "cm = ConfusionMatrix(df['diagnosis'].values, df['basepred'].values)\n",
    "# cm.print_matrix()\n",
    "cm.print_normalized_matrix()"
   ]
  },
  {
   "cell_type": "markdown",
   "metadata": {
    "hidden": true
   },
   "source": [
    "IMP: Predictions on messidor, by the model trained on old + finetuned on new only dataset: Almost all class 1 are predicted as 0, overall all heavily biased towards class 0, class 3 predicted as 2, no class 3 and 4 preds (given no class 3 of mess includes 3 and 4 of new dataset)\n",
    "\n",
    "Re: idrid: it does look like decent pred, except ~70% of class 1 go for class 0, unlike in 2015 where only 10% go for class 0 and ~50% go for class 2"
   ]
  },
  {
   "cell_type": "markdown",
   "metadata": {
    "hidden": true
   },
   "source": [
    "##### Train/Val"
   ]
  },
  {
   "cell_type": "code",
   "execution_count": null,
   "metadata": {
    "ExecuteTime": {
     "end_time": "2019-09-01T11:47:52.314729Z",
     "start_time": "2019-09-01T11:47:52.305432Z"
    },
    "hidden": true
   },
   "outputs": [],
   "source": [
    "cm = ConfusionMatrix(train_df['diagnosis'].values, train_df['basepred'].values)\n",
    "cm.print_normalized_matrix()\n",
    "cm.print_matrix()\n",
    "cm.overall_stat['Overall ACC']"
   ]
  },
  {
   "cell_type": "code",
   "execution_count": null,
   "metadata": {
    "ExecuteTime": {
     "end_time": "2019-09-01T11:47:55.329340Z",
     "start_time": "2019-09-01T11:47:55.305702Z"
    },
    "hidden": true
   },
   "outputs": [],
   "source": [
    "cm = ConfusionMatrix(val_df['diagnosis'].values, val_df['basepred'].values)\n",
    "cm.print_normalized_matrix()\n",
    "cm.print_matrix()\n",
    "cm.overall_stat['Overall ACC']"
   ]
  },
  {
   "cell_type": "code",
   "execution_count": null,
   "metadata": {
    "ExecuteTime": {
     "end_time": "2019-09-01T11:46:10.518929Z",
     "start_time": "2019-09-01T11:46:10.517086Z"
    },
    "hidden": true,
    "scrolled": false
   },
   "outputs": [],
   "source": [
    "# print(cm)"
   ]
  },
  {
   "cell_type": "code",
   "execution_count": null,
   "metadata": {
    "ExecuteTime": {
     "end_time": "2019-09-01T09:56:45.307600Z",
     "start_time": "2019-09-01T09:56:45.304616Z"
    },
    "hidden": true
   },
   "outputs": [],
   "source": [
    "list(cm.class_stat['PPV'].values())"
   ]
  },
  {
   "cell_type": "code",
   "execution_count": null,
   "metadata": {
    "ExecuteTime": {
     "end_time": "2019-09-01T18:54:34.007844Z",
     "start_time": "2019-09-01T18:54:34.000544Z"
    },
    "hidden": true
   },
   "outputs": [],
   "source": [
    "# qwk in bestpred, basepred\n",
    "print('qwk:', cohen_kappa_score(train_df['basepred'].values, train_df['diagnosis'].values, weights=\"quadratic\" ))\n",
    "print('acc:', accuracy_score(train_df['basepred'].values, train_df['diagnosis'].values))"
   ]
  },
  {
   "cell_type": "code",
   "execution_count": null,
   "metadata": {
    "ExecuteTime": {
     "end_time": "2019-09-01T18:54:34.384659Z",
     "start_time": "2019-09-01T18:54:34.380172Z"
    },
    "hidden": true
   },
   "outputs": [],
   "source": [
    "base_diff = train_df.query(\"diagnosis != basepred\")\n",
    "# best_diff = train_df.query(\"diagnosis != bestpred\")"
   ]
  },
  {
   "cell_type": "code",
   "execution_count": null,
   "metadata": {
    "ExecuteTime": {
     "end_time": "2019-09-01T18:54:34.845284Z",
     "start_time": "2019-09-01T18:54:34.842702Z"
    },
    "hidden": true
   },
   "outputs": [],
   "source": [
    "train_df.shape, base_diff.shape, #best_diff.shape # base_diff > best_diff means best_thresholds is better"
   ]
  },
  {
   "cell_type": "code",
   "execution_count": null,
   "metadata": {
    "ExecuteTime": {
     "end_time": "2019-09-01T18:54:35.286785Z",
     "start_time": "2019-09-01T18:54:35.280255Z"
    },
    "hidden": true
   },
   "outputs": [],
   "source": [
    "diff = base_diff.copy()\n",
    "diff['pred'] = diff['basepred']\n",
    "diff = diff.drop(columns=['basepred'])"
   ]
  },
  {
   "cell_type": "code",
   "execution_count": null,
   "metadata": {
    "ExecuteTime": {
     "end_time": "2019-09-01T18:54:35.706759Z",
     "start_time": "2019-09-01T18:54:35.702500Z"
    },
    "hidden": true
   },
   "outputs": [],
   "source": [
    "print('diff qwk:', cohen_kappa_score(diff['pred'].values, diff['diagnosis'].values, weights=\"quadratic\" ))"
   ]
  },
  {
   "cell_type": "code",
   "execution_count": null,
   "metadata": {
    "ExecuteTime": {
     "end_time": "2019-09-01T18:54:36.154718Z",
     "start_time": "2019-09-01T18:54:36.152984Z"
    },
    "hidden": true
   },
   "outputs": [],
   "source": [
    "# diff['diagnosis'].value_counts(sort=False).plot('bar');"
   ]
  },
  {
   "cell_type": "code",
   "execution_count": null,
   "metadata": {
    "ExecuteTime": {
     "end_time": "2019-09-01T18:54:36.607193Z",
     "start_time": "2019-09-01T18:54:36.605118Z"
    },
    "hidden": true
   },
   "outputs": [],
   "source": [
    "# diff['pred'].value_counts(sort=False).plot('bar');"
   ]
  },
  {
   "cell_type": "code",
   "execution_count": null,
   "metadata": {
    "ExecuteTime": {
     "end_time": "2019-09-01T18:54:37.011983Z",
     "start_time": "2019-09-01T18:54:37.009942Z"
    },
    "hidden": true
   },
   "outputs": [],
   "source": [
    "# class wise mispredictions\n",
    "# for i in range(5): diff[diff['diagnosis']==i]['pred'].value_counts(sort=False).plot(kind=\"bar\", title=f'Class: {i}'); plt.show()"
   ]
  },
  {
   "cell_type": "code",
   "execution_count": null,
   "metadata": {
    "ExecuteTime": {
     "end_time": "2019-09-01T18:54:37.309054Z",
     "start_time": "2019-09-01T18:54:37.305425Z"
    },
    "hidden": true
   },
   "outputs": [],
   "source": [
    "cm = ConfusionMatrix(diff['diagnosis'].values, diff['pred'].values)"
   ]
  },
  {
   "cell_type": "code",
   "execution_count": null,
   "metadata": {
    "ExecuteTime": {
     "end_time": "2019-09-01T18:54:37.473886Z",
     "start_time": "2019-09-01T18:54:37.471672Z"
    },
    "hidden": true
   },
   "outputs": [],
   "source": [
    "cm.print_matrix()"
   ]
  },
  {
   "cell_type": "code",
   "execution_count": null,
   "metadata": {
    "ExecuteTime": {
     "end_time": "2019-09-01T18:54:37.720746Z",
     "start_time": "2019-09-01T18:54:37.712128Z"
    },
    "hidden": true
   },
   "outputs": [],
   "source": [
    "diff.head()"
   ]
  },
  {
   "cell_type": "code",
   "execution_count": null,
   "metadata": {
    "ExecuteTime": {
     "end_time": "2019-08-22T12:17:17.943365Z",
     "start_time": "2019-08-22T12:17:17.941916Z"
    },
    "hidden": true
   },
   "outputs": [],
   "source": [
    "# diff.apply(lambda x: print(f'cp all_images/{x[0]} diff/class_{x[1]}'), axis=1);\n",
    "# diff.to_csv('../data/diff/diff.csv')"
   ]
  },
  {
   "cell_type": "code",
   "execution_count": null,
   "metadata": {
    "ExecuteTime": {
     "end_time": "2019-08-20T16:43:18.165995Z",
     "start_time": "2019-08-20T16:43:18.158287Z"
    },
    "hidden": true
   },
   "outputs": [],
   "source": []
  },
  {
   "cell_type": "code",
   "execution_count": null,
   "metadata": {
    "hidden": true
   },
   "outputs": [],
   "source": []
  },
  {
   "cell_type": "code",
   "execution_count": null,
   "metadata": {
    "hidden": true
   },
   "outputs": [],
   "source": []
  },
  {
   "cell_type": "code",
   "execution_count": null,
   "metadata": {
    "ExecuteTime": {
     "end_time": "2019-08-22T12:18:14.175129Z",
     "start_time": "2019-08-22T12:17:19.806875Z"
    },
    "hidden": true
   },
   "outputs": [],
   "source": [
    "from collections import defaultdict\n",
    "train_sizes_counts = defaultdict(int) \n",
    "train_size2class = defaultdict(list)\n",
    "for idx, row in tqdm(train_df.iterrows()):\n",
    "    path = '../data/all_images/' + row.id_code\n",
    "    img = cv2.imread(path)\n",
    "    train_sizes_counts[img.shape] += 1\n",
    "    train_size2class[img.shape].append(row.diagnosis)\n",
    "train_size2class = {x: np.unique(train_size2class[x], return_counts=True)[1] for x in train_size2class}"
   ]
  },
  {
   "cell_type": "code",
   "execution_count": null,
   "metadata": {
    "ExecuteTime": {
     "end_time": "2019-08-16T19:46:03.319190Z",
     "start_time": "2019-08-16T19:46:03.314278Z"
    },
    "hidden": true
   },
   "outputs": [],
   "source": [
    "train_sizes_counts"
   ]
  },
  {
   "cell_type": "code",
   "execution_count": null,
   "metadata": {
    "ExecuteTime": {
     "end_time": "2019-08-16T19:46:12.822945Z",
     "start_time": "2019-08-16T19:46:12.816937Z"
    },
    "hidden": true
   },
   "outputs": [],
   "source": [
    "train_size2class"
   ]
  },
  {
   "cell_type": "code",
   "execution_count": null,
   "metadata": {
    "ExecuteTime": {
     "end_time": "2019-08-16T19:36:34.442766Z",
     "start_time": "2019-08-16T19:34:33.856817Z"
    },
    "hidden": true
   },
   "outputs": [],
   "source": [
    "from collections import defaultdict\n",
    "sizes_counts = defaultdict(int) \n",
    "size2class = defaultdict(list)\n",
    "for idx, row in tqdm(diff.iterrows()):\n",
    "    path = '../data/all_images/' + row.id_code\n",
    "    img = cv2.imread(path)\n",
    "    sizes_counts[img.shape] += 1\n",
    "    size2class[img.shape].append(row.diagnosis)\n",
    "size2class = {x: np.unique(size2class[x], return_counts=True)[1] for x in size2class}"
   ]
  },
  {
   "cell_type": "code",
   "execution_count": null,
   "metadata": {
    "ExecuteTime": {
     "end_time": "2019-08-16T19:38:46.698533Z",
     "start_time": "2019-08-16T19:38:46.695465Z"
    },
    "hidden": true
   },
   "outputs": [],
   "source": []
  },
  {
   "cell_type": "code",
   "execution_count": null,
   "metadata": {
    "ExecuteTime": {
     "end_time": "2019-08-16T19:39:11.356324Z",
     "start_time": "2019-08-16T19:39:11.352309Z"
    },
    "hidden": true
   },
   "outputs": [],
   "source": [
    "size2class "
   ]
  },
  {
   "cell_type": "code",
   "execution_count": null,
   "metadata": {
    "ExecuteTime": {
     "end_time": "2019-08-16T19:37:01.263535Z",
     "start_time": "2019-08-16T19:37:01.259193Z"
    },
    "hidden": true
   },
   "outputs": [],
   "source": [
    "sizes_counts"
   ]
  },
  {
   "cell_type": "markdown",
   "metadata": {
    "hidden": true
   },
   "source": [
    "What are these (1736, 2416) and (2136, 3216) images??"
   ]
  },
  {
   "cell_type": "code",
   "execution_count": null,
   "metadata": {
    "ExecuteTime": {
     "end_time": "2019-08-16T16:57:00.404647Z",
     "start_time": "2019-08-16T16:57:00.401286Z"
    },
    "hidden": true
   },
   "outputs": [],
   "source": [
    "diff.index # indices of hard examples"
   ]
  },
  {
   "cell_type": "markdown",
   "metadata": {
    "hidden": true
   },
   "source": [
    "#### Extremely hard examples"
   ]
  },
  {
   "cell_type": "code",
   "execution_count": null,
   "metadata": {
    "ExecuteTime": {
     "end_time": "2019-08-22T09:30:33.693806Z",
     "start_time": "2019-08-22T09:30:33.691294Z"
    },
    "hidden": true
   },
   "outputs": [],
   "source": [
    "diff['dist'] = abs(diff['pred'] - diff['diagnosis'])"
   ]
  },
  {
   "cell_type": "code",
   "execution_count": null,
   "metadata": {
    "ExecuteTime": {
     "end_time": "2019-08-22T09:30:34.031832Z",
     "start_time": "2019-08-22T09:30:34.025108Z"
    },
    "hidden": true
   },
   "outputs": [],
   "source": [
    "diff.head()"
   ]
  },
  {
   "cell_type": "code",
   "execution_count": null,
   "metadata": {
    "ExecuteTime": {
     "end_time": "2019-08-22T09:30:35.361405Z",
     "start_time": "2019-08-22T09:30:35.231878Z"
    },
    "hidden": true
   },
   "outputs": [],
   "source": [
    "diff['dist'].value_counts(sort=False).plot('bar')"
   ]
  },
  {
   "cell_type": "code",
   "execution_count": null,
   "metadata": {
    "ExecuteTime": {
     "end_time": "2019-08-22T09:30:45.892408Z",
     "start_time": "2019-08-22T09:30:45.886630Z"
    },
    "hidden": true
   },
   "outputs": [],
   "source": [
    "extremely_hard_examples = diff.query('dist>1')"
   ]
  },
  {
   "cell_type": "code",
   "execution_count": null,
   "metadata": {
    "ExecuteTime": {
     "end_time": "2019-08-22T09:30:46.134484Z",
     "start_time": "2019-08-22T09:30:46.132093Z"
    },
    "hidden": true
   },
   "outputs": [],
   "source": [
    "extremely_hard_examples.shape"
   ]
  },
  {
   "cell_type": "code",
   "execution_count": null,
   "metadata": {
    "ExecuteTime": {
     "end_time": "2019-08-22T09:30:46.929856Z",
     "start_time": "2019-08-22T09:30:46.772076Z"
    },
    "hidden": true
   },
   "outputs": [],
   "source": [
    "extremely_hard_examples['diagnosis'].value_counts(sort=False).plot('bar')"
   ]
  },
  {
   "cell_type": "code",
   "execution_count": null,
   "metadata": {
    "ExecuteTime": {
     "end_time": "2019-08-22T09:30:47.502924Z",
     "start_time": "2019-08-22T09:30:47.375027Z"
    },
    "hidden": true
   },
   "outputs": [],
   "source": [
    "extremely_hard_examples['pred'].value_counts(sort=False).plot('bar')"
   ]
  },
  {
   "cell_type": "code",
   "execution_count": null,
   "metadata": {
    "ExecuteTime": {
     "end_time": "2019-08-22T09:30:53.706349Z",
     "start_time": "2019-08-22T09:30:53.703529Z"
    },
    "hidden": true
   },
   "outputs": [],
   "source": [
    "excm = ConfusionMatrix(extremely_hard_examples['diagnosis'].values, extremely_hard_examples['pred'].values)\n",
    "excm.print_matrix()"
   ]
  },
  {
   "cell_type": "markdown",
   "metadata": {
    "hidden": true
   },
   "source": [
    "Extremely hard examples are from class 4, being predicted as 2, If I fix this issue, boi the score is gonna improve"
   ]
  },
  {
   "cell_type": "markdown",
   "metadata": {
    "hidden": true
   },
   "source": [
    "###### Let's visualize these extremely hard examples"
   ]
  },
  {
   "cell_type": "code",
   "execution_count": null,
   "metadata": {
    "ExecuteTime": {
     "end_time": "2019-08-22T09:40:20.533700Z",
     "start_time": "2019-08-22T09:39:15.404013Z"
    },
    "hidden": true
   },
   "outputs": [],
   "source": [
    "#fig = plt.figure(figsize=(25, 16))\n",
    "IMG_SIZE=300\n",
    "# for class_id in sorted(extremely_hard_examples['diagnosis'].unique()):\n",
    "class_id = 4\n",
    "samples = len(extremely_hard_examples[extremely_hard_examples['diagnosis'] == class_id])\n",
    "for i, (idx, row) in enumerate(extremely_hard_examples.loc[extremely_hard_examples['diagnosis'] == class_id].sample(samples, random_state=69).iterrows()):\n",
    "    path=f\"../data/aug_6/{row['id_code']}\"\n",
    "    image = cv2.imread(path)\n",
    "    print(image.shape)\n",
    "    plt.imshow(image)\n",
    "    prob = train_pred[idx]#[row.index.values]\n",
    "    plt.title('diagnosis: %d pred: %d (%f) | %s' % (class_id, row['pred'], prob, idx) )\n",
    "    plt.show()"
   ]
  },
  {
   "cell_type": "code",
   "execution_count": null,
   "metadata": {
    "ExecuteTime": {
     "end_time": "2019-08-20T11:45:42.246882Z",
     "start_time": "2019-08-20T11:45:42.242772Z"
    },
    "hidden": true
   },
   "outputs": [],
   "source": [
    "extremely_hard_examples.index"
   ]
  },
  {
   "cell_type": "code",
   "execution_count": null,
   "metadata": {
    "ExecuteTime": {
     "end_time": "2019-08-20T11:45:59.389302Z",
     "start_time": "2019-08-20T11:45:59.384562Z"
    },
    "hidden": true
   },
   "outputs": [],
   "source": [
    "extremely_hard_examples.loc[3218]"
   ]
  },
  {
   "cell_type": "code",
   "execution_count": null,
   "metadata": {
    "ExecuteTime": {
     "end_time": "2019-07-23T19:17:06.566074Z",
     "start_time": "2019-07-23T19:17:06.561576Z"
    },
    "hidden": true
   },
   "outputs": [],
   "source": [
    "#np.save('../data/extremely_hard_examples1.npy', extremely_hard_examples.index.values)\n",
    "\n",
    "#ehe = np.load('../data/extremely_hard_examples1.npy')\n"
   ]
  },
  {
   "cell_type": "code",
   "execution_count": null,
   "metadata": {
    "ExecuteTime": {
     "end_time": "2019-08-10T12:30:07.365836Z",
     "start_time": "2019-08-10T12:30:07.362181Z"
    },
    "hidden": true
   },
   "outputs": [],
   "source": [
    "blur_list = [ 170,  182,  212,  300,  374,  453,  541,  563,  574,  587,  668,\n",
    "        677,  832,  921, 1029, 1043, 1071, 1075, 1173, 1178, 1233, 1310,\n",
    "       1341, 1399, 1472, 1485, 1522, 1587, 1600, 1678, 1695, 1798, 1799,\n",
    "       1800, 1817, 1882, 1979, 1996, 2047, 2054, 2123, 2223, 2319, 2341,\n",
    "       2392, 2568, 2621, 2625, 2679, 2717, 2751, 2755, 2815, 2842, 2878,\n",
    "       2924, 2995, 3004, 3024, 3102, 3174, 3196, 3237, 3346, 3375, 3527,\n",
    "       3553, 3593, 3600, 3644, 3661]"
   ]
  },
  {
   "cell_type": "code",
   "execution_count": null,
   "metadata": {
    "ExecuteTime": {
     "end_time": "2019-08-10T12:31:30.651848Z",
     "start_time": "2019-08-10T12:31:30.643497Z"
    },
    "hidden": true
   },
   "outputs": [],
   "source": [
    "#ehe = extremely_hard_examples.index.values\n",
    "train_df.iloc[blur_list].query('dist>0')"
   ]
  },
  {
   "cell_type": "code",
   "execution_count": null,
   "metadata": {
    "ExecuteTime": {
     "end_time": "2019-08-10T13:15:38.220471Z",
     "start_time": "2019-08-10T13:15:38.203762Z"
    },
    "hidden": true
   },
   "outputs": [],
   "source": [
    "bad_dup_list = np.load('../data/npy_files/bad_train_indices.npy') # the ones which have a duplicate with different diagnosis\n",
    "print(len(bad_dup_list))\n",
    "train_df.iloc[dup_list].query('dist>0')"
   ]
  },
  {
   "cell_type": "code",
   "execution_count": null,
   "metadata": {
    "ExecuteTime": {
     "end_time": "2019-08-10T13:18:38.188748Z",
     "start_time": "2019-08-10T13:18:37.622409Z"
    },
    "hidden": true
   },
   "outputs": [],
   "source": [
    "plt.imshow(np.load('../data/npy_files/bgcc300/4bd941611343.npy')); plt.show()\n",
    "img = cv2.imread('../data/train_images/4bd941611343.png')\n",
    "img = cv2.cvtColor(img, cv2.COLOR_BGR2RGB)\n",
    "plt.imshow(img); plt.show()"
   ]
  },
  {
   "cell_type": "code",
   "execution_count": null,
   "metadata": {
    "ExecuteTime": {
     "end_time": "2019-08-10T13:03:49.349982Z",
     "start_time": "2019-08-10T13:03:49.340336Z"
    },
    "hidden": true
   },
   "outputs": [],
   "source": [
    "dup_with_samediag_list = np.load('../data/npy_files/dups_with_same_diagnosis.npy')\n",
    "print(len(dup_with_samediag_list))\n",
    "train_df.iloc[dup_with_samediag_list].query('dist>0')"
   ]
  },
  {
   "cell_type": "markdown",
   "metadata": {
    "hidden": true
   },
   "source": [
    "What's the for these getting incorrect predictions? were they in val set?"
   ]
  },
  {
   "cell_type": "code",
   "execution_count": null,
   "metadata": {
    "ExecuteTime": {
     "end_time": "2019-08-10T12:53:34.080092Z",
     "start_time": "2019-08-10T12:53:33.905388Z"
    },
    "hidden": true
   },
   "outputs": [],
   "source": [
    "plt.imshow(np.load('../data/npy_files/bgcc300/c0e509786f7f.npy'))"
   ]
  },
  {
   "cell_type": "code",
   "execution_count": null,
   "metadata": {
    "ExecuteTime": {
     "end_time": "2019-08-10T12:30:15.482673Z",
     "start_time": "2019-08-10T12:30:15.479888Z"
    },
    "hidden": true
   },
   "outputs": [],
   "source": [
    "len([x for x in blur_list if x in extremely_hard_examples.index.values])"
   ]
  },
  {
   "cell_type": "code",
   "execution_count": null,
   "metadata": {
    "ExecuteTime": {
     "end_time": "2019-07-22T19:38:05.995497Z",
     "start_time": "2019-07-22T19:38:05.993035Z"
    },
    "hidden": true
   },
   "outputs": [],
   "source": [
    "#np.save('../data/hard_examples1.npy', best_diff.index.values)"
   ]
  },
  {
   "cell_type": "code",
   "execution_count": null,
   "metadata": {
    "ExecuteTime": {
     "end_time": "2019-07-23T16:12:24.489856Z",
     "start_time": "2019-07-23T16:12:24.359451Z"
    },
    "hidden": true
   },
   "outputs": [],
   "source": [
    "train_df['diagnosis'].hist()"
   ]
  },
  {
   "cell_type": "markdown",
   "metadata": {
    "heading_collapsed": true
   },
   "source": [
    "### Why is there so much variation in the test predictions?"
   ]
  },
  {
   "cell_type": "code",
   "execution_count": null,
   "metadata": {
    "ExecuteTime": {
     "end_time": "2019-07-25T11:00:39.953643Z",
     "start_time": "2019-07-25T11:00:39.950544Z"
    },
    "hidden": true
   },
   "outputs": [],
   "source": [
    "# let's generate multiple test predictions from a same model"
   ]
  },
  {
   "cell_type": "code",
   "execution_count": null,
   "metadata": {
    "ExecuteTime": {
     "end_time": "2019-07-25T13:31:46.453220Z",
     "start_time": "2019-07-25T13:31:46.448893Z"
    },
    "hidden": true
   },
   "outputs": [],
   "source": [
    "test0, best_thresholds = np.load('../weights/23-7_efficientnet-b5_fold1_po3005e-6/test_npy/test_ckpt28_0.npy')\n",
    "test = {\n",
    "    0: test0\n",
    "}\n",
    "for i in range(1, 5):\n",
    "    test[i] = np.load(f'../weights/23-7_efficientnet-b5_fold1_po3005e-6/test_npy/test_ckpt28_{1}.npy')[0]"
   ]
  },
  {
   "cell_type": "code",
   "execution_count": null,
   "metadata": {
    "ExecuteTime": {
     "end_time": "2019-07-25T13:31:46.713193Z",
     "start_time": "2019-07-25T13:31:46.666683Z"
    },
    "hidden": true
   },
   "outputs": [],
   "source": [
    "pred = {}\n",
    "for i in range(5):\n",
    "    pred[i] = predict(test[i], best_thresholds)"
   ]
  },
  {
   "cell_type": "code",
   "execution_count": null,
   "metadata": {
    "ExecuteTime": {
     "end_time": "2019-07-25T13:31:46.892579Z",
     "start_time": "2019-07-25T13:31:46.889343Z"
    },
    "hidden": true
   },
   "outputs": [],
   "source": [
    "df = pd.DataFrame()"
   ]
  },
  {
   "cell_type": "code",
   "execution_count": null,
   "metadata": {
    "ExecuteTime": {
     "end_time": "2019-07-25T13:31:47.063874Z",
     "start_time": "2019-07-25T13:31:47.056838Z"
    },
    "hidden": true
   },
   "outputs": [],
   "source": [
    "for i in range(5):\n",
    "    df[f'pred{i}'] = pred[i].reshape(-1)"
   ]
  },
  {
   "cell_type": "code",
   "execution_count": null,
   "metadata": {
    "ExecuteTime": {
     "end_time": "2019-07-25T13:31:47.311991Z",
     "start_time": "2019-07-25T13:31:47.300105Z"
    },
    "hidden": true
   },
   "outputs": [],
   "source": [
    "df.head()"
   ]
  },
  {
   "cell_type": "code",
   "execution_count": null,
   "metadata": {
    "ExecuteTime": {
     "end_time": "2019-07-25T13:31:47.474067Z",
     "start_time": "2019-07-25T13:31:47.467742Z"
    },
    "hidden": true
   },
   "outputs": [],
   "source": [
    "df.query('pred0 == pred1 == pred2 == pred3 == pred4').shape, df.shape"
   ]
  },
  {
   "cell_type": "markdown",
   "metadata": {
    "ExecuteTime": {
     "end_time": "2019-07-25T13:00:21.529529Z",
     "start_time": "2019-07-25T13:00:21.527939Z"
    },
    "hidden": true
   },
   "source": [
    "with tta=2: 1928 - 1824 = 104 cases are varying. 0:55\n",
    "#with tta=4: 99 cases are varying. 1:22\n",
    "#with tta=5: 89 cases are varying. 1:22\n",
    "#with tta=6: 76 cases are varying. 1:48 minutes per epoch\n",
    "#with tta=6: 94 cases are varying. 1:48 minutes per epoch\n",
    "#with tta=8: 88 cases are varying. 2:15 minutes per epoch\n",
    "#with tta=10: 67\n",
    "#with no tta, got ZERO variation, all predictions were same"
   ]
  },
  {
   "cell_type": "code",
   "execution_count": null,
   "metadata": {
    "hidden": true
   },
   "outputs": [],
   "source": []
  },
  {
   "cell_type": "markdown",
   "metadata": {},
   "source": [
    "### Analyse best submissions"
   ]
  },
  {
   "cell_type": "code",
   "execution_count": null,
   "metadata": {
    "ExecuteTime": {
     "end_time": "2019-08-31T07:47:49.240831Z",
     "start_time": "2019-08-31T07:47:49.049032Z"
    }
   },
   "outputs": [],
   "source": [
    "! ls ../weights/submission*"
   ]
  },
  {
   "cell_type": "code",
   "execution_count": null,
   "metadata": {
    "ExecuteTime": {
     "end_time": "2019-08-31T07:48:14.237195Z",
     "start_time": "2019-08-31T07:48:14.185989Z"
    }
   },
   "outputs": [],
   "source": [
    "# y1 = pd.read_csv('../weights/submission829.csv')\n",
    "# y2 = pd.read_csv('../weights/submission820.csv')\n",
    "'''\n",
    "Remember, y1 and y2 are already ensembles of following submissions.\n",
    "'''\n",
    "y3 = pd.read_csv('../weights/submission815.csv')\n",
    "y4 = pd.read_csv('../weights/submission814.csv')\n",
    "y5 = pd.read_csv('../weights/submission813.csv')\n",
    "y6 = pd.read_csv('../weights/submission812.csv')\n",
    "y7 = pd.read_csv('../weights/submission811.csv')\n",
    "\n",
    "y = pd.DataFrame()\n",
    "y['id_code'] = y3['id_code']\n",
    "# y['y1'] = y1['diagnosis']\n",
    "# y['y2'] = y2['diagnosis']\n",
    "y['y3'] = y3['diagnosis']\n",
    "y['y4'] = y4['diagnosis']\n",
    "y['y5'] = y5['diagnosis']\n",
    "y['y6'] = y6['diagnosis']\n",
    "y['y7'] = y7['diagnosis']\n",
    "\n",
    "y_columns = [cols for cols in y.columns if 'y' in cols] # get the pred columns\n",
    "y.head()"
   ]
  },
  {
   "cell_type": "code",
   "execution_count": null,
   "metadata": {
    "ExecuteTime": {
     "end_time": "2019-08-31T07:48:17.044815Z",
     "start_time": "2019-08-31T07:48:17.040803Z"
    }
   },
   "outputs": [],
   "source": [
    "for i in y_columns:\n",
    "    print(np.unique(y[i].values, return_counts=True))"
   ]
  },
  {
   "cell_type": "code",
   "execution_count": null,
   "metadata": {
    "ExecuteTime": {
     "end_time": "2019-08-31T07:48:20.606729Z",
     "start_time": "2019-08-31T07:48:20.604827Z"
    }
   },
   "outputs": [],
   "source": [
    "from scipy.stats import mode"
   ]
  },
  {
   "cell_type": "code",
   "execution_count": null,
   "metadata": {
    "ExecuteTime": {
     "end_time": "2019-08-31T07:48:21.665474Z",
     "start_time": "2019-08-31T07:48:21.225423Z"
    }
   },
   "outputs": [],
   "source": [
    "a = pd.read_csv('../weights/submission713.csv')\n",
    "b = pd.read_csv('../weights/submission713.csv')\n",
    "c = pd.read_csv('../weights/submission713.csv')\n",
    "majority_voted = (pd.concat([a['diagnosis'], b['diagnosis'], c['diagnosis']], axis=1)).mode(axis=1)"
   ]
  },
  {
   "cell_type": "code",
   "execution_count": null,
   "metadata": {
    "ExecuteTime": {
     "end_time": "2019-08-31T07:48:22.515203Z",
     "start_time": "2019-08-31T07:48:22.512871Z"
    }
   },
   "outputs": [],
   "source": [
    "# combined = pd.concat([a['id_code'], majority_voted],axis=1)\n",
    "combined = a.copy()"
   ]
  },
  {
   "cell_type": "code",
   "execution_count": null,
   "metadata": {
    "ExecuteTime": {
     "end_time": "2019-08-31T07:48:22.997303Z",
     "start_time": "2019-08-31T07:48:22.991136Z"
    }
   },
   "outputs": [],
   "source": [
    "combined['diagnosis'] = majority_voted\n",
    "combined.head()"
   ]
  },
  {
   "cell_type": "code",
   "execution_count": null,
   "metadata": {
    "ExecuteTime": {
     "end_time": "2019-08-31T07:48:26.401457Z",
     "start_time": "2019-08-31T07:48:25.804213Z"
    }
   },
   "outputs": [],
   "source": [
    "# calculating standard deviation\n",
    "y['std'] = np.std(y[y_columns].values.astype('float32'), axis=1)\n",
    "y['mean'] = np.around(np.mean(y[y_columns].values.astype('float32'), axis=1)).astype('uint')\n",
    "y['mode'] = y[y_columns].mode(axis=1, numeric_only=True)[0].astype('uint')\n",
    "\n",
    "print(np.unique(y['mode'].values, return_counts=True))\n",
    "print(np.unique(y['y3'].values, return_counts=True))"
   ]
  },
  {
   "cell_type": "code",
   "execution_count": null,
   "metadata": {
    "ExecuteTime": {
     "end_time": "2019-08-31T07:48:26.410494Z",
     "start_time": "2019-08-31T07:48:26.402878Z"
    }
   },
   "outputs": [],
   "source": [
    "y.head()"
   ]
  },
  {
   "cell_type": "code",
   "execution_count": null,
   "metadata": {
    "ExecuteTime": {
     "end_time": "2019-08-31T07:48:30.471708Z",
     "start_time": "2019-08-31T07:48:30.074537Z"
    }
   },
   "outputs": [],
   "source": [
    "# histogram of standard deviation\n",
    "y['std'].plot(kind='hist');"
   ]
  },
  {
   "cell_type": "code",
   "execution_count": null,
   "metadata": {
    "ExecuteTime": {
     "end_time": "2019-08-31T07:48:31.306754Z",
     "start_time": "2019-08-31T07:48:31.302494Z"
    }
   },
   "outputs": [],
   "source": [
    "np.unique(y['std'].values, return_counts=True)"
   ]
  },
  {
   "cell_type": "code",
   "execution_count": null,
   "metadata": {
    "ExecuteTime": {
     "end_time": "2019-08-31T07:48:36.679410Z",
     "start_time": "2019-08-31T07:48:36.677419Z"
    }
   },
   "outputs": [],
   "source": [
    "# analysis shows, ~0.34 values correspond to those which have exactly 1 different predictions\n",
    "# ~0.45 values correspond to those which have exactly 2 different predictions\n",
    "# ~0.49 correspond to 3 different\n",
    "# 0.5 2 different, 2 level apart from mean\n"
   ]
  },
  {
   "cell_type": "code",
   "execution_count": null,
   "metadata": {
    "ExecuteTime": {
     "end_time": "2019-08-31T07:48:37.016919Z",
     "start_time": "2019-08-31T07:48:36.988314Z"
    }
   },
   "outputs": [],
   "source": [
    "diff = y.query('std>0')\n",
    "same = y.query('std==0')"
   ]
  },
  {
   "cell_type": "code",
   "execution_count": null,
   "metadata": {
    "ExecuteTime": {
     "end_time": "2019-08-31T07:48:37.296202Z",
     "start_time": "2019-08-31T07:48:37.291878Z"
    }
   },
   "outputs": [],
   "source": [
    "diff.shape, same.shape, y.shape, 100 * diff.shape[0] / y.shape[0] # percentage"
   ]
  },
  {
   "cell_type": "code",
   "execution_count": null,
   "metadata": {
    "ExecuteTime": {
     "end_time": "2019-08-31T07:49:14.040311Z",
     "start_time": "2019-08-31T07:49:14.029747Z"
    }
   },
   "outputs": [],
   "source": [
    "same.head()"
   ]
  },
  {
   "cell_type": "code",
   "execution_count": null,
   "metadata": {
    "ExecuteTime": {
     "end_time": "2019-08-31T07:50:21.254988Z",
     "start_time": "2019-08-31T07:50:21.181651Z"
    }
   },
   "outputs": [],
   "source": [
    "pseudo_test = pd.DataFrame()\n",
    "pseudo_test['id_code'] = same['id_code']\n",
    "pseudo_test['diagnosis'] = same['mean']\n",
    "pseudo_test.to_csv('../data/pseudo_test.csv', index=False)"
   ]
  },
  {
   "cell_type": "code",
   "execution_count": null,
   "metadata": {
    "ExecuteTime": {
     "end_time": "2019-08-31T07:48:53.037707Z",
     "start_time": "2019-08-31T07:48:52.913986Z"
    }
   },
   "outputs": [],
   "source": [
    "diff['std'].plot(kind='hist') # mostly are 1 label apart"
   ]
  },
  {
   "cell_type": "code",
   "execution_count": null,
   "metadata": {
    "ExecuteTime": {
     "end_time": "2019-08-31T07:48:56.123915Z",
     "start_time": "2019-08-31T07:48:56.121929Z"
    }
   },
   "outputs": [],
   "source": [
    "# so `mode` of these predictions is more or less same as 0.829 model which is nonetheless a round(mean) of predictions, wait a min.."
   ]
  },
  {
   "cell_type": "code",
   "execution_count": null,
   "metadata": {
    "ExecuteTime": {
     "end_time": "2019-08-31T07:48:56.544698Z",
     "start_time": "2019-08-31T07:48:56.524818Z"
    }
   },
   "outputs": [],
   "source": [
    "cm = ConfusionMatrix(y['mode'].values, y['y3'].values)\n",
    "cm.print_matrix()\n",
    "cohen_kappa_score(y['mode'].values, y['y3'].values, weights=\"quadratic\"), accuracy_score(y['mode'].values, y['y3'].values,)"
   ]
  },
  {
   "cell_type": "code",
   "execution_count": null,
   "metadata": {
    "ExecuteTime": {
     "end_time": "2019-08-22T11:19:38.024504Z",
     "start_time": "2019-08-22T11:19:37.986320Z"
    }
   },
   "outputs": [],
   "source": [
    "cm = ConfusionMatrix(y['mode'].values, y['y4'].values)\n",
    "cm.print_matrix()\n",
    "cohen_kappa_score(y['mode'].values, y['y4'].values, weights=\"quadratic\"), accuracy_score(y['mode'].values, y['y4'].values,)"
   ]
  },
  {
   "cell_type": "code",
   "execution_count": null,
   "metadata": {
    "ExecuteTime": {
     "end_time": "2019-08-22T11:19:48.727243Z",
     "start_time": "2019-08-22T11:19:48.681501Z"
    }
   },
   "outputs": [],
   "source": [
    "cm = ConfusionMatrix(y['mode'].values, y['y7'].values)\n",
    "cm.print_matrix()\n",
    "cohen_kappa_score(y['mode'].values, y['y7'].values, weights=\"quadratic\"), accuracy_score(y['mode'].values, y['y7'].values,)"
   ]
  },
  {
   "cell_type": "code",
   "execution_count": null,
   "metadata": {
    "ExecuteTime": {
     "end_time": "2019-08-22T11:21:04.187767Z",
     "start_time": "2019-08-22T11:21:03.660458Z"
    }
   },
   "outputs": [],
   "source": [
    "\n",
    "y1 = pd.read_csv('../weights/submission829.csv')\n",
    "cm = ConfusionMatrix(y['mode'].values, y1['diagnosis'].values)\n",
    "cm.print_matrix()\n",
    "cohen_kappa_score(y['mode'].values, y1['diagnosis'].values, weights=\"quadratic\"), accuracy_score(y['mode'].values, y1['diagnosis'].values,)"
   ]
  },
  {
   "cell_type": "code",
   "execution_count": null,
   "metadata": {},
   "outputs": [],
   "source": [
    "sid = ensemble.copy()\n",
    "sid['b5_loss_preds'] = predict(b5_loss_preds, base_thresholds)\n",
    "sid['b5_kappa_preds'] = predict(b5_kappa_preds, base_thresholds)\n",
    "sid['b5_last_preds'] = predict(b5_last_preds, base_thresholds)\n",
    "sid['b4_loss_preds'] = predict(b4_loss_preds, base_thresholds)\n",
    "sid['b4_kappa_preds'] = predict(b4_kappa_preds, base_thresholds)\n",
    "sid['b4_last_preds'] = predict(b4_last_preds, base_thresholds)\n",
    "sid['b3_loss_preds'] = predict(b3_loss_preds, base_thresholds)\n",
    "sid['b3_kappa_preds'] = predict(b3_kappa_preds, base_thresholds)\n",
    "sid['b3_last_preds'] = predict(b3_last_preds, base_thresholds)"
   ]
  },
  {
   "cell_type": "code",
   "execution_count": null,
   "metadata": {},
   "outputs": [],
   "source": []
  },
  {
   "cell_type": "code",
   "execution_count": null,
   "metadata": {},
   "outputs": [],
   "source": []
  },
  {
   "cell_type": "markdown",
   "metadata": {},
   "source": [
    "### test"
   ]
  },
  {
   "cell_type": "code",
   "execution_count": null,
   "metadata": {
    "ExecuteTime": {
     "end_time": "2019-09-04T07:58:12.469477Z",
     "start_time": "2019-09-04T07:58:12.460001Z"
    }
   },
   "outputs": [],
   "source": [
    "tdf = pd.read_csv('../weights/318_effnet-b5_f0_pord/train.csv')\n",
    "vdf = pd.read_csv('../weights/318_effnet-b5_f0_pord/val.csv')\n",
    "\n",
    "# t0 = pd.read_csv('../data/folds/train0-5.csv')\n",
    "# v0 = pd.read_csv('../data/folds/val0-5.csv')\n",
    "# t0['id_code'] = t0['id_code'] + '.png'\n",
    "# v0['id_code'] = v0['id_code'] + '.png'"
   ]
  },
  {
   "cell_type": "code",
   "execution_count": null,
   "metadata": {
    "ExecuteTime": {
     "end_time": "2019-09-04T07:58:12.810716Z",
     "start_time": "2019-09-04T07:58:12.652912Z"
    }
   },
   "outputs": [],
   "source": [
    "sum(tdf.apply(lambda x: x[0] in vdf.id_code.tolist(), axis=1))"
   ]
  },
  {
   "cell_type": "code",
   "execution_count": null,
   "metadata": {
    "ExecuteTime": {
     "end_time": "2019-08-16T07:24:56.801471Z",
     "start_time": "2019-08-16T07:24:56.798273Z"
    }
   },
   "outputs": [],
   "source": [
    "tdf.shape, t0.shape, vdf.shape, v0.shape"
   ]
  },
  {
   "cell_type": "code",
   "execution_count": null,
   "metadata": {
    "ExecuteTime": {
     "end_time": "2019-08-16T07:24:58.343762Z",
     "start_time": "2019-08-16T07:24:58.326026Z"
    }
   },
   "outputs": [],
   "source": [
    "tdf.head()"
   ]
  },
  {
   "cell_type": "code",
   "execution_count": null,
   "metadata": {
    "ExecuteTime": {
     "end_time": "2019-08-16T07:25:05.756082Z",
     "start_time": "2019-08-16T07:25:05.752734Z"
    }
   },
   "outputs": [],
   "source": [
    "tdf[tdf['id_code'] == t0['id_code']].shape"
   ]
  },
  {
   "cell_type": "code",
   "execution_count": null,
   "metadata": {
    "ExecuteTime": {
     "end_time": "2019-08-16T07:25:15.838394Z",
     "start_time": "2019-08-16T07:25:15.834329Z"
    }
   },
   "outputs": [],
   "source": [
    "vdf[vdf['id_code'] == v0['id_code']].shape"
   ]
  },
  {
   "cell_type": "code",
   "execution_count": null,
   "metadata": {
    "ExecuteTime": {
     "end_time": "2019-08-16T07:26:03.503714Z",
     "start_time": "2019-08-16T07:26:03.498139Z"
    }
   },
   "outputs": [],
   "source": [
    "v0[v0['id_code'] == v1['id_code']].shape"
   ]
  },
  {
   "cell_type": "markdown",
   "metadata": {
    "heading_collapsed": true
   },
   "source": [
    "### ensemble, train evaluation"
   ]
  },
  {
   "cell_type": "code",
   "execution_count": null,
   "metadata": {
    "ExecuteTime": {
     "end_time": "2019-08-20T16:29:30.691284Z",
     "start_time": "2019-08-20T16:29:30.671909Z"
    },
    "hidden": true
   },
   "outputs": [],
   "source": [
    "sample_dict = {\n",
    "        2:    0.647303,\n",
    "        0:    0.185166,\n",
    "        1:    0.070539,\n",
    "        3:    0.058091,\n",
    "        4:    0.038900\n",
    "}\n",
    "\n",
    "count = {}\n",
    "for i, j in sample_dict.items():\n",
    "    count[i] = int(sample_dict[i] * 1500) # so that, val size is ~20%\n",
    "\n",
    "def sample(obj):  # [5]\n",
    "    return obj.sample(n=count[obj.name], replace=False, random_state=69)\n",
    "\n",
    "sampled_df = train_df.groupby('diagnosis').apply(sample).reset_index(drop=True)\n",
    "nonzero = train_df[train_df['diagnosis'] !=0]\n",
    "sampled_df.shape"
   ]
  },
  {
   "cell_type": "code",
   "execution_count": null,
   "metadata": {
    "ExecuteTime": {
     "end_time": "2019-08-20T16:29:31.445773Z",
     "start_time": "2019-08-20T16:29:31.439773Z"
    },
    "hidden": true
   },
   "outputs": [],
   "source": [
    "sampled_df.head()"
   ]
  },
  {
   "cell_type": "code",
   "execution_count": null,
   "metadata": {
    "ExecuteTime": {
     "end_time": "2019-08-20T16:29:32.384806Z",
     "start_time": "2019-08-20T16:29:32.380735Z"
    },
    "hidden": true
   },
   "outputs": [],
   "source": [
    "cohen_kappa_score(sampled_df.diagnosis, sampled_df.basepred, weights=\"quadratic\")"
   ]
  },
  {
   "cell_type": "code",
   "execution_count": null,
   "metadata": {
    "ExecuteTime": {
     "end_time": "2019-08-20T16:29:35.350904Z",
     "start_time": "2019-08-20T16:29:35.343938Z"
    },
    "hidden": true
   },
   "outputs": [],
   "source": [
    "cohen_kappa_score(nonzero.diagnosis, nonzero.basepred, weights=\"quadratic\")"
   ]
  },
  {
   "cell_type": "code",
   "execution_count": null,
   "metadata": {
    "ExecuteTime": {
     "end_time": "2019-08-20T16:30:03.036263Z",
     "start_time": "2019-08-20T16:30:03.031744Z"
    },
    "hidden": true
   },
   "outputs": [],
   "source": [
    "diff = train_df.query('diagnosis != basepred')"
   ]
  },
  {
   "cell_type": "code",
   "execution_count": null,
   "metadata": {
    "ExecuteTime": {
     "end_time": "2019-08-20T16:30:47.730800Z",
     "start_time": "2019-08-20T16:30:47.666933Z"
    },
    "hidden": true
   },
   "outputs": [],
   "source": [
    "diff['pred'] = diff['basepred']\n",
    "diff = diff.drop(columns=['basepred'])"
   ]
  },
  {
   "cell_type": "code",
   "execution_count": null,
   "metadata": {
    "hidden": true
   },
   "outputs": [],
   "source": []
  },
  {
   "cell_type": "code",
   "execution_count": null,
   "metadata": {
    "hidden": true
   },
   "outputs": [],
   "source": []
  },
  {
   "cell_type": "code",
   "execution_count": null,
   "metadata": {
    "hidden": true
   },
   "outputs": [],
   "source": []
  },
  {
   "cell_type": "code",
   "execution_count": null,
   "metadata": {
    "hidden": true
   },
   "outputs": [],
   "source": []
  },
  {
   "cell_type": "markdown",
   "metadata": {
    "heading_collapsed": true
   },
   "source": [
    "### test"
   ]
  },
  {
   "cell_type": "code",
   "execution_count": null,
   "metadata": {
    "ExecuteTime": {
     "end_time": "2019-08-18T11:48:42.040216Z",
     "start_time": "2019-08-18T11:48:41.561130Z"
    },
    "hidden": true
   },
   "outputs": [],
   "source": [
    "import cv2\n",
    "import numpy as np\n",
    "import pandas as pd\n",
    "path = '../data/all_images/b96b518596b3.png'\n",
    "bgr = cv2.imread(path)\n",
    "# bgr = crop_image(bgr, tol=10)\n",
    "bgr = cv2.resize(bgr, (256, 256))\n",
    "rgb = cv2.cvtColor(bgr, cv2.COLOR_BGR2RGB)\n",
    "k = np.max(rgb.shape)//20*2+1 # kernel size: next odd number to (largest dim of the image) / 10\n",
    "bg = cv2.medianBlur(rgb, k)\n",
    "rgb =cv2.addWeighted (rgb, 4, bg, -4, 128)"
   ]
  },
  {
   "cell_type": "code",
   "execution_count": null,
   "metadata": {
    "ExecuteTime": {
     "end_time": "2019-08-18T11:48:47.322222Z",
     "start_time": "2019-08-18T11:48:46.990386Z"
    },
    "hidden": true
   },
   "outputs": [],
   "source": [
    "plt.imshow(rgb)"
   ]
  },
  {
   "cell_type": "code",
   "execution_count": null,
   "metadata": {
    "ExecuteTime": {
     "end_time": "2019-08-18T12:19:54.276934Z",
     "start_time": "2019-08-18T12:19:52.210040Z"
    },
    "hidden": true
   },
   "outputs": [],
   "source": [
    "path = '../data/all_images/b96b518596b3.png'\n",
    "bgr = cv2.imread(path)\n",
    "bgr = crop_image(bgr, tol=10)\n",
    "rgb = cv2.cvtColor(bgr, cv2.COLOR_BGR2RGB)\n",
    "k = np.min(rgb.shape)//20*2+1 # kernel size: next odd number to (largest dim of the image) / 10\n",
    "print(k)\n",
    "k=351\n",
    "bg = cv2.medianBlur(rgb, k)\n",
    "rgb =cv2.addWeighted (rgb, 4, bg, -4, 128)\n",
    "rgb = cv2.resize(rgb, (256, 256))\n",
    "plt.imshow(rgb)"
   ]
  },
  {
   "cell_type": "code",
   "execution_count": null,
   "metadata": {
    "hidden": true
   },
   "outputs": [],
   "source": []
  },
  {
   "cell_type": "code",
   "execution_count": null,
   "metadata": {
    "hidden": true
   },
   "outputs": [],
   "source": []
  },
  {
   "cell_type": "code",
   "execution_count": null,
   "metadata": {
    "hidden": true
   },
   "outputs": [],
   "source": []
  },
  {
   "cell_type": "code",
   "execution_count": null,
   "metadata": {
    "hidden": true
   },
   "outputs": [],
   "source": []
  }
 ],
 "metadata": {
  "kernelspec": {
   "display_name": "ML",
   "language": "python",
   "name": "ml"
  },
  "language_info": {
   "codemirror_mode": {
    "name": "ipython",
    "version": 3
   },
   "file_extension": ".py",
   "mimetype": "text/x-python",
   "name": "python",
   "nbconvert_exporter": "python",
   "pygments_lexer": "ipython3",
   "version": "3.7.3"
  }
 },
 "nbformat": 4,
 "nbformat_minor": 2
}
