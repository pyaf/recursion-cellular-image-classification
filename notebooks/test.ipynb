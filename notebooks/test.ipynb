{
 "cells": [
  {
   "cell_type": "code",
   "execution_count": null,
   "metadata": {
    "ExecuteTime": {
     "end_time": "2019-09-01T10:58:15.320230Z",
     "start_time": "2019-09-01T10:58:13.185761Z"
    }
   },
   "outputs": [],
   "source": [
    "import pdb\n",
    "import pycm\n",
    "import sys\n",
    "sys.path.append('../')\n",
    "from glob import glob\n",
    "import torch\n",
    "import scipy\n",
    "from torch import nn\n",
    "import cv2\n",
    "from tqdm import tqdm_notebook as tqdm\n",
    "import os\n",
    "# from models import Model\n",
    "from PIL import Image\n",
    "from skimage import io, transform\n",
    "from matplotlib import pyplot as plt\n",
    "import matplotlib.image as mpimg\n",
    "import pandas as pd\n",
    "from torchvision.datasets.folder import pil_loader\n",
    "import random\n",
    "import numpy as np\n",
    "from torchsummary import summary\n",
    "import pretrainedmodels\n",
    "from sklearn.model_selection import KFold, StratifiedKFold\n",
    "from efficientnet_pytorch import EfficientNet\n",
    "import albumentations\n",
    "from pycm import ConfusionMatrix\n",
    "from tensorboard_logger import * \n",
    "import warnings\n",
    "from dataloader import provider\n",
    "warnings.filterwarnings(\"ignore\")\n",
    "from models import *\n",
    "from image_utils import *\n",
    "import albumentations\n",
    "from albumentations import torch as AT\n",
    "os.environ['CUDA_VISIBLE_DEVICES']=\"\" # useful when testing dataloader\n",
    "%matplotlib inline\n"
   ]
  },
  {
   "cell_type": "code",
   "execution_count": null,
   "metadata": {
    "ExecuteTime": {
     "end_time": "2019-08-30T13:44:14.114077Z",
     "start_time": "2019-08-30T13:44:13.871474Z"
    }
   },
   "outputs": [],
   "source": [
    "from torchvision import models\n",
    "resnet = models.resnet50()\n",
    "\n",
    "beginning = nn.Sequential(*list(resnet.children())[:-3])\n",
    "\n",
    "end = nn.Sequential(*list(resnet.children())[-3:])\n",
    "\n",
    "full = nn.Sequential(beginning, end)\n",
    "\n",
    "a = torch.rand((2, 3, 256, 256), device=torch.device(\"cpu\"))\n",
    "\n",
    "#full(a)"
   ]
  },
  {
   "cell_type": "code",
   "execution_count": null,
   "metadata": {
    "ExecuteTime": {
     "end_time": "2019-08-30T13:44:21.163007Z",
     "start_time": "2019-08-30T13:44:21.034467Z"
    }
   },
   "outputs": [],
   "source": [
    "out = beginning(a)"
   ]
  },
  {
   "cell_type": "code",
   "execution_count": null,
   "metadata": {
    "ExecuteTime": {
     "end_time": "2019-08-30T13:44:27.218319Z",
     "start_time": "2019-08-30T13:44:27.214685Z"
    }
   },
   "outputs": [],
   "source": [
    "out.shape"
   ]
  },
  {
   "cell_type": "code",
   "execution_count": null,
   "metadata": {},
   "outputs": [],
   "source": []
  },
  {
   "cell_type": "code",
   "execution_count": null,
   "metadata": {},
   "outputs": [],
   "source": []
  },
  {
   "cell_type": "code",
   "execution_count": null,
   "metadata": {},
   "outputs": [],
   "source": []
  },
  {
   "cell_type": "markdown",
   "metadata": {},
   "source": []
  },
  {
   "cell_type": "markdown",
   "metadata": {
    "heading_collapsed": true
   },
   "source": [
    "### PyCM testing"
   ]
  },
  {
   "cell_type": "code",
   "execution_count": null,
   "metadata": {
    "ExecuteTime": {
     "end_time": "2019-07-23T05:46:24.581015Z",
     "start_time": "2019-07-23T05:46:24.578456Z"
    },
    "hidden": true
   },
   "outputs": [],
   "source": [
    "y_actual = [1, 2, 3, 4]\n",
    "y_pred = [1, 1, 3, 2]\n",
    "cm = ConfusionMatrix(y_actual, y_pred)"
   ]
  },
  {
   "cell_type": "code",
   "execution_count": null,
   "metadata": {
    "ExecuteTime": {
     "end_time": "2019-07-23T05:46:32.991169Z",
     "start_time": "2019-07-23T05:46:32.988634Z"
    },
    "hidden": true
   },
   "outputs": [],
   "source": [
    "cm.qwk  = 1"
   ]
  },
  {
   "cell_type": "code",
   "execution_count": null,
   "metadata": {
    "ExecuteTime": {
     "end_time": "2019-07-23T05:48:04.290933Z",
     "start_time": "2019-07-23T05:48:04.285474Z"
    },
    "hidden": true
   },
   "outputs": [],
   "source": [
    "cm.save_obj('test.obj', save_stat=True, save_vector=True)"
   ]
  },
  {
   "cell_type": "code",
   "execution_count": null,
   "metadata": {
    "ExecuteTime": {
     "end_time": "2019-07-23T05:48:25.882802Z",
     "start_time": "2019-07-23T05:48:25.880209Z"
    },
    "hidden": true
   },
   "outputs": [],
   "source": [
    "cm_loaded = ConfusionMatrix(file=open(\"test.obj.obj\"))"
   ]
  },
  {
   "cell_type": "code",
   "execution_count": null,
   "metadata": {
    "ExecuteTime": {
     "end_time": "2019-07-23T05:51:54.771212Z",
     "start_time": "2019-07-23T05:51:54.758618Z"
    },
    "hidden": true
   },
   "outputs": [],
   "source": [
    "cm_loaded.qwk\n"
   ]
  },
  {
   "cell_type": "code",
   "execution_count": null,
   "metadata": {
    "ExecuteTime": {
     "end_time": "2019-07-23T05:52:35.244493Z",
     "start_time": "2019-07-23T05:52:35.241601Z"
    },
    "hidden": true
   },
   "outputs": [],
   "source": [
    "test = open('test.obj.obj')\n",
    "red = test.read()"
   ]
  },
  {
   "cell_type": "code",
   "execution_count": null,
   "metadata": {
    "ExecuteTime": {
     "end_time": "2019-07-23T05:53:02.997017Z",
     "start_time": "2019-07-23T05:53:02.994605Z"
    },
    "hidden": true
   },
   "outputs": [],
   "source": [
    "import json\n",
    "red = json.loads(red)"
   ]
  },
  {
   "cell_type": "code",
   "execution_count": null,
   "metadata": {
    "ExecuteTime": {
     "end_time": "2019-07-23T05:53:15.528030Z",
     "start_time": "2019-07-23T05:53:15.520601Z"
    },
    "hidden": true
   },
   "outputs": [],
   "source": [
    "red['qwk']"
   ]
  },
  {
   "cell_type": "markdown",
   "metadata": {
    "hidden": true
   },
   "source": [
    "ConfusionMatrix is not saving additional attributes, let's modify those which are already present"
   ]
  },
  {
   "cell_type": "code",
   "execution_count": null,
   "metadata": {
    "ExecuteTime": {
     "end_time": "2019-07-23T06:28:42.889735Z",
     "start_time": "2019-07-23T06:28:42.886059Z"
    },
    "hidden": true
   },
   "outputs": [],
   "source": [
    "\n",
    "class CM(ConfusionMatrix):\n",
    "\n",
    "    def __init__(\n",
    "            self,\n",
    "            *args):\n",
    "        ConfusionMatrix.__init__(self,\n",
    "            *args)\n",
    "        \n",
    "    def save(self,\n",
    "             name,\n",
    "             qwk=None,\n",
    "             loss=None, \n",
    "             **kwargs):\n",
    "        status = self.save_obj(name, **kwargs)\n",
    "        obj_full_path = status['Message']\n",
    "        print(obj_full_path)\n",
    "        with open(obj_full_path, 'r') as f:\n",
    "            dump_dict = json.load(f)\n",
    "            dump_dict['Overall-Stat']['qwk'] = qwk\n",
    "            dump_dict['Overall-Stat']['loss'] = loss\n",
    "        json.dump(dump_dict, open(obj_full_path, 'w'))\n",
    " "
   ]
  },
  {
   "cell_type": "code",
   "execution_count": null,
   "metadata": {
    "ExecuteTime": {
     "end_time": "2019-07-23T06:28:43.740155Z",
     "start_time": "2019-07-23T06:28:43.737612Z"
    },
    "hidden": true
   },
   "outputs": [],
   "source": [
    "y_actual = [1, 2, 3, 4]\n",
    "y_pred = [1, 1, 3, 2]\n",
    "cm = CM(y_actual, y_pred)"
   ]
  },
  {
   "cell_type": "code",
   "execution_count": null,
   "metadata": {
    "ExecuteTime": {
     "end_time": "2019-07-23T06:28:44.305132Z",
     "start_time": "2019-07-23T06:28:44.298518Z"
    },
    "hidden": true
   },
   "outputs": [],
   "source": [
    "cm.save('test', qwk=1, loss=1, save_stat=True, save_vector=True)"
   ]
  },
  {
   "cell_type": "code",
   "execution_count": null,
   "metadata": {
    "ExecuteTime": {
     "end_time": "2019-07-23T06:29:02.116578Z",
     "start_time": "2019-07-23T06:29:02.113778Z"
    },
    "hidden": true
   },
   "outputs": [],
   "source": [
    "f = open('test.obj', 'r')\n",
    "data = json.load(f)"
   ]
  },
  {
   "cell_type": "code",
   "execution_count": null,
   "metadata": {
    "ExecuteTime": {
     "end_time": "2019-07-23T06:29:02.301753Z",
     "start_time": "2019-07-23T06:29:02.294743Z"
    },
    "hidden": true
   },
   "outputs": [],
   "source": [
    "data"
   ]
  },
  {
   "cell_type": "code",
   "execution_count": null,
   "metadata": {
    "ExecuteTime": {
     "end_time": "2019-07-23T06:22:58.899294Z",
     "start_time": "2019-07-23T06:22:58.896076Z"
    },
    "hidden": true
   },
   "outputs": [],
   "source": [
    "data['qwk']"
   ]
  },
  {
   "cell_type": "code",
   "execution_count": null,
   "metadata": {
    "ExecuteTime": {
     "end_time": "2019-07-23T06:29:09.832793Z",
     "start_time": "2019-07-23T06:29:09.830245Z"
    },
    "hidden": true
   },
   "outputs": [],
   "source": [
    "\n",
    "cm_loaded = ConfusionMatrix(file=open(\"test.obj\"))"
   ]
  },
  {
   "cell_type": "code",
   "execution_count": null,
   "metadata": {
    "ExecuteTime": {
     "end_time": "2019-07-23T06:29:15.500211Z",
     "start_time": "2019-07-23T06:29:15.493257Z"
    },
    "hidden": true
   },
   "outputs": [],
   "source": [
    "cm_loaded.overall_stat"
   ]
  },
  {
   "cell_type": "markdown",
   "metadata": {
    "hidden": true
   },
   "source": [
    "It's has got some internal function which needs to be overwritten"
   ]
  },
  {
   "cell_type": "code",
   "execution_count": null,
   "metadata": {
    "ExecuteTime": {
     "end_time": "2019-07-23T06:10:04.024798Z",
     "start_time": "2019-07-23T06:10:04.022411Z"
    },
    "hidden": true
   },
   "outputs": [],
   "source": [
    "cm.ERR  = 0"
   ]
  },
  {
   "cell_type": "code",
   "execution_count": null,
   "metadata": {
    "ExecuteTime": {
     "end_time": "2019-07-23T06:10:14.606822Z",
     "start_time": "2019-07-23T06:10:14.602491Z"
    },
    "hidden": true
   },
   "outputs": [],
   "source": [
    "\n",
    "cm.save_obj('test', save_stat=True, save_vector=True)"
   ]
  },
  {
   "cell_type": "code",
   "execution_count": null,
   "metadata": {
    "ExecuteTime": {
     "end_time": "2019-07-23T06:10:25.461907Z",
     "start_time": "2019-07-23T06:10:25.458077Z"
    },
    "hidden": true
   },
   "outputs": [],
   "source": [
    "cm_loaded = ConfusionMatrix(file=open(\"test.obj\"))"
   ]
  },
  {
   "cell_type": "code",
   "execution_count": null,
   "metadata": {
    "ExecuteTime": {
     "end_time": "2019-07-23T06:10:28.796289Z",
     "start_time": "2019-07-23T06:10:28.792070Z"
    },
    "hidden": true
   },
   "outputs": [],
   "source": [
    "cm_loaded.ERR"
   ]
  },
  {
   "cell_type": "markdown",
   "metadata": {
    "hidden": true
   },
   "source": [
    "Can't modify the values like this, it recalculates before saving"
   ]
  },
  {
   "cell_type": "code",
   "execution_count": null,
   "metadata": {
    "hidden": true
   },
   "outputs": [],
   "source": []
  },
  {
   "cell_type": "markdown",
   "metadata": {
    "heading_collapsed": true
   },
   "source": [
    "### Rank averaging"
   ]
  },
  {
   "cell_type": "code",
   "execution_count": null,
   "metadata": {
    "ExecuteTime": {
     "end_time": "2019-07-19T12:49:29.134498Z",
     "start_time": "2019-07-19T12:49:29.120196Z"
    },
    "hidden": true
   },
   "outputs": [],
   "source": [
    "# START\n",
    "files = {}\n",
    "files['file1'] = '../weights/submission785.csv'\n",
    "files['file2'] = '../weights/submission796.csv'\n",
    "files['file3'] = '../weights/submission77.csv'\n",
    "# END\n",
    "\n",
    "\n",
    "dfs = []\n",
    "for key, _file in files.items():\n",
    "    df = pd.read_csv(_file)\n",
    "    df.rename(columns = {'diagnosis': key}, inplace=True)\n",
    "    dfs.append(df)\n",
    "\n",
    "\n",
    "\n",
    "_submission = pd.concat(dfs, axis=1)\n",
    "\n"
   ]
  },
  {
   "cell_type": "code",
   "execution_count": null,
   "metadata": {
    "ExecuteTime": {
     "end_time": "2019-07-19T12:49:29.406820Z",
     "start_time": "2019-07-19T12:49:29.398170Z"
    },
    "hidden": true
   },
   "outputs": [],
   "source": [
    "_submission.head()"
   ]
  },
  {
   "cell_type": "code",
   "execution_count": null,
   "metadata": {
    "ExecuteTime": {
     "end_time": "2019-07-19T12:49:29.733183Z",
     "start_time": "2019-07-19T12:49:29.726775Z"
    },
    "hidden": true
   },
   "outputs": [],
   "source": [
    "a = _submission['file1']\n",
    "a.rank?"
   ]
  },
  {
   "cell_type": "code",
   "execution_count": null,
   "metadata": {
    "ExecuteTime": {
     "end_time": "2019-07-19T12:49:34.532820Z",
     "start_time": "2019-07-19T12:49:34.528095Z"
    },
    "hidden": true
   },
   "outputs": [],
   "source": [
    "\n",
    "for key in files.keys():\n",
    "    _submission[key + '_rank'] = _submission[key].rank()\n",
    "\n"
   ]
  },
  {
   "cell_type": "code",
   "execution_count": null,
   "metadata": {
    "ExecuteTime": {
     "end_time": "2019-07-19T12:49:34.795540Z",
     "start_time": "2019-07-19T12:49:34.777997Z"
    },
    "hidden": true
   },
   "outputs": [],
   "source": [
    "_submission.head()"
   ]
  },
  {
   "cell_type": "code",
   "execution_count": null,
   "metadata": {
    "ExecuteTime": {
     "end_time": "2019-07-19T14:15:22.384554Z",
     "start_time": "2019-07-19T14:15:22.316913Z"
    },
    "hidden": true
   },
   "outputs": [],
   "source": [
    "\n",
    "_submission['rank_sum'] = np.sum(\n",
    "        _submission[col] for col in _submission.columns if '_rank' in col)\n",
    "_submission['target'] = _submission['rank_sum']/(len(files) *\n",
    "        _submission.shape[0])\n",
    "\n",
    "# take the first (id) and last column (target)\n",
    "submission = _submission.iloc[:, [0, -1]]"
   ]
  },
  {
   "cell_type": "code",
   "execution_count": null,
   "metadata": {
    "ExecuteTime": {
     "end_time": "2019-07-19T14:15:28.983192Z",
     "start_time": "2019-07-19T14:15:28.961516Z"
    },
    "hidden": true
   },
   "outputs": [],
   "source": [
    "_submission.head()"
   ]
  },
  {
   "cell_type": "markdown",
   "metadata": {
    "heading_collapsed": true
   },
   "source": [
    "### Tesing EfficientNet"
   ]
  },
  {
   "cell_type": "code",
   "execution_count": null,
   "metadata": {
    "ExecuteTime": {
     "end_time": "2019-07-24T06:07:18.926859Z",
     "start_time": "2019-07-24T06:07:18.925160Z"
    },
    "hidden": true
   },
   "outputs": [],
   "source": [
    "#torch.hub.load?"
   ]
  },
  {
   "cell_type": "code",
   "execution_count": null,
   "metadata": {
    "ExecuteTime": {
     "end_time": "2019-08-23T18:48:24.174208Z",
     "start_time": "2019-08-23T18:48:23.821242Z"
    },
    "hidden": true
   },
   "outputs": [],
   "source": [
    "model = EfficientNet.from_name('efficientnet-b7')"
   ]
  },
  {
   "cell_type": "code",
   "execution_count": null,
   "metadata": {
    "ExecuteTime": {
     "end_time": "2019-08-23T18:48:36.155942Z",
     "start_time": "2019-08-23T18:48:36.139462Z"
    },
    "hidden": true
   },
   "outputs": [],
   "source": [
    "EfficientNet.from_name?"
   ]
  },
  {
   "cell_type": "code",
   "execution_count": null,
   "metadata": {
    "ExecuteTime": {
     "end_time": "2019-08-23T18:48:26.003420Z",
     "start_time": "2019-08-23T18:48:24.768086Z"
    },
    "hidden": true
   },
   "outputs": [],
   "source": [
    "summary(model, input_size=(3, 300, 300), device=\"cpu\")"
   ]
  },
  {
   "cell_type": "code",
   "execution_count": null,
   "metadata": {
    "ExecuteTime": {
     "end_time": "2019-07-19T06:29:07.303453Z",
     "start_time": "2019-07-19T06:29:06.722520Z"
    },
    "hidden": true
   },
   "outputs": [],
   "source": [
    "model = EfficientNet.from_pretrained('efficientnet-b3', num_classes=1)\n"
   ]
  },
  {
   "cell_type": "code",
   "execution_count": null,
   "metadata": {
    "ExecuteTime": {
     "end_time": "2019-07-19T06:32:08.404495Z",
     "start_time": "2019-07-19T06:32:08.401951Z"
    },
    "hidden": true
   },
   "outputs": [],
   "source": [
    "def pytorch_count_params(model):\n",
    "    from functools import reduce    \n",
    "    \"count number trainable parameters in a pytorch model\"\n",
    "    total_params = sum(reduce( lambda a, b: a*b, x.size()) for x in model.parameters())\n",
    "    return total_params"
   ]
  },
  {
   "cell_type": "code",
   "execution_count": null,
   "metadata": {
    "ExecuteTime": {
     "end_time": "2019-07-19T06:32:09.674952Z",
     "start_time": "2019-07-19T06:32:09.668719Z"
    },
    "hidden": true
   },
   "outputs": [],
   "source": [
    "pytorch_count_params(model)"
   ]
  },
  {
   "cell_type": "code",
   "execution_count": null,
   "metadata": {
    "ExecuteTime": {
     "end_time": "2019-07-17T19:15:38.710461Z",
     "start_time": "2019-07-17T19:15:38.700183Z"
    },
    "hidden": true
   },
   "outputs": [],
   "source": [
    "model"
   ]
  },
  {
   "cell_type": "code",
   "execution_count": null,
   "metadata": {
    "ExecuteTime": {
     "end_time": "2019-07-18T09:26:55.039740Z",
     "start_time": "2019-07-18T09:26:55.037574Z"
    },
    "hidden": true
   },
   "outputs": [],
   "source": [
    "a = 'asdf1234'"
   ]
  },
  {
   "cell_type": "code",
   "execution_count": null,
   "metadata": {
    "ExecuteTime": {
     "end_time": "2019-07-18T09:27:05.242150Z",
     "start_time": "2019-07-18T09:27:05.237315Z"
    },
    "hidden": true
   },
   "outputs": [],
   "source": [
    "a.startswith('asd')"
   ]
  },
  {
   "cell_type": "code",
   "execution_count": null,
   "metadata": {
    "hidden": true
   },
   "outputs": [],
   "source": []
  },
  {
   "cell_type": "code",
   "execution_count": null,
   "metadata": {
    "hidden": true
   },
   "outputs": [],
   "source": []
  },
  {
   "cell_type": "code",
   "execution_count": null,
   "metadata": {
    "hidden": true
   },
   "outputs": [],
   "source": []
  },
  {
   "cell_type": "code",
   "execution_count": null,
   "metadata": {
    "ExecuteTime": {
     "end_time": "2019-07-16T14:13:26.423251Z",
     "start_time": "2019-07-16T14:13:26.013653Z"
    },
    "hidden": true
   },
   "outputs": [],
   "source": [
    "model = get_model('se_resnet50_v0')"
   ]
  },
  {
   "cell_type": "code",
   "execution_count": null,
   "metadata": {
    "ExecuteTime": {
     "end_time": "2019-07-16T14:14:25.744039Z",
     "start_time": "2019-07-16T14:14:25.738066Z"
    },
    "hidden": true
   },
   "outputs": [],
   "source": [
    "model.model.features"
   ]
  },
  {
   "cell_type": "markdown",
   "metadata": {
    "heading_collapsed": true
   },
   "source": [
    "### test"
   ]
  },
  {
   "cell_type": "code",
   "execution_count": null,
   "metadata": {
    "ExecuteTime": {
     "end_time": "2019-07-11T08:08:49.224052Z",
     "start_time": "2019-07-11T08:08:49.203942Z"
    },
    "hidden": true
   },
   "outputs": [],
   "source": [
    "df = pd.read_csv('../data/train_all.csv')"
   ]
  },
  {
   "cell_type": "code",
   "execution_count": null,
   "metadata": {
    "ExecuteTime": {
     "end_time": "2019-07-11T08:08:52.487887Z",
     "start_time": "2019-07-11T08:08:52.483035Z"
    },
    "hidden": true
   },
   "outputs": [],
   "source": [
    "df.shape"
   ]
  },
  {
   "cell_type": "code",
   "execution_count": null,
   "metadata": {
    "ExecuteTime": {
     "end_time": "2019-07-11T08:09:52.306575Z",
     "start_time": "2019-07-11T08:09:52.303982Z"
    },
    "hidden": true
   },
   "outputs": [],
   "source": [
    "df_mod = df.iloc[:5000]"
   ]
  },
  {
   "cell_type": "code",
   "execution_count": null,
   "metadata": {
    "ExecuteTime": {
     "end_time": "2019-07-11T08:09:55.911965Z",
     "start_time": "2019-07-11T08:09:55.908842Z"
    },
    "hidden": true
   },
   "outputs": [],
   "source": [
    "df_mod.shape"
   ]
  },
  {
   "cell_type": "markdown",
   "metadata": {
    "heading_collapsed": true
   },
   "source": [
    "### Activation maps, heatmaps, forward hooks, base model features"
   ]
  },
  {
   "cell_type": "code",
   "execution_count": null,
   "metadata": {
    "ExecuteTime": {
     "end_time": "2019-07-10T08:55:07.236419Z",
     "start_time": "2019-07-10T08:54:26.184825Z"
    },
    "hidden": true
   },
   "outputs": [],
   "source": [
    "import torch\n",
    "import torch.nn as nn\n",
    "import torch.optim as optim\n",
    "import torch.nn.functional as F\n",
    "from torch.utils.data import DataLoader\n",
    "\n",
    "import torchvision.transforms as transforms\n",
    "import torchvision.datasets as datasets\n",
    "\n",
    "import matplotlib.pyplot as plt\n",
    "\n",
    "\n",
    "class MyModel(nn.Module):\n",
    "    def __init__(self):\n",
    "        super(MyModel, self).__init__()\n",
    "        self.conv1 = nn.Conv2d(1, 3, 3, 1, 1)\n",
    "        self.pool1 = nn.MaxPool2d(2)\n",
    "        self.conv2 = nn.Conv2d(3, 6, 3, 1, 1)\n",
    "        self.pool2 = nn.MaxPool2d(2)\n",
    "        \n",
    "        self.conv_trans1 = nn.ConvTranspose2d(6, 3, 4, 2, 1)\n",
    "        self.conv_trans2 = nn.ConvTranspose2d(3, 1, 4, 2, 1)\n",
    "        \n",
    "    def forward(self, x):\n",
    "        x = F.relu(self.pool1(self.conv1(x)))\n",
    "        x = F.relu(self.pool2(self.conv2(x)))        \n",
    "        x = F.relu(self.conv_trans1(x))\n",
    "        x = self.conv_trans2(x)\n",
    "        return x\n",
    "\n",
    "dataset = datasets.MNIST(\n",
    "    root='PATH',\n",
    "    transform=transforms.ToTensor(),\n",
    "    download=True\n",
    ")\n",
    "loader = DataLoader(\n",
    "    dataset,\n",
    "    num_workers=2,\n",
    "    batch_size=8,\n",
    "    shuffle=True\n",
    ")\n",
    "\n",
    "model = MyModel()\n",
    "criterion = nn.BCEWithLogitsLoss()\n",
    "optimizer = optim.Adam(model.parameters(), lr=1e-3)\n",
    "\n",
    "epochs = 1\n",
    "for epoch in range(epochs):\n",
    "    for batch_idx, (data, target) in enumerate(loader):\n",
    "        optimizer.zero_grad()\n",
    "        output = model(data)\n",
    "        loss = criterion(output, data)\n",
    "        loss.backward()\n",
    "        optimizer.step()\n",
    "        \n",
    "        print('Epoch {}, Batch idx {}, loss {}'.format(\n",
    "            epoch, batch_idx, loss.item()))\n",
    "\n",
    "\n",
    "def normalize_output(img):\n",
    "    img = img - img.min()\n",
    "    img = img / img.max()\n",
    "    return img\n",
    "\n"
   ]
  },
  {
   "cell_type": "code",
   "execution_count": null,
   "metadata": {
    "ExecuteTime": {
     "end_time": "2019-07-10T08:58:10.461601Z",
     "start_time": "2019-07-10T08:58:10.457653Z"
    },
    "hidden": true
   },
   "outputs": [],
   "source": [
    "output.shape, pred.shape"
   ]
  },
  {
   "cell_type": "code",
   "execution_count": null,
   "metadata": {
    "ExecuteTime": {
     "end_time": "2019-07-10T09:03:26.578695Z",
     "start_time": "2019-07-10T09:03:26.397765Z"
    },
    "hidden": true
   },
   "outputs": [],
   "source": [
    "# Plot some images\n",
    "idx = torch.randint(0, output.size(0), ())\n",
    "pred = normalize_output(output[idx, 0])\n",
    "img = data[idx, 0]\n",
    "\n",
    "fig, axarr = plt.subplots(1, 2)\n",
    "axarr[0].imshow(img.detach().numpy())\n",
    "axarr[1].imshow(pred.detach().numpy())\n"
   ]
  },
  {
   "cell_type": "code",
   "execution_count": null,
   "metadata": {
    "ExecuteTime": {
     "end_time": "2019-07-10T09:04:20.041885Z",
     "start_time": "2019-07-10T09:04:20.036451Z"
    },
    "hidden": true
   },
   "outputs": [],
   "source": [
    "\n",
    "# Visualize feature maps\n",
    "activation = {}\n",
    "def get_activation(name):\n",
    "    def hook(model, input, output):\n",
    "        activation[name] = output.detach()\n",
    "    return hook\n",
    "\n",
    "model.conv1.register_forward_hook(get_activation('conv1'))\n"
   ]
  },
  {
   "cell_type": "code",
   "execution_count": null,
   "metadata": {
    "ExecuteTime": {
     "end_time": "2019-07-10T09:04:36.444273Z",
     "start_time": "2019-07-10T09:04:36.437211Z"
    },
    "hidden": true
   },
   "outputs": [],
   "source": [
    "\n",
    "data, _ = dataset[0]\n",
    "data.unsqueeze_(0)\n",
    "output = model(data)\n",
    "\n",
    "act = activation['conv1'].squeeze()\n"
   ]
  },
  {
   "cell_type": "code",
   "execution_count": null,
   "metadata": {
    "ExecuteTime": {
     "end_time": "2019-07-10T09:05:01.618750Z",
     "start_time": "2019-07-10T09:05:01.615612Z"
    },
    "hidden": true
   },
   "outputs": [],
   "source": [
    "data.shape, output.shape, act.shape"
   ]
  },
  {
   "cell_type": "code",
   "execution_count": null,
   "metadata": {
    "ExecuteTime": {
     "end_time": "2019-07-10T09:05:10.328097Z",
     "start_time": "2019-07-10T09:05:10.029337Z"
    },
    "hidden": true
   },
   "outputs": [],
   "source": [
    "fig, axarr = plt.subplots(act.size(0))\n",
    "for idx in range(act.size(0)):\n",
    "    axarr[idx].imshow(act[idx])"
   ]
  },
  {
   "cell_type": "code",
   "execution_count": null,
   "metadata": {
    "ExecuteTime": {
     "end_time": "2019-07-10T09:19:22.241325Z",
     "start_time": "2019-07-10T09:19:22.046794Z"
    },
    "hidden": true
   },
   "outputs": [],
   "source": [
    "model_name = \"densenet121\"\n",
    "model = Model(model_name, 5)"
   ]
  },
  {
   "cell_type": "code",
   "execution_count": null,
   "metadata": {
    "ExecuteTime": {
     "end_time": "2019-07-10T09:23:06.689532Z",
     "start_time": "2019-07-10T09:23:06.686006Z"
    },
    "hidden": true
   },
   "outputs": [],
   "source": [
    "model.model.features.norm5.register_forward_hook(get_activation('norm5'))"
   ]
  },
  {
   "cell_type": "code",
   "execution_count": null,
   "metadata": {
    "ExecuteTime": {
     "end_time": "2019-07-10T09:23:22.136129Z",
     "start_time": "2019-07-10T09:23:22.133372Z"
    },
    "hidden": true
   },
   "outputs": [],
   "source": [
    "#model.model.features.register_forward_hook()"
   ]
  },
  {
   "cell_type": "code",
   "execution_count": null,
   "metadata": {
    "ExecuteTime": {
     "end_time": "2019-07-10T09:25:24.214158Z",
     "start_time": "2019-07-10T09:25:24.080844Z"
    },
    "hidden": true
   },
   "outputs": [],
   "source": [
    "img = torch.rand(1, 3, 224, 224)\n",
    "output = model(img)\n",
    "img.shape, output.shape"
   ]
  },
  {
   "cell_type": "code",
   "execution_count": null,
   "metadata": {
    "ExecuteTime": {
     "end_time": "2019-07-10T09:25:49.447707Z",
     "start_time": "2019-07-10T09:25:49.444929Z"
    },
    "hidden": true
   },
   "outputs": [],
   "source": [
    "act = activation['norm5'].squeeze()"
   ]
  },
  {
   "cell_type": "code",
   "execution_count": null,
   "metadata": {
    "ExecuteTime": {
     "end_time": "2019-07-10T09:25:54.921847Z",
     "start_time": "2019-07-10T09:25:54.918157Z"
    },
    "hidden": true
   },
   "outputs": [],
   "source": [
    "act.shape"
   ]
  },
  {
   "cell_type": "code",
   "execution_count": null,
   "metadata": {
    "ExecuteTime": {
     "end_time": "2019-07-10T09:26:53.022392Z",
     "start_time": "2019-07-10T09:26:53.019645Z"
    },
    "hidden": true
   },
   "outputs": [],
   "source": [
    "avg_act = torch.mean(act, 0)"
   ]
  },
  {
   "cell_type": "code",
   "execution_count": null,
   "metadata": {
    "ExecuteTime": {
     "end_time": "2019-07-10T09:27:23.191509Z",
     "start_time": "2019-07-10T09:27:23.072761Z"
    },
    "hidden": true
   },
   "outputs": [],
   "source": [
    "\n",
    "plt.imshow(avg_act)"
   ]
  },
  {
   "cell_type": "code",
   "execution_count": null,
   "metadata": {
    "ExecuteTime": {
     "end_time": "2019-07-09T09:03:34.619692Z",
     "start_time": "2019-07-09T09:03:34.605111Z"
    },
    "hidden": true
   },
   "outputs": [],
   "source": [
    "scipy.optimize.minimize?"
   ]
  },
  {
   "cell_type": "code",
   "execution_count": null,
   "metadata": {
    "hidden": true
   },
   "outputs": [],
   "source": []
  },
  {
   "cell_type": "code",
   "execution_count": null,
   "metadata": {
    "hidden": true
   },
   "outputs": [],
   "source": []
  },
  {
   "cell_type": "code",
   "execution_count": null,
   "metadata": {
    "ExecuteTime": {
     "end_time": "2019-07-08T11:38:41.989850Z",
     "start_time": "2019-07-08T11:38:41.985288Z"
    },
    "hidden": true
   },
   "outputs": [],
   "source": []
  },
  {
   "cell_type": "code",
   "execution_count": null,
   "metadata": {
    "ExecuteTime": {
     "end_time": "2019-07-08T12:35:01.532754Z",
     "start_time": "2019-07-08T12:35:01.528783Z"
    },
    "hidden": true
   },
   "outputs": [],
   "source": [
    "arr = np.array([[1, 1, 1, 1, 1], [1, 1, 0, 0, 0], [1, 0, 1, 1, 0], [0, 0, 0, 0, 0]])\n",
    "mask = arr == 0\n",
    "np.clip(np.where(mask.any(1), mask.argmax(1), 5) - 1, 0, 4)"
   ]
  },
  {
   "cell_type": "code",
   "execution_count": null,
   "metadata": {
    "ExecuteTime": {
     "end_time": "2019-07-08T12:24:04.496151Z",
     "start_time": "2019-07-08T12:24:04.493900Z"
    },
    "hidden": true
   },
   "outputs": [],
   "source": [
    "mask"
   ]
  },
  {
   "cell_type": "code",
   "execution_count": null,
   "metadata": {
    "ExecuteTime": {
     "end_time": "2019-07-08T12:26:42.590196Z",
     "start_time": "2019-07-08T12:26:42.585288Z"
    },
    "hidden": true
   },
   "outputs": [],
   "source": [
    "mask.any(1), mask.argmax(1) "
   ]
  },
  {
   "cell_type": "code",
   "execution_count": null,
   "metadata": {
    "ExecuteTime": {
     "end_time": "2019-07-08T12:28:11.515384Z",
     "start_time": "2019-07-08T12:28:11.512611Z"
    },
    "hidden": true
   },
   "outputs": [],
   "source": [
    "np.where(mask.any(1), mask.argmax(1), 5)"
   ]
  },
  {
   "cell_type": "code",
   "execution_count": null,
   "metadata": {
    "ExecuteTime": {
     "end_time": "2019-07-08T12:20:06.062046Z",
     "start_time": "2019-07-08T12:20:06.058338Z"
    },
    "hidden": true
   },
   "outputs": [],
   "source": [
    "np.where?"
   ]
  },
  {
   "cell_type": "code",
   "execution_count": null,
   "metadata": {
    "ExecuteTime": {
     "end_time": "2019-07-08T10:58:31.781399Z",
     "start_time": "2019-07-08T10:58:31.777605Z"
    },
    "hidden": true
   },
   "outputs": [],
   "source": [
    "target = [1, 2, 3, 4, 0, 1, 2, 3, 4]\n",
    "NUM_CLASSES = 5\n",
    "to_multi_label(target)"
   ]
  },
  {
   "cell_type": "markdown",
   "metadata": {
    "heading_collapsed": true
   },
   "source": [
    "###  pycm analysis"
   ]
  },
  {
   "cell_type": "code",
   "execution_count": null,
   "metadata": {
    "ExecuteTime": {
     "end_time": "2019-07-06T12:18:49.565948Z",
     "start_time": "2019-07-06T12:18:49.562859Z"
    },
    "hidden": true
   },
   "outputs": [],
   "source": [
    "from pycm import *\n",
    "y_actu = [2, 0, 2, 2, 0, 1, 1, 2, 2, 0, 1, 2] # or y_actu = numpy.array([2, 0, 2, 2, 0, 1, 1, 2, 2, 0, 1, 2])\n",
    "y_pred = [0, 0, 2, 1, 0, 2, 1, 0, 2, 0, 2, 2] # or y_pred = numpy.array([0, 0, 2, 1, 0, 2, 1, 0, 2, 0, 2, 2])\n",
    "cm = ConfusionMatrix(actual_vector=y_actu, predict_vector=y_pred) # Create CM From Data"
   ]
  },
  {
   "cell_type": "code",
   "execution_count": null,
   "metadata": {
    "ExecuteTime": {
     "end_time": "2019-07-06T12:18:50.421121Z",
     "start_time": "2019-07-06T12:18:50.417856Z"
    },
    "hidden": true
   },
   "outputs": [],
   "source": [
    "cm.ACC"
   ]
  },
  {
   "cell_type": "code",
   "execution_count": null,
   "metadata": {
    "ExecuteTime": {
     "end_time": "2019-07-06T12:18:50.665623Z",
     "start_time": "2019-07-06T12:18:50.659328Z"
    },
    "hidden": true
   },
   "outputs": [],
   "source": [
    "cm.stat()"
   ]
  },
  {
   "cell_type": "code",
   "execution_count": null,
   "metadata": {
    "ExecuteTime": {
     "end_time": "2019-07-06T12:18:53.050944Z",
     "start_time": "2019-07-06T12:18:52.919080Z"
    },
    "hidden": true
   },
   "outputs": [],
   "source": [
    "!ls"
   ]
  },
  {
   "cell_type": "code",
   "execution_count": null,
   "metadata": {
    "ExecuteTime": {
     "end_time": "2019-07-06T12:21:23.393249Z",
     "start_time": "2019-07-06T12:21:23.175551Z"
    },
    "hidden": true
   },
   "outputs": [],
   "source": [
    "cms = {}\n",
    "cmfiles = glob('weights/5Jul_resnext101_32x4d_fold1/logs/*val*.obj')\n",
    "for i in range(len(cmfiles)):\n",
    "    cms[f\"cm{i}\"] = ConfusionMatrix(file=open(f\"weights/5Jul_resnext101_32x4d_fold1/logs/cmval_{i}.obj\",\"r\"))"
   ]
  },
  {
   "cell_type": "code",
   "execution_count": null,
   "metadata": {
    "ExecuteTime": {
     "end_time": "2019-07-06T12:21:46.554525Z",
     "start_time": "2019-07-06T12:21:46.551516Z"
    },
    "hidden": true
   },
   "outputs": [],
   "source": [
    "cp = Compare(cms)"
   ]
  },
  {
   "cell_type": "code",
   "execution_count": null,
   "metadata": {
    "ExecuteTime": {
     "end_time": "2019-07-06T12:21:50.251809Z",
     "start_time": "2019-07-06T12:21:50.248001Z"
    },
    "hidden": true
   },
   "outputs": [],
   "source": [
    "print(cp)"
   ]
  },
  {
   "cell_type": "code",
   "execution_count": null,
   "metadata": {
    "ExecuteTime": {
     "end_time": "2019-07-05T15:17:44.701082Z",
     "start_time": "2019-07-05T15:17:44.693202Z"
    },
    "hidden": true
   },
   "outputs": [],
   "source": [
    "cms['cm0'].overall_stat"
   ]
  },
  {
   "cell_type": "code",
   "execution_count": null,
   "metadata": {
    "ExecuteTime": {
     "end_time": "2019-07-06T12:50:33.021510Z",
     "start_time": "2019-07-06T12:50:33.016862Z"
    },
    "hidden": true,
    "scrolled": true
   },
   "outputs": [],
   "source": [
    "save_folder = \"weights\"\n",
    "phase = \"val\"\n",
    "val_logger = Logger(os.path.join(save_folder, \"logs/val\"),)\n",
    "train_logger = Logger(os.path.join(save_folder, \"logs/train\"))\n",
    "#configure( flush_secs=5)"
   ]
  },
  {
   "cell_type": "code",
   "execution_count": null,
   "metadata": {
    "ExecuteTime": {
     "end_time": "2019-07-06T12:50:36.183102Z",
     "start_time": "2019-07-06T12:50:36.180113Z"
    },
    "hidden": true
   },
   "outputs": [],
   "source": [
    "metrics = [\"Overall ACC\", \"Kappa\", \"TPR Micro\", \"PPV Micro\", \"F1 Micro\", \"Cross Entropy\", ]\n",
    "overall_stats = {x:[] for x in metrics}\n",
    "for i in range(len(cmfiles)):\n",
    "    for j in overall_stats.keys():\n",
    "        overall_stats[j].append(cms[\"cm%d\" % i].overall_stat[j])"
   ]
  },
  {
   "cell_type": "code",
   "execution_count": null,
   "metadata": {
    "ExecuteTime": {
     "end_time": "2019-07-06T12:50:50.091901Z",
     "start_time": "2019-07-06T12:50:50.088155Z"
    },
    "hidden": true
   },
   "outputs": [],
   "source": [
    "def log_all(name, data_list, logger):\n",
    "    for idx, val in enumerate(data_list):\n",
    "        logger.log_value(name, val, idx)"
   ]
  },
  {
   "cell_type": "code",
   "execution_count": null,
   "metadata": {
    "ExecuteTime": {
     "end_time": "2019-07-06T12:51:34.836988Z",
     "start_time": "2019-07-06T12:51:34.824788Z"
    },
    "hidden": true
   },
   "outputs": [],
   "source": [
    "for metric in metrics:\n",
    "    log_all(metric, overall_stats[metric], val_logger)"
   ]
  },
  {
   "cell_type": "code",
   "execution_count": null,
   "metadata": {
    "hidden": true
   },
   "outputs": [],
   "source": []
  },
  {
   "cell_type": "code",
   "execution_count": null,
   "metadata": {
    "hidden": true
   },
   "outputs": [],
   "source": []
  },
  {
   "cell_type": "code",
   "execution_count": null,
   "metadata": {
    "hidden": true
   },
   "outputs": [],
   "source": []
  },
  {
   "cell_type": "code",
   "execution_count": null,
   "metadata": {
    "hidden": true
   },
   "outputs": [],
   "source": []
  },
  {
   "cell_type": "code",
   "execution_count": null,
   "metadata": {
    "ExecuteTime": {
     "end_time": "2019-07-05T13:56:37.571313Z",
     "start_time": "2019-07-05T13:56:37.565919Z"
    },
    "hidden": true
   },
   "outputs": [],
   "source": [
    "a = torch.Tensor([[0, 0, 1], [1, 0, 0]])"
   ]
  },
  {
   "cell_type": "code",
   "execution_count": null,
   "metadata": {
    "ExecuteTime": {
     "end_time": "2019-07-05T13:57:13.125678Z",
     "start_time": "2019-07-05T13:57:13.120449Z"
    },
    "hidden": true
   },
   "outputs": [],
   "source": [
    "torch.argmax(a, dim=1)"
   ]
  },
  {
   "cell_type": "code",
   "execution_count": null,
   "metadata": {
    "ExecuteTime": {
     "end_time": "2019-07-05T13:57:00.755656Z",
     "start_time": "2019-07-05T13:57:00.749133Z"
    },
    "hidden": true
   },
   "outputs": [],
   "source": [
    "torch.argmax?"
   ]
  },
  {
   "cell_type": "code",
   "execution_count": null,
   "metadata": {
    "ExecuteTime": {
     "end_time": "2019-07-05T11:59:45.519358Z",
     "start_time": "2019-07-05T11:59:45.513981Z"
    },
    "hidden": true
   },
   "outputs": [],
   "source": [
    "labels = [1, 0, 2, 3, 2, 3, 3, 3]\n",
    "#np.eye(len(labels), 4)\n",
    "#np.eye(4)[1]\n",
    "len(np.unique(labels))kk"
   ]
  },
  {
   "cell_type": "code",
   "execution_count": null,
   "metadata": {
    "ExecuteTime": {
     "end_time": "2019-03-10T07:37:34.823215Z",
     "start_time": "2019-03-10T07:37:34.694235Z"
    },
    "hidden": true
   },
   "outputs": [],
   "source": [
    "!ls data"
   ]
  },
  {
   "cell_type": "code",
   "execution_count": null,
   "metadata": {
    "ExecuteTime": {
     "end_time": "2019-03-10T07:37:35.040492Z",
     "start_time": "2019-03-10T07:37:34.824387Z"
    },
    "hidden": true
   },
   "outputs": [],
   "source": [
    "train_df = pd.read_csv('data/train_labels.csv')\n",
    "test_df = pd.read_csv('data/sample_submission.csv')"
   ]
  },
  {
   "cell_type": "code",
   "execution_count": null,
   "metadata": {
    "ExecuteTime": {
     "end_time": "2019-03-10T07:37:35.045887Z",
     "start_time": "2019-03-10T07:37:35.041858Z"
    },
    "hidden": true
   },
   "outputs": [],
   "source": [
    "test_df.shape"
   ]
  },
  {
   "cell_type": "code",
   "execution_count": null,
   "metadata": {
    "ExecuteTime": {
     "end_time": "2019-03-10T07:37:35.066250Z",
     "start_time": "2019-03-10T07:37:35.047455Z"
    },
    "hidden": true
   },
   "outputs": [],
   "source": [
    "train_df.head()"
   ]
  },
  {
   "cell_type": "code",
   "execution_count": null,
   "metadata": {
    "ExecuteTime": {
     "end_time": "2019-03-10T07:37:35.092505Z",
     "start_time": "2019-03-10T07:37:35.067475Z"
    },
    "hidden": true
   },
   "outputs": [],
   "source": [
    "train_df.at[0, 'label'] = 1"
   ]
  },
  {
   "cell_type": "code",
   "execution_count": null,
   "metadata": {
    "ExecuteTime": {
     "end_time": "2019-03-10T07:37:35.568774Z",
     "start_time": "2019-03-10T07:37:35.566916Z"
    },
    "hidden": true
   },
   "outputs": [],
   "source": [
    "kfold = StratifiedKFold(20, shuffle=True, random_state=69)"
   ]
  },
  {
   "cell_type": "code",
   "execution_count": null,
   "metadata": {
    "ExecuteTime": {
     "end_time": "2019-03-10T07:37:36.231318Z",
     "start_time": "2019-03-10T07:37:36.228385Z"
    },
    "hidden": true
   },
   "outputs": [],
   "source": [
    "kfold.split(train_df['id'], train_df['label'])"
   ]
  },
  {
   "cell_type": "code",
   "execution_count": null,
   "metadata": {
    "ExecuteTime": {
     "end_time": "2019-03-10T07:37:37.386995Z",
     "start_time": "2019-03-10T07:37:37.290942Z"
    },
    "hidden": true
   },
   "outputs": [],
   "source": [
    "train_df.iloc[test]"
   ]
  },
  {
   "cell_type": "code",
   "execution_count": null,
   "metadata": {
    "ExecuteTime": {
     "end_time": "2019-03-10T07:37:37.832366Z",
     "start_time": "2019-03-10T07:37:37.826287Z"
    },
    "hidden": true
   },
   "outputs": [],
   "source": [
    "train_df.head()"
   ]
  },
  {
   "cell_type": "code",
   "execution_count": null,
   "metadata": {
    "ExecuteTime": {
     "end_time": "2019-03-10T07:37:38.925097Z",
     "start_time": "2019-03-10T07:37:38.890891Z"
    },
    "hidden": true
   },
   "outputs": [],
   "source": [
    "train_df.info(), test_df.info()"
   ]
  },
  {
   "cell_type": "code",
   "execution_count": null,
   "metadata": {
    "ExecuteTime": {
     "end_time": "2019-03-10T07:37:39.821810Z",
     "start_time": "2019-03-10T07:37:39.801762Z"
    },
    "hidden": true
   },
   "outputs": [],
   "source": [
    "%%time\n",
    "img = mpimg.imread('data/train/00001b2b5609af42ab0ab276dd4cd41c3e7745b5.tif')"
   ]
  },
  {
   "cell_type": "code",
   "execution_count": null,
   "metadata": {
    "ExecuteTime": {
     "end_time": "2019-03-10T07:37:55.077161Z",
     "start_time": "2019-03-10T07:37:40.249308Z"
    },
    "hidden": true
   },
   "outputs": [],
   "source": [
    "timeit mpimg.imread('data/train/00001b2b5609af42ab0ab276dd4cd41c3e7745b5.tif')"
   ]
  },
  {
   "cell_type": "code",
   "execution_count": null,
   "metadata": {
    "ExecuteTime": {
     "end_time": "2019-03-07T16:27:58.535990Z",
     "start_time": "2019-03-07T16:27:46.299666Z"
    },
    "hidden": true
   },
   "outputs": [],
   "source": [
    "timeit pil_loader('data/train/00001b2b5609af42ab0ab276dd4cd41c3e7745b5.tif')"
   ]
  },
  {
   "cell_type": "code",
   "execution_count": null,
   "metadata": {
    "ExecuteTime": {
     "end_time": "2019-03-06T15:12:50.961133Z",
     "start_time": "2019-03-06T15:12:47.191514Z"
    },
    "hidden": true
   },
   "outputs": [],
   "source": [
    "timeit cv2.imread('data/train/00001b2b5609af42ab0ab276dd4cd41c3e7745b5.tif', flags=cv2.IMREAD_COLOR)"
   ]
  },
  {
   "cell_type": "code",
   "execution_count": null,
   "metadata": {
    "ExecuteTime": {
     "end_time": "2019-03-06T15:18:21.212233Z",
     "start_time": "2019-03-06T15:18:19.341059Z"
    },
    "hidden": true
   },
   "outputs": [],
   "source": [
    "timeit io.imread(\"data/train/00001b2b5609af42ab0ab276dd4cd41c3e7745b5.tif\")"
   ]
  },
  {
   "cell_type": "code",
   "execution_count": null,
   "metadata": {
    "ExecuteTime": {
     "end_time": "2019-03-10T07:38:05.189234Z",
     "start_time": "2019-03-10T07:38:05.187374Z"
    },
    "hidden": true
   },
   "outputs": [],
   "source": [
    "img = torch.Tensor(img)"
   ]
  },
  {
   "cell_type": "code",
   "execution_count": null,
   "metadata": {
    "ExecuteTime": {
     "end_time": "2019-03-10T07:38:17.317412Z",
     "start_time": "2019-03-10T07:38:17.314828Z"
    },
    "hidden": true
   },
   "outputs": [],
   "source": [
    "img.flip?"
   ]
  },
  {
   "cell_type": "code",
   "execution_count": null,
   "metadata": {
    "ExecuteTime": {
     "end_time": "2019-03-10T07:38:28.007592Z",
     "start_time": "2019-03-10T07:38:28.005511Z"
    },
    "hidden": true
   },
   "outputs": [],
   "source": [
    "torch.flip?"
   ]
  },
  {
   "cell_type": "code",
   "execution_count": null,
   "metadata": {
    "hidden": true
   },
   "outputs": [],
   "source": []
  },
  {
   "cell_type": "markdown",
   "metadata": {
    "heading_collapsed": true
   },
   "source": [
    "### use cv2.imread for reading images "
   ]
  },
  {
   "cell_type": "code",
   "execution_count": null,
   "metadata": {
    "ExecuteTime": {
     "end_time": "2019-03-04T14:35:01.494063Z",
     "start_time": "2019-03-04T14:35:01.490754Z"
    },
    "hidden": true
   },
   "outputs": [],
   "source": [
    "img.shape\n"
   ]
  },
  {
   "cell_type": "code",
   "execution_count": null,
   "metadata": {
    "ExecuteTime": {
     "end_time": "2019-03-06T15:03:55.009058Z",
     "start_time": "2019-03-06T15:03:54.893133Z"
    },
    "hidden": true
   },
   "outputs": [],
   "source": [
    "plt.imshow(img)"
   ]
  },
  {
   "cell_type": "code",
   "execution_count": null,
   "metadata": {
    "ExecuteTime": {
     "end_time": "2019-03-04T14:35:02.359686Z",
     "start_time": "2019-03-04T14:35:02.264286Z"
    },
    "hidden": true
   },
   "outputs": [],
   "source": [
    "# plot some random training images with their ground truth labels\n",
    "i = random.choice(range(train_df.shape[0]))\n",
    "img = mpimg.imread('data/train/' + train_df.iloc[i]['id'] + '.tif')\n",
    "plt.imshow(img)\n",
    "plt.title(train_df.iloc[i]['label'])\n",
    "plt.show()"
   ]
  },
  {
   "cell_type": "code",
   "execution_count": null,
   "metadata": {
    "ExecuteTime": {
     "end_time": "2019-03-04T14:35:02.474089Z",
     "start_time": "2019-03-04T14:35:02.468284Z"
    },
    "hidden": true
   },
   "outputs": [],
   "source": [
    "train_df['label'].value_counts()"
   ]
  },
  {
   "cell_type": "code",
   "execution_count": null,
   "metadata": {
    "ExecuteTime": {
     "end_time": "2019-03-04T14:35:02.723464Z",
     "start_time": "2019-03-04T14:35:02.718236Z"
    },
    "hidden": true
   },
   "outputs": [],
   "source": [
    "train_df['label'].hist"
   ]
  },
  {
   "cell_type": "code",
   "execution_count": null,
   "metadata": {
    "ExecuteTime": {
     "end_time": "2019-03-06T19:56:24.770069Z",
     "start_time": "2019-03-06T19:56:24.574486Z"
    },
    "hidden": true
   },
   "outputs": [],
   "source": [
    "img = mpimg.imread('data/train/dd6dfed324f9fcb6f93f46f32fc800f2ec196be2.tif')\n",
    "plt.imshow(img)\n",
    "plt.show();\n",
    "aug_img = train_aug(image=img)\n",
    "plt.imshow(aug_img['image'])\n",
    "plt.show();"
   ]
  },
  {
   "cell_type": "markdown",
   "metadata": {
    "heading_collapsed": true
   },
   "source": [
    "### Dataloader analysis\n"
   ]
  },
  {
   "cell_type": "code",
   "execution_count": null,
   "metadata": {
    "ExecuteTime": {
     "end_time": "2019-08-12T19:10:07.667433Z",
     "start_time": "2019-08-12T19:10:07.663520Z"
    },
    "hidden": true
   },
   "outputs": [],
   "source": [
    "\n",
    "def resampled(df):\n",
    "    ''' resample from df with replace=False'''\n",
    "    def sample(obj):  # [5]\n",
    "        return obj.sample(n=count_dict[obj.name], replace=False)\n",
    "\n",
    "    count_dict = {\n",
    "        0: 8000,\n",
    "        2: 5292,\n",
    "        1: 2443,\n",
    "        3: 873,\n",
    "        4: 708,\n",
    "    }\n",
    "        \n",
    "    sampled_df = df.groupby('diagnosis').apply(sample).reset_index(drop=True)\n",
    "\n",
    "    return sampled_df\n",
    "\n"
   ]
  },
  {
   "cell_type": "code",
   "execution_count": null,
   "metadata": {
    "ExecuteTime": {
     "end_time": "2019-08-12T19:10:19.970730Z",
     "start_time": "2019-08-12T19:10:19.940422Z"
    },
    "hidden": true
   },
   "outputs": [],
   "source": [
    "df = pd.read_csv('../data/train_old.csv')\n",
    "df = resampled(df)\n",
    "\n",
    "kfold = StratifiedKFold(7, shuffle=True, random_state=69)\n",
    "train_idx, val_idx = list(kfold.split(\n",
    "    df[\"id_code\"], df[\"diagnosis\"]))[1]\n",
    "train_df, val_df = df.iloc[train_idx], df.iloc[val_idx]\n",
    "\n"
   ]
  },
  {
   "cell_type": "code",
   "execution_count": null,
   "metadata": {
    "ExecuteTime": {
     "end_time": "2019-08-12T19:10:48.887073Z",
     "start_time": "2019-08-12T19:10:47.967213Z"
    },
    "hidden": true
   },
   "outputs": [],
   "source": [
    "[x for x in train_df.id_code.tolist() if x in val_df.id_code.tolist()]"
   ]
  },
  {
   "cell_type": "code",
   "execution_count": null,
   "metadata": {
    "ExecuteTime": {
     "end_time": "2019-08-10T16:40:14.033153Z",
     "start_time": "2019-08-10T16:40:14.020353Z"
    },
    "hidden": true
   },
   "outputs": [],
   "source": [
    "from torch.utils.data import DataLoader, Dataset, sampler\n",
    "\n",
    "class ImageDataset(Dataset):\n",
    "    \"\"\"training dataset.\"\"\"\n",
    "\n",
    "    def __init__(self, df, phase, cfg):\n",
    "        \"\"\"\n",
    "        Args:\n",
    "                fold: for k fold CV\n",
    "                images_folder: the folder which contains the images\n",
    "                df_path: data frame path, which contains image ids\n",
    "                transform (callable, optional): Optional transform to be applied\n",
    "                on a sample.\n",
    "        \"\"\"\n",
    "        self.phase = phase\n",
    "        self.df = df\n",
    "        self.num_samples = self.df.shape[0]\n",
    "        self.fnames = self.df[\"id_code\"].values\n",
    "        self.labels = self.df[\"diagnosis\"].values.astype(\"int64\")\n",
    "        self.num_classes = len(np.unique(self.labels))\n",
    "        # self.labels = to_multi_label(self.labels, self.num_classes)  # [1]\n",
    "        # self.labels = np.eye(self.num_classes)[self.labels]\n",
    "        self.transform = get_transforms(phase, cfg)\n",
    "        self.root = cfg['data_folder']\n",
    "\n",
    "        '''\n",
    "        self.images = []\n",
    "        for fname in tqdm(self.fnames):\n",
    "            path = os.path.join(self.images_folder, \"bgcc300\", fname + \".npy\")\n",
    "            image = np.load(path)\n",
    "            self.images.append(image)\n",
    "        '''\n",
    "\n",
    "    def __getitem__(self, idx):\n",
    "        fname = self.fnames[idx]\n",
    "        label = self.labels[idx]\n",
    "        path = os.path.join(self.root, fname + \".npy\")\n",
    "        image = np.load(path)\n",
    "        image = image.astype('uint8')\n",
    "        #print(np.unique(image, return_counts=True))\n",
    "        #image = self.images[idx]\n",
    "        image = self.transform(image=image)[\"image\"]\n",
    "        return fname, image, label\n",
    "\n",
    "    def __len__(self):\n",
    "        # return 100\n",
    "        return len(self.df)\n",
    "\n",
    "\n",
    "def get_transforms(phase, cfg):\n",
    "    size = cfg['size']\n",
    "    mean = eval(cfg['mean'])\n",
    "    std = eval(cfg['std'])\n",
    "    print(type(size), type(mean), type(std))\n",
    "    list_transforms = [\n",
    "        # albumentations.Resize(size, size) # now doing this in __getitem__()\n",
    "    ]\n",
    "    if phase == \"train\":\n",
    "        list_transforms.extend(\n",
    "            [\n",
    "                albumentations.Transpose(p=0.5),\n",
    "                albumentations.Flip(p=0.5),\n",
    "                albumentations.ShiftScaleRotate(\n",
    "                    shift_limit=0,  # no resizing\n",
    "                    scale_limit=0.1,\n",
    "                    rotate_limit=120,\n",
    "                    p=0.5,\n",
    "                    border_mode=cv2.BORDER_CONSTANT\n",
    "                ),\n",
    "                albumentations.RandomBrightnessContrast(p=0.25),\n",
    "            ]\n",
    "        )\n",
    "    list_transforms.extend(\n",
    "        [\n",
    "\n",
    "            albumentations.Normalize(mean=mean, std=std, p=1),\n",
    "            #albumentations.Resize(size, size),\n",
    "            AT.ToTensor(normalize=None),  # [6]\n",
    "        ]\n",
    "    )\n",
    "    return albumentations.Compose(list_transforms)\n",
    "\n",
    "\n",
    "def get_sampler(df, cfg):\n",
    "    class_weights = cfg['class_weights']\n",
    "    print(\"weights\", class_weights)\n",
    "    dataset_weights = [class_weights[idx] for idx in df[\"diagnosis\"]]\n",
    "    #dataset_weights = df[\"weight\"].values\n",
    "    datasampler = sampler.WeightedRandomSampler(dataset_weights, len(df))\n",
    "\n",
    "    return datasampler\n",
    "\n",
    "\n",
    "def resampled(df):\n",
    "    ''' resample `total` data points from old data, following the dist of org data '''\n",
    "    def sample(obj):  # [5]\n",
    "        return obj.sample(n=count_dict[obj.name], replace=False)\n",
    "\n",
    "    count_dict = {\n",
    "        0: 6000,\n",
    "        2: 5292,\n",
    "        1: 2443,\n",
    "        3: 873,\n",
    "        4: 708\n",
    "    }  # notice the order of keys\n",
    "\n",
    "    sampled_df = df.groupby('diagnosis').apply(\n",
    "        sample).reset_index(drop=True)\n",
    "\n",
    "    return sampled_df\n",
    "\n",
    "\n",
    "def provider(phase, cfg):\n",
    "    fold = cfg['fold']\n",
    "    total_folds = cfg['total_folds']\n",
    "    data_folder = cfg['data_folder']\n",
    "    df_path = cfg['df_path']\n",
    "    class_weights = eval(cfg['class_weights'])\n",
    "    batch_size = cfg['batch_size'][phase]\n",
    "    num_workers = cfg['num_workers']\n",
    "    num_samples = cfg['num_samples']\n",
    "\n",
    "    df = pd.read_csv(df_path)\n",
    "    kfold = StratifiedKFold(total_folds, shuffle=True, random_state=69)\n",
    "    train_idx, val_idx = list(kfold.split(\n",
    "        df[\"id_code\"], df[\"diagnosis\"]))[fold]\n",
    "    train_df, val_df = df.iloc[train_idx], df.iloc[val_idx]\n",
    "\n",
    "    df = train_df if phase == \"train\" else val_df\n",
    "    image_dataset = ImageDataset(df, phase, cfg)\n",
    "\n",
    "    datasampler = None\n",
    "    if phase == \"train\" and class_weights:\n",
    "        datasampler = get_sampler(df, cfg)\n",
    "    print('datasampler:', datasampler)\n",
    "\n",
    "    dataloader = DataLoader(\n",
    "        image_dataset,\n",
    "        batch_size=batch_size,\n",
    "        num_workers=num_workers,\n",
    "        pin_memory=True,\n",
    "        shuffle=False if datasampler else True,\n",
    "        sampler=datasampler,\n",
    "    )  # shuffle and sampler are mutually exclusive args\n",
    "\n",
    "    #print(f'len(dataloader): {len(dataloader)}')\n",
    "    return dataloader\n",
    "\n"
   ]
  },
  {
   "cell_type": "code",
   "execution_count": null,
   "metadata": {
    "ExecuteTime": {
     "end_time": "2019-08-21T15:35:08.172965Z",
     "start_time": "2019-08-21T15:35:08.059158Z"
    },
    "hidden": true
   },
   "outputs": [],
   "source": [
    "#cfg = {\n",
    "#    \"num_workers\": 8,\n",
    "#    \"fold\": 0,\n",
    "#    \"total_folds\": 5,\n",
    "#    \"mean\": \"(0.485, 0.456, 0.406)\",\n",
    "#    \"std\": \"(0.229, 0.224, 0.225)\",\n",
    "#    \"size\": 300,\n",
    "#    'folder': '',\n",
    "#    #\"data_folder\": \"../data/npy_files/bgcc300\",\n",
    "#    \"data_folder\": \"../data/train_images/\",\n",
    "#    \"df_path\": './data/train.csv',\n",
    "#    \"num_samples\": \"None\",\n",
    "#    \"class_weights\": \"None\",\n",
    "#    \"batch_size\": {\"train\": 1, \"val\": 1},\n",
    "#    \"he_sampling\": False, \n",
    "#    \"tc_dups\": True,\n",
    "#    \"dups_wsd\": \"../data/npy_files/good_duplicates.npy\",\n",
    "#    \"bad_idx\": \"../data/npy_files/all_bad_duplicates.npy\",\n",
    "#    \"sample\": False,\n",
    "#    \"messidor_in_train\":False,\n",
    "#    \"cw_sampling\": False,\n",
    "#}\n",
    "import yaml\n",
    "filepath = '../configs/218_efficientnet-b5_f1_o6cc2.yaml'\n",
    "with open(filepath, 'r') as stream:\n",
    "    try:\n",
    "        cfg = yaml.safe_load(stream)\n",
    "    except yaml.YAMLError as exc:\n",
    "        print(exc)\n",
    "\n",
    "dataloaders = {phase: provider(phase, cfg) for phase in [\"train\", \"val\"]}"
   ]
  },
  {
   "cell_type": "code",
   "execution_count": null,
   "metadata": {
    "ExecuteTime": {
     "end_time": "2019-08-21T15:35:11.926886Z",
     "start_time": "2019-08-21T15:35:11.924182Z"
    },
    "hidden": true
   },
   "outputs": [],
   "source": [
    "dataloaders['train'].dataset.transform"
   ]
  },
  {
   "cell_type": "code",
   "execution_count": null,
   "metadata": {
    "ExecuteTime": {
     "end_time": "2019-07-10T10:19:16.674405Z",
     "start_time": "2019-07-10T10:19:11.488251Z"
    },
    "hidden": true
   },
   "outputs": [],
   "source": [
    "files = []\n",
    "for batch in dataloaders['train']:\n",
    "    files.append(batch[0][0])"
   ]
  },
  {
   "cell_type": "code",
   "execution_count": null,
   "metadata": {
    "ExecuteTime": {
     "end_time": "2019-07-09T17:57:50.735200Z",
     "start_time": "2019-07-09T17:57:45.470839Z"
    },
    "hidden": true
   },
   "outputs": [],
   "source": [
    "val_files = []\n",
    "for batch in dataloaders['val']:\n",
    "    val_files.append(batch[0][0])"
   ]
  },
  {
   "cell_type": "code",
   "execution_count": null,
   "metadata": {
    "ExecuteTime": {
     "end_time": "2019-07-09T17:58:22.246770Z",
     "start_time": "2019-07-09T17:58:22.230238Z"
    },
    "hidden": true
   },
   "outputs": [],
   "source": [
    "for f in val_files:\n",
    "    if f in files:\n",
    "        print(f)"
   ]
  },
  {
   "cell_type": "code",
   "execution_count": null,
   "metadata": {
    "ExecuteTime": {
     "end_time": "2019-07-09T18:18:31.031804Z",
     "start_time": "2019-07-09T18:18:31.028279Z"
    },
    "hidden": true
   },
   "outputs": [],
   "source": [
    "duplicates = np.load('../data/duplicates.npy') # pairs which have same hash values, irrespective of their diagnosis"
   ]
  },
  {
   "cell_type": "code",
   "execution_count": null,
   "metadata": {
    "ExecuteTime": {
     "end_time": "2019-07-09T18:14:45.541313Z",
     "start_time": "2019-07-09T18:14:45.527541Z"
    },
    "hidden": true
   },
   "outputs": [],
   "source": [
    "for dups in duplicates:\n",
    "    if (dups[0] in files and dups[1] in val_files) or (dups[0] in val_files and dups[1] in files):\n",
    "        print(dups)\n",
    "    # kucch to 3-3 files wale dups bhi hain"
   ]
  },
  {
   "cell_type": "markdown",
   "metadata": {
    "hidden": true
   },
   "source": [
    "##### this shows the sanctity of val set is not maintained"
   ]
  },
  {
   "cell_type": "markdown",
   "metadata": {
    "heading_collapsed": true
   },
   "source": [
    "### analyse augmentations "
   ]
  },
  {
   "cell_type": "code",
   "execution_count": null,
   "metadata": {
    "ExecuteTime": {
     "end_time": "2019-08-21T13:58:18.041637Z",
     "start_time": "2019-08-21T13:58:18.038460Z"
    },
    "hidden": true
   },
   "outputs": [],
   "source": [
    "from albumentations import (\n",
    "    HorizontalFlip, IAAPerspective, ShiftScaleRotate, CLAHE, RandomRotate90,\n",
    "    Transpose, ShiftScaleRotate, Blur, OpticalDistortion, GridDistortion, HueSaturationValue,\n",
    "    IAAAdditiveGaussianNoise, GaussNoise, MotionBlur, MedianBlur, IAAPiecewiseAffine,\n",
    "    IAASharpen, IAAEmboss, RandomContrast, RandomBrightness, Flip, OneOf, Compose, RandomGamma, ElasticTransform, ChannelShuffle,RGBShift, Rotate,\n",
    "    RandomBrightnessContrast, CenterCrop, IAACropAndPad\n",
    ")"
   ]
  },
  {
   "cell_type": "code",
   "execution_count": null,
   "metadata": {
    "ExecuteTime": {
     "end_time": "2019-08-20T08:41:12.588760Z",
     "start_time": "2019-08-20T08:41:12.584510Z"
    },
    "hidden": true
   },
   "outputs": [],
   "source": [
    "def strong_aug(p=1):\n",
    "    return Compose([\n",
    "        RandomRotate90(),\n",
    "        Flip(),\n",
    "        Transpose(),\n",
    "        OneOf([\n",
    "            IAAAdditiveGaussianNoise(),\n",
    "            GaussNoise(),\n",
    "        ], p=0.2),\n",
    "        OneOf([\n",
    "            MotionBlur(p=.2),\n",
    "            MedianBlur(blur_limit=3, p=.1),\n",
    "            Blur(blur_limit=3, p=.1),\n",
    "        ], p=0.2),\n",
    "        ShiftScaleRotate(shift_limit=0.0625, scale_limit=0.2, rotate_limit=45, p=.2),\n",
    "        OneOf([\n",
    "            OpticalDistortion(p=0.3),\n",
    "            GridDistortion(p=.1),\n",
    "            IAAPiecewiseAffine(p=0.3),\n",
    "        ], p=0.2),\n",
    "        OneOf([\n",
    "            CLAHE(clip_limit=2),\n",
    "            IAASharpen(),\n",
    "            IAAEmboss(),\n",
    "            RandomContrast(),\n",
    "            RandomBrightness(),\n",
    "        ], p=0.3),\n",
    "        #HueSaturationValue(p=0.3),\n",
    "    ], p=p)"
   ]
  },
  {
   "cell_type": "code",
   "execution_count": null,
   "metadata": {
    "ExecuteTime": {
     "end_time": "2019-08-21T13:58:22.210731Z",
     "start_time": "2019-08-21T13:58:21.903697Z"
    },
    "hidden": true
   },
   "outputs": [],
   "source": [
    "# img = np.load('../data/npy_files/bgcc300/00cc2b75cddd.npy')\n",
    "path = '../data/all_images/00cc2b75cddd.png'\n",
    "size = 512\n",
    "img = PP1(path, size)\n",
    "print(img.dtype, img.shape)\n",
    "plt.imshow(img);"
   ]
  },
  {
   "cell_type": "code",
   "execution_count": null,
   "metadata": {
    "ExecuteTime": {
     "end_time": "2019-08-21T14:23:02.785648Z",
     "start_time": "2019-08-21T14:23:02.188631Z"
    },
    "hidden": true
   },
   "outputs": [],
   "source": [
    "path = '../data/all_images/00cc2b75cddd.png'\n",
    "img = Image.open(path)\n",
    "img = np.array(img)\n",
    "w, h, _ = img.shape\n",
    "ratio = random.choice([0.75, 0.8, 0.85, 0.9])\n",
    "print(ratio)\n",
    "aug = CenterCrop(int(w*ratio), int(h*ratio), p=1)\n",
    "aug_img = aug(image=img)['image']\n",
    "plt.figure()\n",
    "plt.subplot(1, 2, 1)\n",
    "plt.imshow(img)\n",
    "plt.subplot(1, 2, 2)\n",
    "plt.imshow(aug_img);"
   ]
  },
  {
   "cell_type": "code",
   "execution_count": null,
   "metadata": {
    "ExecuteTime": {
     "end_time": "2019-08-18T09:21:30.634479Z",
     "start_time": "2019-08-18T09:21:30.309533Z"
    },
    "hidden": true
   },
   "outputs": [],
   "source": [
    "aug = Transpose(p=1)\n",
    "aug_img = aug(image=img)['image']\n",
    "plt.imshow(aug_img)"
   ]
  },
  {
   "cell_type": "code",
   "execution_count": null,
   "metadata": {
    "ExecuteTime": {
     "end_time": "2019-08-18T09:21:33.093048Z",
     "start_time": "2019-08-18T09:21:32.902522Z"
    },
    "hidden": true
   },
   "outputs": [],
   "source": [
    "aug = Flip(p=1)\n",
    "aug_img = aug(image=img)['image']\n",
    "plt.imshow(aug_img)"
   ]
  },
  {
   "cell_type": "code",
   "execution_count": null,
   "metadata": {
    "ExecuteTime": {
     "end_time": "2019-08-21T13:58:28.288957Z",
     "start_time": "2019-08-21T13:58:28.156141Z"
    },
    "hidden": true
   },
   "outputs": [],
   "source": [
    "aug = ShiftScaleRotate(shift_limit=0, scale_limit=(-0.1, 0.3), rotate_limit=0, p=1)\n",
    "aug_img = aug(image=img)['image']\n",
    "plt.imshow(aug_img)"
   ]
  },
  {
   "cell_type": "code",
   "execution_count": null,
   "metadata": {
    "ExecuteTime": {
     "end_time": "2019-08-21T13:58:32.865239Z",
     "start_time": "2019-08-21T13:58:32.733954Z"
    },
    "hidden": true
   },
   "outputs": [],
   "source": [
    "aug = ShiftScaleRotate(shift_limit=0, scale_limit=0, rotate_limit=180, p=1)\n",
    "aug_img = aug(image=img)['image']\n",
    "plt.imshow(aug_img);"
   ]
  },
  {
   "cell_type": "code",
   "execution_count": null,
   "metadata": {
    "ExecuteTime": {
     "end_time": "2019-08-18T09:21:41.758561Z",
     "start_time": "2019-08-18T09:21:41.486757Z"
    },
    "hidden": true
   },
   "outputs": [],
   "source": [
    "aug = ShiftScaleRotate(shift_limit=0.1, scale_limit=0, rotate_limit=0, p=1)\n",
    "aug_img = aug(image=img)['image']\n",
    "plt.imshow(aug_img);"
   ]
  },
  {
   "cell_type": "code",
   "execution_count": null,
   "metadata": {
    "ExecuteTime": {
     "end_time": "2019-08-18T09:22:20.656457Z",
     "start_time": "2019-08-18T09:22:20.299610Z"
    },
    "hidden": true
   },
   "outputs": [],
   "source": [
    "aug = RandomBrightnessContrast(0.1, 0.1, 1)\n",
    "aug_img = aug(image=img)['image']\n",
    "plt.imshow(aug_img);"
   ]
  },
  {
   "cell_type": "code",
   "execution_count": null,
   "metadata": {
    "ExecuteTime": {
     "end_time": "2019-08-10T17:15:38.866206Z",
     "start_time": "2019-08-10T17:15:38.861344Z"
    },
    "hidden": true
   },
   "outputs": [],
   "source": [
    "def get_transforms(phase, cfg):\n",
    "    size = cfg['size']\n",
    "    mean = eval(cfg['mean'])\n",
    "    std = eval(cfg['std'])\n",
    "    list_transforms = [\n",
    "        # albumentations.Resize(size, size) # now doing this in __getitem__()\n",
    "    ]\n",
    "    if phase == \"train\":\n",
    "#         pass\n",
    "        #list_transforms.extend(strong_aug())\n",
    "        list_transforms.extend(\n",
    "            [\n",
    "                albumentations.Transpose(p=0.5),\n",
    "                albumentations.Flip(p=0.5),\n",
    "                albumentations.ShiftScaleRotate(shift_limit=0, rotate_limit=120, p=0.5, border_mode=cv2.BORDER_CONSTANT),\n",
    "                albumentations.RandomBrightnessContrast(p=0.2),\n",
    "            ]\n",
    "        )\n",
    "\n",
    "    list_transforms.extend(\n",
    "        [\n",
    "        albumentations.Normalize(mean=mean, std=std, p=1),    \n",
    "#       albumentations.Resize(size, size), # because RandomScale is applied\n",
    "        AT.ToTensor(),\n",
    "        ]\n",
    "    )\n",
    "    return albumentations.Compose(list_transforms)"
   ]
  },
  {
   "cell_type": "markdown",
   "metadata": {},
   "source": [
    "### Dataloader analysis"
   ]
  },
  {
   "cell_type": "code",
   "execution_count": null,
   "metadata": {
    "ExecuteTime": {
     "end_time": "2019-09-01T10:58:42.340306Z",
     "start_time": "2019-09-01T10:58:42.249306Z"
    }
   },
   "outputs": [],
   "source": [
    "import yaml\n",
    "from preprocessing import *\n",
    "\n",
    "filepath = '../configs/318_effnet-b5_f1_pord.yaml'\n",
    "with open(filepath, 'r') as stream:\n",
    "    try:\n",
    "        cfg = yaml.safe_load(stream)\n",
    "    except yaml.YAMLError as exc:\n",
    "        print(exc)\n",
    "        \n",
    "cfg[\"num_workers\"] = 1\n",
    "cfg[\"batch_size\"][\"train\"] = 1\n",
    "cfg[\"batch_size\"][\"val\"] = 1\n",
    "dataloaders = {phase: provider(phase, cfg) for phase in [\"train\", \"val\"]}"
   ]
  },
  {
   "cell_type": "code",
   "execution_count": null,
   "metadata": {
    "ExecuteTime": {
     "end_time": "2019-09-01T10:58:46.200708Z",
     "start_time": "2019-09-01T10:58:46.198633Z"
    }
   },
   "outputs": [],
   "source": [
    "phase = \"train\"\n",
    "dataloader = dataloaders[phase]\n",
    "#dataloader.dataset.transform = get_transforms(phase, cfg)"
   ]
  },
  {
   "cell_type": "code",
   "execution_count": null,
   "metadata": {
    "ExecuteTime": {
     "end_time": "2019-09-01T10:58:51.402528Z",
     "start_time": "2019-09-01T10:58:51.399633Z"
    }
   },
   "outputs": [],
   "source": [
    "dataloader.dataset.transform.transforms.transforms"
   ]
  },
  {
   "cell_type": "code",
   "execution_count": null,
   "metadata": {
    "ExecuteTime": {
     "end_time": "2019-09-01T10:58:53.201435Z",
     "start_time": "2019-09-01T10:58:53.198284Z"
    }
   },
   "outputs": [],
   "source": [
    "def unnormalize(img):\n",
    "    mean = torch.as_tensor([0.485, 0.456, 0.406])\n",
    "    std = torch.as_tensor([0.229, 0.224, 0.225])\n",
    "    #return (img * std) + mean\n",
    "    for t, m, s in zip(img, mean, std):    \n",
    "        t.mul_(s).add_(m)\n",
    "    #img = (img * 255)\n",
    "    return img"
   ]
  },
  {
   "cell_type": "code",
   "execution_count": null,
   "metadata": {
    "ExecuteTime": {
     "end_time": "2019-09-01T11:00:15.684454Z",
     "start_time": "2019-09-01T11:00:14.920740Z"
    }
   },
   "outputs": [],
   "source": [
    "# plot some random training images with their ground truth labels\n",
    "batch = next(iter(dataloader))\n",
    "fnames, images, labels = batch\n",
    "plt.figure(figsize=(15, 15))\n",
    "# i = random.choice(range(len(images)))\n",
    "# print(i, len(images))\n",
    "i = 0 # as the batch size is 1\n",
    "img = images[i].clone()\n",
    "img = unnormalize(img)\n",
    "img = img.permute(1, 2, 0)\n",
    "plt.subplot(1, 2, 1)\n",
    "plt.imshow(np.array(img * 255, dtype='uint8'));\n",
    "plt.title(torch.argmax(labels[i]).item())\n",
    "plt.subplot(1, 2, 2)\n",
    "org_img = Image.open(f'../data/all_images/{fnames[i]}')\n",
    "# org_img = aug_6(f'../data/all_images/{fnames[i]}')\n",
    "#plt.imshow(mpimg.imread(f'../data/train_images/{fnames[i]}.png')); # original image\n",
    "plt.imshow(org_img); # original image\n",
    "plt.show(); "
   ]
  },
  {
   "cell_type": "code",
   "execution_count": null,
   "metadata": {
    "ExecuteTime": {
     "end_time": "2019-08-14T10:55:44.612978Z",
     "start_time": "2019-08-14T10:55:44.549491Z"
    }
   },
   "outputs": [],
   "source": []
  },
  {
   "cell_type": "code",
   "execution_count": null,
   "metadata": {
    "ExecuteTime": {
     "end_time": "2019-08-15T09:12:45.961989Z",
     "start_time": "2019-08-15T09:12:45.785113Z"
    }
   },
   "outputs": [],
   "source": [
    "path = '../data/train_images/0024cdab0c1e.png'\n",
    "image = id_to_image(path,\n",
    "        resize=True,\n",
    "        size=300,\n",
    "        augmentation=True,\n",
    "        subtract_median=True,\n",
    "        clahe_green=True)\n",
    "plt.imshow(image)#[:, :, 0])"
   ]
  },
  {
   "cell_type": "code",
   "execution_count": null,
   "metadata": {
    "ExecuteTime": {
     "end_time": "2019-08-15T09:13:02.082488Z",
     "start_time": "2019-08-15T09:13:02.080114Z"
    }
   },
   "outputs": [],
   "source": [
    "transforms = Compose([\n",
    "    #Transpose(p=0.5),\n",
    "    #Flip(p=0.5),\n",
    "    #ShiftScaleRotate(\n",
    "    #    shift_limit=0,\n",
    "    #    scale_limit=0.1,\n",
    "    #    rotate_limit=180,\n",
    "    #    p=1,\n",
    "    #    #border_mode=cv2.BORDER_CONSTANT\n",
    "    #),\n",
    "    RandomBrightnessContrast(p=1),\n",
    "])"
   ]
  },
  {
   "cell_type": "code",
   "execution_count": null,
   "metadata": {
    "ExecuteTime": {
     "end_time": "2019-08-15T09:13:10.820254Z",
     "start_time": "2019-08-15T09:13:10.699885Z"
    }
   },
   "outputs": [],
   "source": [
    "aug_img = transforms(image=image)[\"image\"]\n",
    "plt.imshow(aug_img)"
   ]
  },
  {
   "cell_type": "code",
   "execution_count": null,
   "metadata": {
    "ExecuteTime": {
     "end_time": "2019-08-15T09:10:20.100960Z",
     "start_time": "2019-08-15T09:10:20.096836Z"
    }
   },
   "outputs": [],
   "source": [
    "img.max(), img.min()"
   ]
  },
  {
   "cell_type": "code",
   "execution_count": null,
   "metadata": {
    "ExecuteTime": {
     "end_time": "2019-08-10T16:38:09.317089Z",
     "start_time": "2019-08-10T16:38:09.313750Z"
    }
   },
   "outputs": [],
   "source": [
    "labels[i].item()"
   ]
  },
  {
   "cell_type": "code",
   "execution_count": null,
   "metadata": {
    "ExecuteTime": {
     "end_time": "2019-08-10T15:37:08.094141Z",
     "start_time": "2019-08-10T15:37:08.090464Z"
    }
   },
   "outputs": [],
   "source": [
    "%matplotlib inline"
   ]
  },
  {
   "cell_type": "code",
   "execution_count": null,
   "metadata": {
    "ExecuteTime": {
     "end_time": "2019-07-21T16:50:36.433479Z",
     "start_time": "2019-07-21T16:50:36.372404Z"
    }
   },
   "outputs": [],
   "source": [
    "img = np.load('../data/train_images/npy_rgb/a00b4cb250a7.npy')"
   ]
  },
  {
   "cell_type": "code",
   "execution_count": null,
   "metadata": {
    "ExecuteTime": {
     "end_time": "2019-07-21T16:51:13.044208Z",
     "start_time": "2019-07-21T16:51:12.900705Z"
    }
   },
   "outputs": [],
   "source": [
    "plt.imshow(img)"
   ]
  },
  {
   "cell_type": "code",
   "execution_count": null,
   "metadata": {
    "ExecuteTime": {
     "end_time": "2019-07-17T18:27:15.187055Z",
     "start_time": "2019-07-17T18:27:15.182810Z"
    }
   },
   "outputs": [],
   "source": [
    "np.min(img), np.max(img)"
   ]
  },
  {
   "cell_type": "code",
   "execution_count": null,
   "metadata": {
    "ExecuteTime": {
     "end_time": "2019-07-17T18:31:08.298664Z",
     "start_time": "2019-07-17T18:31:08.295222Z"
    }
   },
   "outputs": [],
   "source": [
    "albumentations.Normalize # Divide pixel values by 255, subtract mean per channel and divide by std per channel"
   ]
  },
  {
   "cell_type": "code",
   "execution_count": null,
   "metadata": {
    "ExecuteTime": {
     "end_time": "2019-07-17T18:29:00.149075Z",
     "start_time": "2019-07-17T18:29:00.144041Z"
    }
   },
   "outputs": [],
   "source": [
    "mean = (0.485, 0.456, 0.406)\n",
    "std = (0.229, 0.224, 0.225)\n",
    "norm = albumentations.Normalize(mean=mean, std=std, p=1)\n",
    "norm_img = norm(image=img)['image']"
   ]
  },
  {
   "cell_type": "code",
   "execution_count": null,
   "metadata": {
    "ExecuteTime": {
     "end_time": "2019-07-17T18:29:39.466646Z",
     "start_time": "2019-07-17T18:29:39.463366Z"
    }
   },
   "outputs": [],
   "source": [
    "np.min(norm_img), np.max(norm_img), norm_img[0, 0, 0]"
   ]
  },
  {
   "cell_type": "code",
   "execution_count": null,
   "metadata": {
    "ExecuteTime": {
     "end_time": "2019-07-17T18:35:25.572489Z",
     "start_time": "2019-07-17T18:35:25.568111Z"
    }
   },
   "outputs": [],
   "source": [
    "norm_img.dtype"
   ]
  },
  {
   "cell_type": "code",
   "execution_count": null,
   "metadata": {
    "ExecuteTime": {
     "end_time": "2019-07-17T18:31:49.514675Z",
     "start_time": "2019-07-17T18:31:49.510075Z"
    }
   },
   "outputs": [],
   "source": [
    "albumentations.torch.ToTensor? # convert image and mask to torch.Tensor and divide by 255 if image or mask are `uint8` type, use with care look into sources"
   ]
  },
  {
   "cell_type": "code",
   "execution_count": null,
   "metadata": {
    "ExecuteTime": {
     "end_time": "2019-07-17T18:35:50.901598Z",
     "start_time": "2019-07-17T18:35:50.896313Z"
    }
   },
   "outputs": [],
   "source": [
    "albumentations.Normalize?"
   ]
  },
  {
   "cell_type": "code",
   "execution_count": null,
   "metadata": {
    "ExecuteTime": {
     "end_time": "2019-03-04T15:20:19.088630Z",
     "start_time": "2019-03-04T15:20:19.077897Z"
    }
   },
   "outputs": [],
   "source": [
    "mean = torch.as_tensor([0.485, 0.456, 0.406])\n",
    "std = torch.as_tensor([0.229, 0.224, 0.225])\n",
    "#return (img * std) + mean\n",
    "#return img.mul_(std).add_(mean)\n",
    "labels[i].item()"
   ]
  },
  {
   "cell_type": "code",
   "execution_count": null,
   "metadata": {
    "ExecuteTime": {
     "end_time": "2019-03-04T15:15:32.950081Z",
     "start_time": "2019-03-04T15:15:32.946752Z"
    }
   },
   "outputs": [],
   "source": [
    "mean, std, mean.shape, std.shape"
   ]
  },
  {
   "cell_type": "markdown",
   "metadata": {
    "heading_collapsed": true
   },
   "source": [
    "### sampling"
   ]
  },
  {
   "cell_type": "code",
   "execution_count": null,
   "metadata": {
    "ExecuteTime": {
     "end_time": "2019-08-19T05:03:00.171638Z",
     "start_time": "2019-08-19T05:03:00.166793Z"
    },
    "hidden": true
   },
   "outputs": [],
   "source": [
    "def resampled(df, count_dict):\n",
    "    ''' resample from df with replace=False'''\n",
    "    def sample(obj):  # [5]\n",
    "        return obj.sample(n=count_dict[obj.name], replace=False, random_state=69)\n",
    "    sampled_df = df.groupby('diagnosis').apply(sample).reset_index(drop=True)\n",
    "    return sampled_df\n"
   ]
  },
  {
   "cell_type": "code",
   "execution_count": null,
   "metadata": {
    "ExecuteTime": {
     "end_time": "2019-08-19T05:04:02.172065Z",
     "start_time": "2019-08-19T05:04:02.082012Z"
    },
    "hidden": true
   },
   "outputs": [],
   "source": [
    "sample_dict = {\n",
    "    0: 1900, \n",
    "    2: 1900, \n",
    "    1: 1900, \n",
    "    3: 1900, \n",
    "    4: 1900\n",
    "} \n",
    "df_old = pd.read_csv('../data/2015.csv')\n",
    "sampled_df_old = resampled(df_old, sample_dict)\n"
   ]
  },
  {
   "cell_type": "code",
   "execution_count": null,
   "metadata": {
    "ExecuteTime": {
     "end_time": "2019-08-19T05:04:38.153257Z",
     "start_time": "2019-08-19T05:04:38.064209Z"
    },
    "hidden": true
   },
   "outputs": [],
   "source": [
    "sampled_df_old['diagnosis'].value_counts().plot(kind='bar')"
   ]
  },
  {
   "cell_type": "code",
   "execution_count": null,
   "metadata": {
    "ExecuteTime": {
     "end_time": "2019-08-19T05:05:15.656941Z",
     "start_time": "2019-08-19T05:05:15.648808Z"
    },
    "hidden": true
   },
   "outputs": [],
   "source": [
    "sampled_df_old.head()"
   ]
  },
  {
   "cell_type": "code",
   "execution_count": null,
   "metadata": {
    "ExecuteTime": {
     "end_time": "2019-08-19T06:08:06.049997Z",
     "start_time": "2019-08-19T06:08:05.388921Z"
    },
    "hidden": true
   },
   "outputs": [],
   "source": [
    "sampled_df_old.apply(lambda x: print(f'cp all_images/{x[0]} sampled/class_{x[1]}'), axis=1); # expand this, copy with keyboard ctrl+shift whatever, paste in a bash file, run it"
   ]
  },
  {
   "cell_type": "code",
   "execution_count": null,
   "metadata": {
    "ExecuteTime": {
     "end_time": "2019-08-19T08:28:33.318466Z",
     "start_time": "2019-08-19T08:28:33.024420Z"
    },
    "hidden": true
   },
   "outputs": [],
   "source": [
    "path = '../data/all_images/000c1434d8d7.png'\n",
    "image = Image.open(path)"
   ]
  },
  {
   "cell_type": "code",
   "execution_count": null,
   "metadata": {
    "ExecuteTime": {
     "end_time": "2019-08-19T08:12:46.490679Z",
     "start_time": "2019-08-19T08:12:44.862516Z"
    },
    "hidden": true
   },
   "outputs": [],
   "source": [
    "image"
   ]
  },
  {
   "cell_type": "code",
   "execution_count": null,
   "metadata": {
    "ExecuteTime": {
     "end_time": "2019-08-19T08:13:23.079005Z",
     "start_time": "2019-08-19T08:13:22.492443Z"
    },
    "hidden": true
   },
   "outputs": [],
   "source": [
    "plt.imshow(np.array(image))"
   ]
  },
  {
   "cell_type": "code",
   "execution_count": null,
   "metadata": {
    "ExecuteTime": {
     "end_time": "2019-08-19T08:28:38.539752Z",
     "start_time": "2019-08-19T08:28:38.336369Z"
    },
    "hidden": true
   },
   "outputs": [],
   "source": [
    "import jpeg4py as jpeg\n",
    "image = jpeg.JPEG(path).decode()\n"
   ]
  },
  {
   "cell_type": "code",
   "execution_count": null,
   "metadata": {
    "ExecuteTime": {
     "end_time": "2019-08-19T08:29:48.346476Z",
     "start_time": "2019-08-19T08:29:48.344204Z"
    },
    "hidden": true
   },
   "outputs": [],
   "source": [
    "path[-4:]"
   ]
  },
  {
   "cell_type": "code",
   "execution_count": null,
   "metadata": {
    "ExecuteTime": {
     "end_time": "2019-08-19T08:26:47.985696Z",
     "start_time": "2019-08-19T08:26:46.942312Z"
    },
    "hidden": true
   },
   "outputs": [],
   "source": [
    "plt.imshow(image)"
   ]
  },
  {
   "cell_type": "code",
   "execution_count": null,
   "metadata": {
    "hidden": true
   },
   "outputs": [],
   "source": []
  },
  {
   "cell_type": "code",
   "execution_count": null,
   "metadata": {
    "hidden": true
   },
   "outputs": [],
   "source": []
  },
  {
   "cell_type": "code",
   "execution_count": null,
   "metadata": {
    "hidden": true
   },
   "outputs": [],
   "source": []
  },
  {
   "cell_type": "markdown",
   "metadata": {
    "heading_collapsed": true
   },
   "source": [
    "### CLAHE"
   ]
  },
  {
   "cell_type": "code",
   "execution_count": null,
   "metadata": {
    "ExecuteTime": {
     "end_time": "2019-08-21T15:24:19.962116Z",
     "start_time": "2019-08-21T15:24:18.256233Z"
    },
    "hidden": true
   },
   "outputs": [],
   "source": [
    "# read, bgr->lab apply clahe, lab-rbg, median filtering\n",
    "plt.figure(figsize=(20, 40))\n",
    "bgr = cv2.imread('../data/all_images/000c1434d8d7.png')\n",
    "bgr = crop_image(bgr, tol=10)\n",
    "plt.subplot(1, 3, 1)\n",
    "\n",
    "plt.imshow(cv2.cvtColor(bgr, cv2.COLOR_BGR2RGB));\n",
    "# k = np.max(bgr.shape)//30*2+1 # kernel size: next odd number to (largest dim of the image) / 10\n",
    "# bg = cv2.medianBlur(bgr, k)\n",
    "# bgr = cv2.addWeighted (bgr, 4, bg, -4, 128)\n",
    "# bg = cv2.GaussianBlur(bgr, (0, 0), sigmaX=10)\n",
    "# bgr = cv2.addWeighted (bgr, 4, bg, -4, 128)\n",
    "\n",
    "clahe = cv2.createCLAHE(clipLimit=2.0, tileGridSize=(8,8))\n",
    "lab = cv2.cvtColor(bgr, cv2.COLOR_BGR2LAB)\n",
    "lab[...,0] = clahe.apply(lab[...,0])\n",
    "rgb = cv2.cvtColor(lab, cv2.COLOR_LAB2RGB)\n",
    "plt.subplot(1, 3, 2)\n",
    "plt.imshow(rgb);\n",
    "\n",
    "# k = np.max(rgb.shape)//30*2+1 # kernel size: next odd number to (largest dim of the image) / 10\n",
    "bg = cv2.GaussianBlur(rgb, (0, 0), sigmaX=10)\n",
    "# bg = cv2.medianBlur(rgb, k) \n",
    "frgb = cv2.addWeighted (rgb, 4, bg, -4, 128)\n",
    "# frgb = rgb\n",
    "plt.subplot(1, 3, 3)\n",
    "plt.imshow(frgb)\n",
    "plt.show();"
   ]
  },
  {
   "cell_type": "code",
   "execution_count": null,
   "metadata": {
    "ExecuteTime": {
     "end_time": "2019-08-21T15:24:22.208881Z",
     "start_time": "2019-08-21T15:24:21.542072Z"
    },
    "hidden": true
   },
   "outputs": [],
   "source": [
    "plt.figure(figsize=(20, 20))\n",
    "plt.subplot(1, 3, 1)\n",
    "plt.imshow(frgb[:, :, 0]) # RED\n",
    "plt.subplot(1, 3, 2)\n",
    "plt.imshow(frgb[:, :, 1]) # GREEN\n",
    "plt.subplot(1, 3, 3)\n",
    "plt.imshow(frgb[:, :, 2]) # BLUE\n",
    "plt.show()"
   ]
  },
  {
   "cell_type": "code",
   "execution_count": null,
   "metadata": {
    "ExecuteTime": {
     "end_time": "2019-08-21T15:17:41.546971Z",
     "start_time": "2019-08-21T15:17:40.888813Z"
    },
    "hidden": true
   },
   "outputs": [],
   "source": [
    "plt.figure(figsize=(20, 20))\n",
    "plt.subplot(1, 3, 1)\n",
    "plt.imshow(frgb[:, :, 0]) # RED\n",
    "plt.subplot(1, 3, 2)\n",
    "plt.imshow(frgb[:, :, 1]) # GREEN\n",
    "plt.subplot(1, 3, 3)\n",
    "plt.imshow(frgb[:, :, 2]) # BLUE\n",
    "plt.show()"
   ]
  },
  {
   "cell_type": "code",
   "execution_count": null,
   "metadata": {
    "ExecuteTime": {
     "end_time": "2019-08-21T15:31:49.564742Z",
     "start_time": "2019-08-21T15:31:49.562787Z"
    },
    "hidden": true
   },
   "outputs": [],
   "source": []
  },
  {
   "cell_type": "markdown",
   "metadata": {
    "hidden": true
   },
   "source": [
    "read, lab clahe, median is better than read, median, then lab clahe"
   ]
  },
  {
   "cell_type": "code",
   "execution_count": null,
   "metadata": {
    "ExecuteTime": {
     "end_time": "2019-08-21T15:13:23.065358Z",
     "start_time": "2019-08-21T15:13:21.544736Z"
    },
    "hidden": true
   },
   "outputs": [],
   "source": [
    "# read, bgr->lab apply clahe, lab-rbg, gaussian filtering\n",
    "plt.figure(figsize=(20, 40))\n",
    "bgr = cv2.imread('../data/all_images/000c1434d8d7.png')\n",
    "bgr = crop_image(bgr, tol=10)\n",
    "plt.subplot(1, 3, 1)\n",
    "plt.imshow(cv2.cvtColor(bgr, cv2.COLOR_BGR2RGB));\n",
    "clahe = cv2.createCLAHE(clipLimit=2.0, tileGridSize=(8,8))\n",
    "lab = cv2.cvtColor(bgr, cv2.COLOR_BGR2LAB)\n",
    "lab[...,0] = clahe.apply(lab[...,0])\n",
    "rgb = cv2.cvtColor(lab, cv2.COLOR_LAB2RGB)\n",
    "plt.subplot(1, 3, 2)\n",
    "plt.imshow(rgb);\n",
    "\n",
    "bg = cv2.GaussianBlur(rgb, (0, 0), 10)\n",
    "frgb = cv2.addWeighted (rgb, 4, bg, -4, 128)\n",
    "plt.subplot(1, 3, 3)\n",
    "plt.imshow(frgb)\n",
    "plt.show();"
   ]
  },
  {
   "cell_type": "code",
   "execution_count": null,
   "metadata": {
    "ExecuteTime": {
     "end_time": "2019-08-21T15:13:23.726921Z",
     "start_time": "2019-08-21T15:13:23.066615Z"
    },
    "hidden": true
   },
   "outputs": [],
   "source": [
    "plt.figure(figsize=(20, 20))\n",
    "plt.subplot(1, 3, 1)\n",
    "plt.imshow(frgb[:, :, 0]) # RED\n",
    "plt.subplot(1, 3, 2)\n",
    "plt.imshow(frgb[:, :, 1]) # GREEN\n",
    "plt.subplot(1, 3, 3)\n",
    "plt.imshow(frgb[:, :, 2]) # BLUE\n",
    "plt.show()\n"
   ]
  },
  {
   "cell_type": "code",
   "execution_count": null,
   "metadata": {
    "ExecuteTime": {
     "end_time": "2019-08-21T15:07:07.447940Z",
     "start_time": "2019-08-21T15:07:05.434137Z"
    },
    "hidden": true
   },
   "outputs": [],
   "source": [
    "# read, apply clahe to each channel, median filtering\n",
    "plt.figure(figsize=(20, 40))\n",
    "bgr = cv2.imread('../data/all_images/000c1434d8d7.png')\n",
    "bgr = crop_image(bgr, tol=10)\n",
    "plt.subplot(1, 3, 1)\n",
    "plt.imshow(cv2.cvtColor(bgr, cv2.COLOR_BGR2RGB));\n",
    "clahe = cv2.createCLAHE(clipLimit=2.0, tileGridSize=(8,8))\n",
    "bgr[...,0] = clahe.apply(bgr[...,0])\n",
    "bgr[...,1] = clahe.apply(bgr[...,1])\n",
    "bgr[...,2] = clahe.apply(bgr[...,2])\n",
    "rgb = cv2.cvtColor(bgr, cv2.COLOR_BGR2RGB)\n",
    "plt.subplot(1, 3, 2)\n",
    "plt.imshow(rgb);\n",
    "\n",
    "k = np.max(rgb.shape)//20*2+1 # kernel size: next odd number to (largest dim of the image) / 10\n",
    "bg = cv2.medianBlur(rgb, k)\n",
    "frgb = cv2.addWeighted (rgb, 4, bg, -4, 128)\n",
    "plt.subplot(1, 3, 3)\n",
    "plt.imshow(frgb)\n",
    "plt.show();"
   ]
  },
  {
   "cell_type": "code",
   "execution_count": null,
   "metadata": {
    "ExecuteTime": {
     "end_time": "2019-08-21T15:07:08.220485Z",
     "start_time": "2019-08-21T15:07:07.449186Z"
    },
    "hidden": true
   },
   "outputs": [],
   "source": [
    "plt.figure(figsize=(20, 20))\n",
    "plt.subplot(1, 3, 1)\n",
    "plt.imshow(frgb[:, :, 0]) # RED\n",
    "plt.subplot(1, 3, 2)\n",
    "plt.imshow(frgb[:, :, 1]) # GREEN\n",
    "plt.subplot(1, 3, 3)\n",
    "plt.imshow(frgb[:, :, 2]) # BLUE\n",
    "plt.show()\n",
    "\n",
    "# clahe to blue channel individually, ruins it "
   ]
  },
  {
   "cell_type": "code",
   "execution_count": null,
   "metadata": {
    "hidden": true
   },
   "outputs": [],
   "source": []
  },
  {
   "cell_type": "code",
   "execution_count": null,
   "metadata": {
    "ExecuteTime": {
     "end_time": "2019-08-18T09:45:54.148526Z",
     "start_time": "2019-08-18T09:45:52.476746Z"
    },
    "hidden": true
   },
   "outputs": [],
   "source": [
    "# read, apply clahe to all channels, gaussian filtering\n",
    "plt.figure(figsize=(20, 40))\n",
    "bgr = cv2.imread('../data/all_images/000c1434d8d7.png')\n",
    "bgr = crop_image(bgr, tol=10)\n",
    "plt.subplot(1, 3, 1)\n",
    "plt.imshow(cv2.cvtColor(bgr, cv2.COLOR_BGR2RGB));\n",
    "clahe = cv2.createCLAHE(clipLimit=2.0, tileGridSize=(8,8))\n",
    "bgr[...,0] = clahe.apply(bgr[...,0])\n",
    "bgr[...,1] = clahe.apply(bgr[...,1])\n",
    "bgr[...,2] = clahe.apply(bgr[...,2])\n",
    "rgb = cv2.cvtColor(bgr, cv2.COLOR_BGR2RGB)\n",
    "plt.subplot(1, 3, 2)\n",
    "plt.imshow(rgb);\n",
    "\n",
    "bg = cv2.GaussianBlur(rgb, (0, 0), 10) #sigmaX=10\n",
    "frgb = cv2.addWeighted (rgb, 4, bg, -4, 128)\n",
    "plt.subplot(1, 3, 3)\n",
    "plt.imshow(frgb)\n",
    "plt.show();"
   ]
  },
  {
   "cell_type": "code",
   "execution_count": null,
   "metadata": {
    "ExecuteTime": {
     "end_time": "2019-08-18T12:02:46.847495Z",
     "start_time": "2019-08-18T12:02:45.812192Z"
    },
    "hidden": true
   },
   "outputs": [],
   "source": [
    "plt.figure(figsize=(20, 40))\n",
    "bgr = cv2.imread('../data/all_images/000c1434d8d7.png')\n",
    "bgr = crop_image(bgr, tol=10)\n",
    "bgr = cv2.resize(bgr, (256, 256))\n",
    "plt.subplot(1, 3, 1)\n",
    "plt.imshow(cv2.cvtColor(bgr, cv2.COLOR_BGR2RGB));\n",
    "clahe = cv2.createCLAHE(clipLimit=2.0, tileGridSize=(8,8))\n",
    "lab = cv2.cvtColor(bgr, cv2.COLOR_BGR2LAB)\n",
    "lab[...,0] = clahe.apply(lab[...,0])\n",
    "rgb = cv2.cvtColor(lab, cv2.COLOR_LAB2RGB)\n",
    "plt.subplot(1, 3, 2)\n",
    "plt.imshow(rgb);\n",
    "k = np.max(rgb.shape)//20*2+1 # kernel size: next odd number to (largest dim of the image) / 10\n",
    "bg = cv2.medianBlur(rgb, k)\n",
    "frgb = cv2.addWeighted (rgb, 4, bg, -4, 128)\n",
    "# frgb = cv2.resize(frgb, (256, 256))\n",
    "plt.subplot(1, 3, 3)\n",
    "plt.imshow(frgb)\n",
    "plt.show();\n",
    "# cv2.imwrite('before.png',frgb)"
   ]
  },
  {
   "cell_type": "code",
   "execution_count": null,
   "metadata": {
    "hidden": true
   },
   "outputs": [],
   "source": []
  },
  {
   "cell_type": "code",
   "execution_count": null,
   "metadata": {
    "ExecuteTime": {
     "end_time": "2019-08-18T12:31:55.596917Z",
     "start_time": "2019-08-18T12:31:55.592705Z"
    },
    "hidden": true
   },
   "outputs": [],
   "source": [
    "idxs = [  23,   45,   82,  120,  126,  166,  192,  198,  200,  230,  325,\n",
    "        360,  378,  409,  538,  572,  671,  699,  756,  771,  889, 1024,\n",
    "       1183, 1280, 1393, 1455, 1469, 1540, 1546, 1547, 1605, 1629, 1643,\n",
    "       1724, 1753, 1814, 1833, 1850, 1918, 2034, 2400, 2403, 2576, 2637,\n",
    "       2680, 2782, 2793, 2794, 3006, 3276, 3357, 3370]"
   ]
  },
  {
   "cell_type": "code",
   "execution_count": null,
   "metadata": {
    "ExecuteTime": {
     "end_time": "2019-08-18T12:51:12.212845Z",
     "start_time": "2019-08-18T12:49:18.342644Z"
    },
    "hidden": true
   },
   "outputs": [],
   "source": [
    "df = pd.read_csv('../data/train.csv')\n",
    "# for idx, row in tqdm(df.iterrows()):\n",
    "for idx in idxs:\n",
    "    try:\n",
    "        path = '../data/all_images/' + df.iloc[idx]['id_code']# + '.png'\n",
    "        bgr = cv2.imread(path)\n",
    "        rgb = cv2.cvtColor(bgr, cv2.COLOR_BGR2RGB)\n",
    "        print(rgb.shape)\n",
    "#         plt.imshow(rgb); plt.show()\n",
    "        rgb = crop_image(rgb, tol=9)\n",
    "        print(rgb.shape, '\\n')\n",
    "#         plt.imshow(rgb); plt.show()\n",
    "        k = np.max(rgb.shape)//20*2+1 # kernel size: next odd number to (largest dim of the image) / 10\n",
    "        bg = cv2.medianBlur(rgb, k)\n",
    "    except Exception as e:\n",
    "        print(idx, e)\n",
    "        break\n",
    "# exceptions start after 35138"
   ]
  },
  {
   "cell_type": "code",
   "execution_count": null,
   "metadata": {
    "ExecuteTime": {
     "end_time": "2019-08-18T19:09:39.015967Z",
     "start_time": "2019-08-18T19:09:38.368972Z"
    },
    "hidden": true
   },
   "outputs": [],
   "source": [
    "plt.figure(figsize=(20, 40))\n",
    "bgr = cv2.imread('test.jpeg')\n",
    "bgr = crop_image(bgr, tol=10)\n",
    "bgr = cv2.resize(bgr, (256, 256))\n",
    "plt.subplot(1, 3, 1)\n",
    "plt.imshow(cv2.cvtColor(bgr, cv2.COLOR_BGR2RGB));\n",
    "clahe = cv2.createCLAHE(clipLimit=2.0, tileGridSize=(8,8))\n",
    "lab = cv2.cvtColor(bgr, cv2.COLOR_BGR2LAB)\n",
    "lab[...,0] = clahe.apply(lab[...,0])\n",
    "rgb = cv2.cvtColor(lab, cv2.COLOR_LAB2RGB)\n",
    "plt.subplot(1, 3, 2)\n",
    "plt.imshow(rgb);\n",
    "print(rgb.shape)\n",
    "k = np.min(rgb.shape[:2])//20*2+1 # kernel size: next odd number to (largest dim of the image) / 10\n",
    "print(k)\n",
    "bg = cv2.medianBlur(rgb, k)\n",
    "frgb = cv2.addWeighted (rgb, 4, bg, -4, 128)\n",
    "# frgb = cv2.resize(frgb, (256, 256))\n",
    "plt.subplot(1, 3, 3)\n",
    "plt.imshow(frgb)\n",
    "plt.show();\n",
    "# cv2.imwrite('before.png',frgb)"
   ]
  },
  {
   "cell_type": "code",
   "execution_count": null,
   "metadata": {
    "ExecuteTime": {
     "end_time": "2019-08-18T12:51:58.178854Z",
     "start_time": "2019-08-18T12:51:55.024209Z"
    },
    "hidden": true
   },
   "outputs": [],
   "source": [
    "path = '../data/all_images/' + df.iloc[idx]['id_code']# + '.png'\n",
    "bgr = cv2.imread(path)\n",
    "print(bgr.shape)\n",
    "bgr = crop_image(bgr, tol=7)\n",
    "print(bgr.shape, '\\n')\n",
    "rgb = cv2.cvtColor(bgr, cv2.COLOR_BGR2RGB)\n",
    "plt.imshow(rgb)\n",
    "k = np.max(rgb.shape)//22*2+1 # kernel size: next odd number to (largest dim of the image) / 10\n",
    "bg = cv2.medianBlur(rgb, k)"
   ]
  },
  {
   "cell_type": "code",
   "execution_count": null,
   "metadata": {
    "ExecuteTime": {
     "end_time": "2019-08-18T12:39:18.527620Z",
     "start_time": "2019-08-18T12:39:17.783639Z"
    },
    "hidden": true
   },
   "outputs": [],
   "source": [
    "plt.imshow(bgr)"
   ]
  },
  {
   "cell_type": "code",
   "execution_count": null,
   "metadata": {
    "hidden": true
   },
   "outputs": [],
   "source": []
  },
  {
   "cell_type": "code",
   "execution_count": null,
   "metadata": {
    "hidden": true
   },
   "outputs": [],
   "source": []
  },
  {
   "cell_type": "code",
   "execution_count": null,
   "metadata": {
    "hidden": true
   },
   "outputs": [],
   "source": []
  },
  {
   "cell_type": "code",
   "execution_count": null,
   "metadata": {
    "hidden": true
   },
   "outputs": [],
   "source": []
  },
  {
   "cell_type": "code",
   "execution_count": null,
   "metadata": {
    "ExecuteTime": {
     "end_time": "2019-08-18T12:28:59.123885Z",
     "start_time": "2019-08-18T12:28:57.186298Z"
    },
    "hidden": true
   },
   "outputs": [],
   "source": [
    "path = '../data/all_images/e9ff9352ccb3.png'\n",
    "bgr = cv2.imread(path)\n",
    "bgr = crop_image(bgr, tol=10)\n",
    "rgb = cv2.cvtColor(bgr, cv2.COLOR_BGR2RGB)\n",
    "k = np.max(rgb.shape)//20*2+1 # kernel size: next odd number to (largest dim of the image) / 10\n",
    "print(k)\n",
    "# k=351\n",
    "bg = cv2.medianBlur(rgb, k)\n",
    "rgb =cv2.addWeighted (rgb, 4, bg, -4, 128)\n",
    "rgb = cv2.resize(rgb, (256, 256))\n",
    "plt.imshow(rgb)"
   ]
  },
  {
   "cell_type": "code",
   "execution_count": null,
   "metadata": {
    "hidden": true
   },
   "outputs": [],
   "source": []
  },
  {
   "cell_type": "code",
   "execution_count": null,
   "metadata": {
    "hidden": true
   },
   "outputs": [],
   "source": [
    "#https://github.com/opencv/opencv/blob/master/modules/imgproc/src/median_blur.simd.hpp#L337"
   ]
  },
  {
   "cell_type": "markdown",
   "metadata": {
    "heading_collapsed": true
   },
   "source": [
    "###  GREEN channels"
   ]
  },
  {
   "cell_type": "code",
   "execution_count": null,
   "metadata": {
    "hidden": true
   },
   "outputs": [],
   "source": []
  },
  {
   "cell_type": "code",
   "execution_count": null,
   "metadata": {
    "hidden": true
   },
   "outputs": [],
   "source": []
  },
  {
   "cell_type": "code",
   "execution_count": null,
   "metadata": {
    "ExecuteTime": {
     "end_time": "2019-08-17T16:32:10.134164Z",
     "start_time": "2019-08-17T16:32:10.130303Z"
    },
    "hidden": true
   },
   "outputs": [],
   "source": [
    "# https://www.kaggle.com/c/aptos2019-blindness-detection/discussion/102613#591316\n",
    "def toCLAHEgreen(img):  \n",
    "    clipLimit=2.0 \n",
    "    tileGridSize=(8, 8)  \n",
    "    img = np.array(img)     \n",
    "    green_channel = img[:, :, 2]    \n",
    "    clahe = cv2.createCLAHE(clipLimit=clipLimit, tileGridSize=tileGridSize)\n",
    "    cla = clahe.apply(green_channel) \n",
    "    cla=clahe.apply(cla)\n",
    "    return cla"
   ]
  },
  {
   "cell_type": "code",
   "execution_count": null,
   "metadata": {
    "ExecuteTime": {
     "end_time": "2019-08-17T16:32:10.832270Z",
     "start_time": "2019-08-17T16:32:10.431645Z"
    },
    "hidden": true
   },
   "outputs": [],
   "source": [
    "bgr = cv2.imread('../data/all_images/000c1434d8d7.png')\n",
    "rgb = cv2.cvtColor(bgr, cv2.COLOR_BGR2RGB)\n",
    "gimg = toCLAHEgreen(rgb)\n",
    "plt.imshow(gimg)"
   ]
  },
  {
   "cell_type": "code",
   "execution_count": null,
   "metadata": {
    "ExecuteTime": {
     "end_time": "2019-08-14T10:05:16.901583Z",
     "start_time": "2019-08-14T10:05:16.895979Z"
    },
    "hidden": true
   },
   "outputs": [],
   "source": [
    "gimg.shape\n",
    "#gimg = gimg.reshape(456, 456, 1)\n",
    "gimg = np.expand_dims(gimg, -1)\n",
    "img = np.repeat(gimg, 3, -1)"
   ]
  },
  {
   "cell_type": "code",
   "execution_count": null,
   "metadata": {
    "ExecuteTime": {
     "end_time": "2019-08-14T10:05:21.765720Z",
     "start_time": "2019-08-14T10:05:21.762279Z"
    },
    "hidden": true
   },
   "outputs": [],
   "source": [
    "img.shape"
   ]
  },
  {
   "cell_type": "markdown",
   "metadata": {
    "heading_collapsed": true
   },
   "source": [
    "### Median filter"
   ]
  },
  {
   "cell_type": "code",
   "execution_count": null,
   "metadata": {
    "ExecuteTime": {
     "end_time": "2019-08-26T15:40:25.011125Z",
     "start_time": "2019-08-26T15:40:25.008712Z"
    },
    "hidden": true
   },
   "outputs": [],
   "source": [
    "import numpy as np\n",
    "import pandas as pd\n",
    "import cv2\n",
    "import matplotlib.pyplot as plt\n",
    "IMAGE_SIZE = 256"
   ]
  },
  {
   "cell_type": "code",
   "execution_count": null,
   "metadata": {
    "ExecuteTime": {
     "end_time": "2019-08-26T15:55:51.336739Z",
     "start_time": "2019-08-26T15:55:51.325635Z"
    },
    "hidden": true
   },
   "outputs": [],
   "source": [
    "def info_image(im):\n",
    "    # Compute the center (cx, cy) and radius of the eye\n",
    "    cy = im.shape[0]//2\n",
    "    midline = im[cy,:]\n",
    "    midline = np.where(midline>midline.mean()/3)[0]\n",
    "    if len(midline)>im.shape[1]//2:\n",
    "        x_start, x_end = np.min(midline), np.max(midline)\n",
    "    else: # This actually rarely happens p~1/10000\n",
    "        x_start, x_end = im.shape[1]//10, 9*im.shape[1]//10\n",
    "    cx = (x_start + x_end)/2\n",
    "    r = (x_end - x_start)/2\n",
    "    return cx, cy, r\n",
    "\n",
    "def resize_image(im, augmentation=True):\n",
    "    # Crops, resizes and potentially augments the image to IMAGE_SIZE\n",
    "    cx, cy, r = info_image(im)\n",
    "    scaling = IMAGE_SIZE/(2*r)\n",
    "    rotation = 0\n",
    "    if augmentation:\n",
    "        scaling *= 1 + 0.3 * (np.random.rand()-0.5)\n",
    "        rotation = 360 * np.random.rand()\n",
    "    M = cv2.getRotationMatrix2D((cx,cy), rotation, scaling)\n",
    "    M[0,2] -= cx - IMAGE_SIZE/2\n",
    "    M[1,2] -= cy - IMAGE_SIZE/2\n",
    "    return cv2.warpAffine(im,M,(IMAGE_SIZE,IMAGE_SIZE)) # This is the most important line\n",
    "\n",
    "def subtract_median_bg_image(im):\n",
    "    k = np.max(im.shape)//20*2+1\n",
    "    bg = cv2.medianBlur(im, k)\n",
    "    return cv2.addWeighted (im, 4, bg, -4, 128)\n",
    "\n",
    "def subtract_gaussian_bg_image(im):\n",
    "    k = np.max(im.shape)/10\n",
    "    bg = cv2.GaussianBlur(im ,(0,0) ,k)\n",
    "    return cv2.addWeighted (im, 4, bg, -4, 128)\n",
    "\n",
    "def toCLAHEgreen(img):\n",
    "    clipLimit=2.0\n",
    "    tileGridSize=(8, 8)\n",
    "    img = np.array(img)\n",
    "    green_channel = img[:, :, 1]\n",
    "    clahe = cv2.createCLAHE(clipLimit=clipLimit, tileGridSize=tileGridSize)\n",
    "    cla = clahe.apply(green_channel)\n",
    "    cla=clahe.apply(cla)\n",
    "    return cla\n",
    "\n",
    "def apply_clahe(img):\n",
    "    clahe = cv2.createCLAHE(clipLimit=2.0, tileGridSize=(8,8))\n",
    "    lab = cv2.cvtColor(img, cv2.COLOR_RGB2LAB)\n",
    "    lab[...,0] = clahe.apply(lab[...,0])\n",
    "    rgb = cv2.cvtColor(lab, cv2.COLOR_LAB2RGB)\n",
    "    return rgb\n",
    "\n",
    "def id_to_image(id_code, resize=True, augmentation=False, clahe=False, subtract_gaussian=False, subtract_median=False, clahe_green=False):\n",
    "    #path = '../data/all_images/{}'.format(id_code)\n",
    "    path = '../data/test_images/{}.png'.format(id_code)\n",
    "    im = cv2.imread(path)\n",
    "    im = cv2.cvtColor(im, cv2.COLOR_BGR2RGB)\n",
    "    if resize_image:\n",
    "        im = resize_image(im, augmentation)\n",
    "    if clahe:\n",
    "        im = apply_clahe(im)\n",
    "    if clahe_green:\n",
    "        im = toCLAHEgreen(im)\n",
    "    if subtract_gaussian:\n",
    "        im = subtract_gaussian_bg_image(im)\n",
    "    if subtract_median:\n",
    "        im = subtract_median_bg_image(im)\n",
    "    return im"
   ]
  },
  {
   "cell_type": "code",
   "execution_count": null,
   "metadata": {
    "ExecuteTime": {
     "end_time": "2019-08-26T15:55:52.611324Z",
     "start_time": "2019-08-26T15:55:51.782190Z"
    },
    "hidden": true
   },
   "outputs": [],
   "source": [
    "%%time\n",
    "df_train = pd.read_csv('../data/sample_submission.csv')\n",
    "# df_train = pd.read_csv('../data/train.csv')\n",
    "fig = plt.figure(figsize=(25, 16))\n",
    "SEED = np.random.randint(0,100)\n",
    "\n",
    "def plot_col(col, id2im, n_cols=6):\n",
    "    for class_id in range(0, 5):\n",
    "        class_id = 0\n",
    "        for i, (idx, row) in enumerate(df_train.loc[df_train['diagnosis'] == class_id].sample(1, random_state=SEED).iterrows()):\n",
    "            ax = fig.add_subplot(5, n_cols, class_id * n_cols + i + col, xticks=[], yticks=[])\n",
    "            im = id2im(row['id_code'])\n",
    "            plt.imshow(im)\n",
    "            ax.set_title('Label: %d-%d-%s' % (class_id, idx, row['id_code']) )\n",
    "\n",
    "# display normal image of each class\n",
    "plot_col(1, lambda x: id_to_image(x))\n",
    "\n",
    "# display normal image of each class\n",
    "plot_col(4, lambda x: id_to_image(x, augmentation=True))\n",
    "\n",
    "# display normal image of each class\n",
    "plot_col(2, lambda x: id_to_image(x, subtract_gaussian=True))\n",
    "\n",
    "# display normal image of each class\n",
    "# plot_col(5, lambda x: id_to_image(x, subtract_gaussian=True, augmentation=True))\n",
    "plot_col(3, lambda x: id_to_image(x, clahe=True))\n",
    "\n",
    "# display normal image of each class\n",
    "# plot_col(3, lambda x: id_to_image(x, subtract_median=True))\n",
    "\n",
    "# display normal image of each class\n",
    "# plot_col(6, lambda x: id_to_image(x, subtract_median=True, augmentation=True))"
   ]
  },
  {
   "cell_type": "code",
   "execution_count": null,
   "metadata": {
    "hidden": true
   },
   "outputs": [],
   "source": []
  },
  {
   "cell_type": "code",
   "execution_count": null,
   "metadata": {
    "hidden": true
   },
   "outputs": [],
   "source": []
  },
  {
   "cell_type": "markdown",
   "metadata": {
    "hidden": true
   },
   "source": [
    "The first column shows the normal images, the second columns shows the images processed with an approach similar to Ben Graham's approach.\n",
    "\n",
    "The third column shows the images when a Median filter is used (instead of a Gaussian filter). A median filter is very effective in seperating small or narrow objects from a relatively continous background. As a result, the blood vessels and small objects are much more apparant in the third column compared to the first two. That may be useful (or not!). It is also relatively succesful in removing color from the image, which may make images shot with different cameras more comparable (or removes potentially usefull information!). Put it in the comments if you get better/worse results with the Median filter.\n",
    "\n",
    "The last three columns just show random rotations/scalings. You can use the code to implement your own ImageGenerator and generate augmented images on the fly."
   ]
  },
  {
   "cell_type": "code",
   "execution_count": null,
   "metadata": {
    "ExecuteTime": {
     "end_time": "2019-08-14T16:16:44.200528Z",
     "start_time": "2019-08-14T16:16:43.954974Z"
    },
    "hidden": true
   },
   "outputs": [],
   "source": [
    "df = pd.read_csv('../data/train.csv')\n",
    "idx = 0\n",
    "img = id_to_image(df.iloc[idx][\"id_code\"], subtract_median=True)\n",
    "print(img.shape)\n",
    "plt.imshow(img)"
   ]
  },
  {
   "cell_type": "code",
   "execution_count": null,
   "metadata": {
    "ExecuteTime": {
     "end_time": "2019-08-14T16:16:44.417923Z",
     "start_time": "2019-08-14T16:16:44.201876Z"
    },
    "hidden": true
   },
   "outputs": [],
   "source": [
    "img = id_to_image(df.iloc[idx][\"id_code\"], clahe_green=True)\n",
    "plt.imshow(img)"
   ]
  },
  {
   "cell_type": "code",
   "execution_count": null,
   "metadata": {
    "ExecuteTime": {
     "end_time": "2019-08-14T16:16:44.638400Z",
     "start_time": "2019-08-14T16:16:44.419139Z"
    },
    "hidden": true
   },
   "outputs": [],
   "source": [
    "img = id_to_image(df.iloc[idx][\"id_code\"], subtract_median=True, clahe_green=True)\n",
    "plt.imshow(img)"
   ]
  },
  {
   "cell_type": "code",
   "execution_count": null,
   "metadata": {
    "ExecuteTime": {
     "end_time": "2019-08-14T16:18:39.409168Z",
     "start_time": "2019-08-14T16:18:39.197410Z"
    },
    "hidden": true
   },
   "outputs": [],
   "source": [
    "img = id_to_image(df.iloc[idx][\"id_code\"], subtract_median=True, clahe_green=True)\n",
    "plt.imshow(img)"
   ]
  },
  {
   "cell_type": "code",
   "execution_count": null,
   "metadata": {
    "ExecuteTime": {
     "end_time": "2019-08-14T16:16:44.641668Z",
     "start_time": "2019-08-14T16:16:44.639370Z"
    },
    "hidden": true
   },
   "outputs": [],
   "source": [
    "img.shape"
   ]
  },
  {
   "cell_type": "code",
   "execution_count": null,
   "metadata": {
    "hidden": true
   },
   "outputs": [],
   "source": []
  },
  {
   "cell_type": "markdown",
   "metadata": {},
   "source": [
    "### pretrained models testing"
   ]
  },
  {
   "cell_type": "code",
   "execution_count": null,
   "metadata": {
    "ExecuteTime": {
     "end_time": "2019-07-16T06:05:01.448215Z",
     "start_time": "2019-07-16T06:05:01.443168Z"
    }
   },
   "outputs": [],
   "source": [
    "import pretrainedmodels\n",
    "pretrainedmodels.model_names"
   ]
  },
  {
   "cell_type": "code",
   "execution_count": null,
   "metadata": {
    "ExecuteTime": {
     "end_time": "2019-08-26T20:17:36.632207Z",
     "start_time": "2019-08-26T20:17:36.629141Z"
    }
   },
   "outputs": [],
   "source": [
    "pretrainedmodels.pretrained_settings['inceptionresnetv2']"
   ]
  },
  {
   "cell_type": "code",
   "execution_count": null,
   "metadata": {
    "ExecuteTime": {
     "end_time": "2019-07-16T07:51:48.186477Z",
     "start_time": "2019-07-16T07:51:47.377749Z"
    }
   },
   "outputs": [],
   "source": [
    "summary(model2, input_size=(3, 224, 224), device=\"cpu\")"
   ]
  },
  {
   "cell_type": "code",
   "execution_count": null,
   "metadata": {
    "ExecuteTime": {
     "end_time": "2019-07-17T15:47:26.446900Z",
     "start_time": "2019-07-17T15:47:22.332278Z"
    }
   },
   "outputs": [],
   "source": [
    "import torch\n",
    "model = torch.hub.load('facebookresearch/WSL-Images', 'resnext101_32x16d_wsl')"
   ]
  },
  {
   "cell_type": "code",
   "execution_count": null,
   "metadata": {},
   "outputs": [],
   "source": [
    "model.fc"
   ]
  },
  {
   "cell_type": "code",
   "execution_count": null,
   "metadata": {
    "ExecuteTime": {
     "end_time": "2019-07-17T16:01:18.248617Z",
     "start_time": "2019-07-17T16:01:18.245412Z"
    }
   },
   "outputs": [],
   "source": [
    "model.avgpool"
   ]
  },
  {
   "cell_type": "code",
   "execution_count": null,
   "metadata": {
    "ExecuteTime": {
     "end_time": "2019-07-16T09:02:42.556472Z",
     "start_time": "2019-07-16T09:02:42.553787Z"
    }
   },
   "outputs": [],
   "source": [
    "model.children()"
   ]
  },
  {
   "cell_type": "code",
   "execution_count": null,
   "metadata": {
    "ExecuteTime": {
     "end_time": "2019-07-17T15:48:14.261755Z",
     "start_time": "2019-07-17T15:48:14.258805Z"
    }
   },
   "outputs": [],
   "source": [
    "blocks = list(model.children())"
   ]
  },
  {
   "cell_type": "code",
   "execution_count": null,
   "metadata": {
    "ExecuteTime": {
     "end_time": "2019-07-17T15:48:46.192318Z",
     "start_time": "2019-07-17T15:48:46.190080Z"
    }
   },
   "outputs": [],
   "source": [
    "backbone = nn.Sequential(\n",
    "    *list(blocks[:-2])\n",
    ") # upto AdaptiveAvgPool2d"
   ]
  },
  {
   "cell_type": "code",
   "execution_count": null,
   "metadata": {
    "ExecuteTime": {
     "end_time": "2019-07-17T15:48:49.113114Z",
     "start_time": "2019-07-17T15:48:49.103140Z"
    }
   },
   "outputs": [],
   "source": [
    "backbone"
   ]
  },
  {
   "cell_type": "code",
   "execution_count": null,
   "metadata": {
    "ExecuteTime": {
     "end_time": "2019-07-10T07:52:54.633643Z",
     "start_time": "2019-07-10T07:52:54.617685Z"
    }
   },
   "outputs": [],
   "source": [
    "nn.AvgPool2d?"
   ]
  },
  {
   "cell_type": "code",
   "execution_count": null,
   "metadata": {
    "ExecuteTime": {
     "end_time": "2019-07-16T14:17:42.092692Z",
     "start_time": "2019-07-16T14:17:41.557248Z"
    }
   },
   "outputs": [],
   "source": [
    "# model_name='se_resnext50_32x4d'\n",
    "model_name= \"resnext101_32x4d\"#'nasnetamobile'\n",
    "model_name = \"resnet50\"\n",
    "#model_name = \"densenet121\"\n",
    "\n",
    "model = pretrainedmodels.__dict__[model_name](num_classes=1000)"
   ]
  },
  {
   "cell_type": "code",
   "execution_count": null,
   "metadata": {
    "ExecuteTime": {
     "end_time": "2019-07-16T14:24:00.286560Z",
     "start_time": "2019-07-16T14:24:00.281371Z"
    }
   },
   "outputs": [],
   "source": [
    "#list(model.children())\n",
    "model"
   ]
  },
  {
   "cell_type": "code",
   "execution_count": null,
   "metadata": {
    "ExecuteTime": {
     "end_time": "2019-07-06T16:57:55.363607Z",
     "start_time": "2019-07-06T16:57:55.361473Z"
    }
   },
   "outputs": [],
   "source": [
    "#model.features"
   ]
  },
  {
   "cell_type": "code",
   "execution_count": null,
   "metadata": {
    "ExecuteTime": {
     "end_time": "2019-07-10T07:53:27.566872Z",
     "start_time": "2019-07-10T07:53:27.565161Z"
    },
    "scrolled": true
   },
   "outputs": [],
   "source": [
    "# blocks = list(model.children())\n",
    "# # blocks[:-3]\n",
    "# model"
   ]
  },
  {
   "cell_type": "code",
   "execution_count": null,
   "metadata": {
    "ExecuteTime": {
     "end_time": "2019-03-11T07:16:10.087047Z",
     "start_time": "2019-03-11T07:16:10.082661Z"
    },
    "scrolled": false
   },
   "outputs": [],
   "source": [
    "blocks = list(model.children())\n",
    "head = torch.nn.Sequential(*list(model.children())[:-3])\n",
    "# model._modules['layer0'] = head\n",
    "#model._modules['avg_pool'] = torch.nn.AvgPool2d(kernel_size=5, stride=1, padding=0) \n",
    "#model._modules['avg_pool'] = torch.nn.Sequential(*[torch.nn.ConstantPad2d((0,1,0,1), 0), torch.nn.AvgPool2d(kernel_size=7, stride=1, padding=0)])\n",
    "# model._modules['avg_pool'] = torch.nn.Sequential(torch.nn.AdaptiveAvgPool2d((1, 1)))\n",
    "# model._modules['last_linear'] = torch.nn.Linear(in_features=2048, out_features=1, bias=True)\n",
    "# model._modules['last_layer'] = classifier"
   ]
  },
  {
   "cell_type": "code",
   "execution_count": null,
   "metadata": {
    "ExecuteTime": {
     "end_time": "2019-03-09T06:14:19.979600Z",
     "start_time": "2019-03-09T06:14:19.950807Z"
    }
   },
   "outputs": [],
   "source": [
    "torch.nn.AdaptiveAvgPool2d?"
   ]
  },
  {
   "cell_type": "code",
   "execution_count": null,
   "metadata": {
    "ExecuteTime": {
     "end_time": "2019-03-08T14:35:34.758872Z",
     "start_time": "2019-03-08T14:35:34.725552Z"
    },
    "scrolled": true
   },
   "outputs": [],
   "source": [
    "#head.parameters()\n",
    "#for block in blocks:\n",
    "base = list(blocks[0].children())[:-1] + blocks[1:-2]\n",
    "torch.nn.Sequential(*base)\n",
    "torch.nn.Dropout?\n",
    "#    print(block)\n",
    "#    print('*'*100)"
   ]
  },
  {
   "cell_type": "code",
   "execution_count": null,
   "metadata": {
    "ExecuteTime": {
     "end_time": "2019-03-08T14:36:44.812582Z",
     "start_time": "2019-03-08T14:36:44.809699Z"
    }
   },
   "outputs": [],
   "source": [
    "\n",
    "torch.nn.Linear?"
   ]
  },
  {
   "cell_type": "code",
   "execution_count": null,
   "metadata": {
    "ExecuteTime": {
     "end_time": "2019-03-06T18:40:10.089244Z",
     "start_time": "2019-03-06T18:40:10.083820Z"
    }
   },
   "outputs": [],
   "source": [
    "#blocks[0] = head"
   ]
  },
  {
   "cell_type": "code",
   "execution_count": null,
   "metadata": {
    "ExecuteTime": {
     "end_time": "2019-03-06T18:40:11.163991Z",
     "start_time": "2019-03-06T18:40:11.156193Z"
    }
   },
   "outputs": [],
   "source": [
    "#blocks[-1] = torch.nn.Linear(in_features=2048, out_features=1, bias=True)"
   ]
  },
  {
   "cell_type": "code",
   "execution_count": null,
   "metadata": {
    "ExecuteTime": {
     "end_time": "2019-03-06T18:41:12.150285Z",
     "start_time": "2019-03-06T18:41:12.146092Z"
    }
   },
   "outputs": [],
   "source": [
    "#model = torch.nn.Sequential(*blocks)"
   ]
  },
  {
   "cell_type": "code",
   "execution_count": null,
   "metadata": {
    "ExecuteTime": {
     "end_time": "2019-03-08T09:57:42.790101Z",
     "start_time": "2019-03-08T09:57:42.788435Z"
    },
    "scrolled": true
   },
   "outputs": [],
   "source": [
    "#model._modules"
   ]
  },
  {
   "cell_type": "code",
   "execution_count": null,
   "metadata": {
    "ExecuteTime": {
     "end_time": "2019-07-16T14:23:12.737048Z",
     "start_time": "2019-07-16T14:23:12.733734Z"
    }
   },
   "outputs": [],
   "source": [
    "img = torch.Tensor(1, 3, 224, 224)#.to('cuda')\n",
    "#img = torch.Tensor(1, 3, 112, 112)\n",
    "#img = torch.Tensor(1, 3, 96, 96)"
   ]
  },
  {
   "cell_type": "code",
   "execution_count": null,
   "metadata": {
    "ExecuteTime": {
     "end_time": "2019-07-16T14:23:19.348145Z",
     "start_time": "2019-07-16T14:23:19.164218Z"
    }
   },
   "outputs": [],
   "source": [
    "out = model(img)\n",
    "features = model.features(img)\n",
    "print(features.shape, out.shape)"
   ]
  },
  {
   "cell_type": "code",
   "execution_count": null,
   "metadata": {
    "ExecuteTime": {
     "end_time": "2019-07-10T07:55:22.459325Z",
     "start_time": "2019-07-10T07:55:22.456585Z"
    }
   },
   "outputs": [],
   "source": [
    "nn.AdaptiveAvgPool2d((1, 1))(features).shape"
   ]
  },
  {
   "cell_type": "code",
   "execution_count": null,
   "metadata": {
    "ExecuteTime": {
     "end_time": "2019-07-16T14:21:47.699120Z",
     "start_time": "2019-07-16T14:21:47.690327Z"
    }
   },
   "outputs": [],
   "source": [
    "x = None\n",
    "for param in model.features.children():\n",
    "    \n",
    "    print(param)\n",
    "    if x is None:\n",
    "        x = param(img)\n",
    "    else:\n",
    "        x = param(x)\n",
    "    print(x.shape)"
   ]
  },
  {
   "cell_type": "code",
   "execution_count": null,
   "metadata": {
    "ExecuteTime": {
     "end_time": "2019-03-08T11:35:18.787790Z",
     "start_time": "2019-03-08T11:35:18.785323Z"
    }
   },
   "outputs": [],
   "source": []
  },
  {
   "cell_type": "code",
   "execution_count": null,
   "metadata": {
    "ExecuteTime": {
     "end_time": "2019-07-16T14:16:24.194048Z",
     "start_time": "2019-07-16T14:16:24.180749Z"
    }
   },
   "outputs": [],
   "source": [
    "# summary(model, input_size=(3, 96, 96))\n",
    "# summary(model, input_size=(3, 112, 112))\n",
    "summary(model.features, input_size=(3, 224, 224))"
   ]
  },
  {
   "cell_type": "code",
   "execution_count": null,
   "metadata": {
    "ExecuteTime": {
     "end_time": "2019-07-06T17:04:20.713090Z",
     "start_time": "2019-07-06T17:04:20.693026Z"
    }
   },
   "outputs": [],
   "source": [
    "torch.nn.functional.max_pool2d\n",
    "torch.nn.functional.adaptive_avg_pool2d?"
   ]
  },
  {
   "cell_type": "code",
   "execution_count": null,
   "metadata": {
    "ExecuteTime": {
     "end_time": "2019-03-11T15:46:57.035580Z",
     "start_time": "2019-03-11T15:46:57.031531Z"
    }
   },
   "outputs": [],
   "source": [
    "# torch.nn.Dropout?\n",
    "\n",
    "class Flatten(nn.Module):\n",
    "    def forward(self, x):\n",
    "        return x.view(x.size()[0], -1)\n",
    "\n",
    "\n"
   ]
  },
  {
   "cell_type": "code",
   "execution_count": null,
   "metadata": {
    "ExecuteTime": {
     "end_time": "2019-03-11T15:47:18.366460Z",
     "start_time": "2019-03-11T15:47:18.118874Z"
    }
   },
   "outputs": [],
   "source": [
    "model = pretrainedmodels.__dict__[model_name](num_classes=1000, pretrained=\"imagenet\")\n",
    "backbone = model.features\n",
    "classifier = nn.Sequential(\n",
    "        nn.AdaptiveAvgPool2d((1, 1)),\n",
    "        Flatten(),\n",
    "        nn.Dropout(0.5),\n",
    "        nn.Linear(in_features=1056, out_features=1, bias=True)\n",
    "        )\n",
    "\n"
   ]
  },
  {
   "cell_type": "code",
   "execution_count": null,
   "metadata": {
    "ExecuteTime": {
     "end_time": "2019-03-11T15:48:04.010034Z",
     "start_time": "2019-03-11T15:48:03.895379Z"
    }
   },
   "outputs": [],
   "source": [
    "img = torch.Tensor(1, 3, 112, 112)\n",
    "features = backbone(img)\n"
   ]
  },
  {
   "cell_type": "code",
   "execution_count": null,
   "metadata": {
    "ExecuteTime": {
     "end_time": "2019-03-11T16:27:30.993565Z",
     "start_time": "2019-03-11T16:27:30.991372Z"
    }
   },
   "outputs": [],
   "source": [
    "model.parameters()"
   ]
  },
  {
   "cell_type": "code",
   "execution_count": null,
   "metadata": {},
   "outputs": [],
   "source": []
  },
  {
   "cell_type": "code",
   "execution_count": null,
   "metadata": {},
   "outputs": [],
   "source": []
  },
  {
   "cell_type": "code",
   "execution_count": null,
   "metadata": {},
   "outputs": [],
   "source": []
  },
  {
   "cell_type": "code",
   "execution_count": null,
   "metadata": {
    "ExecuteTime": {
     "end_time": "2019-03-10T08:10:07.164081Z",
     "start_time": "2019-03-10T08:10:07.162484Z"
    }
   },
   "outputs": [],
   "source": [
    " \n",
    "from albumentations import *"
   ]
  },
  {
   "cell_type": "code",
   "execution_count": null,
   "metadata": {},
   "outputs": [],
   "source": []
  },
  {
   "cell_type": "code",
   "execution_count": null,
   "metadata": {
    "ExecuteTime": {
     "end_time": "2019-03-10T08:10:07.620226Z",
     "start_time": "2019-03-10T08:10:07.616861Z"
    }
   },
   "outputs": [],
   "source": [
    "train_aug = Compose([\n",
    "    Resize(224, 224),\n",
    "    RandomRotate90(p=0.5),\n",
    "    Transpose(p=0.5),\n",
    "    Flip(p=0.5),\n",
    "    OneOf([CLAHE(clip_limit=2), IAASharpen(), IAAEmboss(), RandomBrightnessContrast(), JpegCompression(), Blur(), GaussNoise() ], p=0.5), \n",
    "    HueSaturationValue(p=0.5), \n",
    "    ShiftScaleRotate(shift_limit=0.15, scale_limit=0.15, rotate_limit=45, p=0.5),\n",
    "    Normalize(p=1)\n",
    "])\n",
    "val_aug = Compose([\n",
    "    Normalize(p=1)\n",
    "])\n"
   ]
  },
  {
   "cell_type": "code",
   "execution_count": null,
   "metadata": {
    "ExecuteTime": {
     "end_time": "2019-03-10T08:10:07.912008Z",
     "start_time": "2019-03-10T08:10:07.897516Z"
    }
   },
   "outputs": [],
   "source": [
    "ShiftScaleRotate?"
   ]
  },
  {
   "cell_type": "code",
   "execution_count": null,
   "metadata": {
    "ExecuteTime": {
     "end_time": "2019-03-10T08:10:08.282455Z",
     "start_time": "2019-03-10T08:10:08.277887Z"
    }
   },
   "outputs": [],
   "source": [
    "Normalize?"
   ]
  },
  {
   "cell_type": "code",
   "execution_count": null,
   "metadata": {
    "ExecuteTime": {
     "end_time": "2019-03-06T19:53:46.931709Z",
     "start_time": "2019-03-06T19:53:46.926445Z"
    }
   },
   "outputs": [],
   "source": [
    "train_aug?"
   ]
  },
  {
   "cell_type": "code",
   "execution_count": null,
   "metadata": {
    "ExecuteTime": {
     "end_time": "2019-03-10T08:10:23.270399Z",
     "start_time": "2019-03-10T08:10:23.268554Z"
    }
   },
   "outputs": [],
   "source": [
    "flip = Flip(p=1)"
   ]
  },
  {
   "cell_type": "code",
   "execution_count": null,
   "metadata": {
    "ExecuteTime": {
     "end_time": "2019-03-10T08:11:16.673190Z",
     "start_time": "2019-03-10T08:11:16.670185Z"
    }
   },
   "outputs": [],
   "source": [
    "flip.apply?"
   ]
  },
  {
   "cell_type": "code",
   "execution_count": null,
   "metadata": {},
   "outputs": [],
   "source": []
  },
  {
   "cell_type": "code",
   "execution_count": null,
   "metadata": {},
   "outputs": [],
   "source": []
  },
  {
   "cell_type": "markdown",
   "metadata": {
    "heading_collapsed": true
   },
   "source": [
    "### AUC ROC"
   ]
  },
  {
   "cell_type": "code",
   "execution_count": null,
   "metadata": {
    "ExecuteTime": {
     "end_time": "2019-03-08T10:02:30.215552Z",
     "start_time": "2019-03-08T10:02:30.153939Z"
    },
    "hidden": true
   },
   "outputs": [],
   "source": [
    "# roc curve and auc\n",
    "from sklearn.datasets import make_classification\n",
    "from sklearn.neighbors import KNeighborsClassifier\n",
    "from sklearn.model_selection import train_test_split\n",
    "from sklearn.metrics import roc_curve\n",
    "from sklearn.metrics import roc_auc_score\n",
    "from matplotlib import pyplot\n",
    "# generate 2 class dataset\n",
    "X, y = make_classification(n_samples=1000, n_classes=2, weights=[1,1], random_state=1)\n",
    "# split into train/test sets\n",
    "trainX, testX, trainy, testy = train_test_split(X, y, test_size=0.5, random_state=2)\n",
    "# fit a model\n",
    "model = KNeighborsClassifier(n_neighbors=3)\n",
    "model.fit(trainX, trainy)\n",
    "# predict probabilities\n",
    "probs = model.predict_proba(testX)\n",
    "# keep probabilities for the positive outcome only\n",
    "probs = probs[:, 1]\n"
   ]
  },
  {
   "cell_type": "code",
   "execution_count": null,
   "metadata": {
    "ExecuteTime": {
     "end_time": "2019-03-08T10:02:30.465574Z",
     "start_time": "2019-03-08T10:02:30.463109Z"
    },
    "hidden": true
   },
   "outputs": [],
   "source": [
    "testy.shape, probs.shape"
   ]
  },
  {
   "cell_type": "code",
   "execution_count": null,
   "metadata": {
    "ExecuteTime": {
     "end_time": "2019-03-08T10:02:30.845448Z",
     "start_time": "2019-03-08T10:02:30.836471Z"
    },
    "hidden": true
   },
   "outputs": [],
   "source": [
    "fpr, tpr, thresholds"
   ]
  },
  {
   "cell_type": "code",
   "execution_count": null,
   "metadata": {
    "ExecuteTime": {
     "end_time": "2019-03-08T10:02:31.264875Z",
     "start_time": "2019-03-08T10:02:31.146065Z"
    },
    "hidden": true
   },
   "outputs": [],
   "source": [
    "# calculate AUC\n",
    "auc = roc_auc_score(testy, probs)\n",
    "print('AUC: %.3f' % auc)\n",
    "# calculate roc curve\n",
    "fpr, tpr, thresholds = roc_curve(testy, probs)\n",
    "# plot no skill\n",
    "pyplot.plot([0, 1], [0, 1], linestyle='--')\n",
    "pyplot.plot([0, 1], [0, 1], linestyle='--')\n",
    "# plot the roc curve for the model\n",
    "pyplot.plot(fpr, tpr, marker='.')\n",
    "# show the plot\n",
    "pyplot.show()"
   ]
  },
  {
   "cell_type": "code",
   "execution_count": null,
   "metadata": {
    "ExecuteTime": {
     "end_time": "2019-03-08T10:02:56.747940Z",
     "start_time": "2019-03-08T10:02:56.730493Z"
    },
    "hidden": true
   },
   "outputs": [],
   "source": [
    "pyplot.savefig('lol.png')"
   ]
  },
  {
   "cell_type": "code",
   "execution_count": null,
   "metadata": {
    "ExecuteTime": {
     "end_time": "2019-03-08T10:09:53.385157Z",
     "start_time": "2019-03-08T10:09:53.383301Z"
    },
    "hidden": true
   },
   "outputs": [],
   "source": [
    "pyplot.close('all')"
   ]
  },
  {
   "cell_type": "code",
   "execution_count": null,
   "metadata": {
    "hidden": true
   },
   "outputs": [],
   "source": []
  },
  {
   "cell_type": "code",
   "execution_count": null,
   "metadata": {
    "hidden": true
   },
   "outputs": [],
   "source": []
  },
  {
   "cell_type": "code",
   "execution_count": null,
   "metadata": {
    "ExecuteTime": {
     "end_time": "2019-03-08T15:51:37.862255Z",
     "start_time": "2019-03-08T15:51:37.842994Z"
    },
    "hidden": true
   },
   "outputs": [],
   "source": [
    "import apex"
   ]
  },
  {
   "cell_type": "code",
   "execution_count": null,
   "metadata": {
    "ExecuteTime": {
     "end_time": "2019-03-08T15:51:44.186094Z",
     "start_time": "2019-03-08T15:51:44.182599Z"
    },
    "hidden": true
   },
   "outputs": [],
   "source": [
    "apex.amp.?"
   ]
  },
  {
   "cell_type": "code",
   "execution_count": null,
   "metadata": {
    "ExecuteTime": {
     "end_time": "2019-03-12T10:48:32.155681Z",
     "start_time": "2019-03-12T10:48:31.857851Z"
    },
    "hidden": true
   },
   "outputs": [],
   "source": [
    "import pandas as pd\n",
    "df1 = pd.read_csv('weights/ensemble/11Mar_nasnetamobile_fold0_ckpt17.csv')\n",
    "df2 = pd.read_csv('weights/ensemble/9Mar_se_resnext50_32x4d_v3_fold0_1_2_allckpt17.csv')\n",
    "df3 = pd.read_csv('weights/ensemble/11Mar_nasnetamobile_v2_fold2_ckpt20.csv')\n",
    "df= df1.copy()\n",
    "df['label'] = (df1['label'] + df3['label'] + 3* df2['label'])/5"
   ]
  },
  {
   "cell_type": "code",
   "execution_count": null,
   "metadata": {
    "ExecuteTime": {
     "end_time": "2019-03-12T10:48:35.638945Z",
     "start_time": "2019-03-12T10:48:35.626742Z"
    },
    "hidden": true
   },
   "outputs": [],
   "source": [
    "df.head()"
   ]
  },
  {
   "cell_type": "code",
   "execution_count": null,
   "metadata": {
    "ExecuteTime": {
     "end_time": "2019-03-12T10:49:13.181741Z",
     "start_time": "2019-03-12T10:49:13.068790Z"
    },
    "hidden": true
   },
   "outputs": [],
   "source": [
    "df.to_csv('weights/ensemble/resnextfold012ckpt17+nasnetmobileckpt17+nasnetamobilefold2_ckpt20.csv', index=False)"
   ]
  },
  {
   "cell_type": "markdown",
   "metadata": {
    "heading_collapsed": true
   },
   "source": [
    "### sampled val set"
   ]
  },
  {
   "cell_type": "code",
   "execution_count": null,
   "metadata": {
    "ExecuteTime": {
     "end_time": "2019-08-19T13:05:32.364319Z",
     "start_time": "2019-08-19T13:05:32.360757Z"
    },
    "hidden": true
   },
   "outputs": [],
   "source": [
    "sample_dict = {\n",
    "        2:    0.647303,\n",
    "        0:    0.185166,\n",
    "        1:    0.070539,\n",
    "        3:    0.058091,\n",
    "        4:    0.038900\n",
    "}\n"
   ]
  },
  {
   "cell_type": "code",
   "execution_count": null,
   "metadata": {
    "ExecuteTime": {
     "end_time": "2019-08-19T13:05:32.855116Z",
     "start_time": "2019-08-19T13:05:32.851286Z"
    },
    "hidden": true
   },
   "outputs": [],
   "source": [
    "count = {}\n",
    "for i, j in sample_dict.items():\n",
    "    count[i] = int(sample_dict[i] * 650)\n",
    "count,  sum(count.values())"
   ]
  },
  {
   "cell_type": "code",
   "execution_count": null,
   "metadata": {
    "ExecuteTime": {
     "end_time": "2019-08-19T13:05:34.917507Z",
     "start_time": "2019-08-19T13:05:34.911946Z"
    },
    "hidden": true
   },
   "outputs": [],
   "source": [
    "vdf = pd.read_csv('../data/folds/val0-5.csv')\n",
    "vdf.shape"
   ]
  },
  {
   "cell_type": "code",
   "execution_count": null,
   "metadata": {
    "ExecuteTime": {
     "end_time": "2019-08-19T13:05:35.501508Z",
     "start_time": "2019-08-19T13:05:35.496844Z"
    },
    "hidden": true
   },
   "outputs": [],
   "source": [
    "train_df = pd.read_csv('../data/train.csv')"
   ]
  },
  {
   "cell_type": "code",
   "execution_count": null,
   "metadata": {
    "ExecuteTime": {
     "end_time": "2019-08-19T13:05:43.824211Z",
     "start_time": "2019-08-19T13:05:43.819747Z"
    },
    "hidden": true
   },
   "outputs": [],
   "source": [
    "train_df.head()"
   ]
  },
  {
   "cell_type": "code",
   "execution_count": null,
   "metadata": {
    "ExecuteTime": {
     "end_time": "2019-08-19T13:10:29.956778Z",
     "start_time": "2019-08-19T13:10:29.949494Z"
    },
    "hidden": true
   },
   "outputs": [],
   "source": [
    "def sample(obj):  # [5]\n",
    "    return obj.sample(n=count[obj.name], replace=False, random_state=69)\n",
    "val_df = train_df.groupby('diagnosis').apply(sample).reset_index(drop=True)"
   ]
  },
  {
   "cell_type": "code",
   "execution_count": null,
   "metadata": {
    "ExecuteTime": {
     "end_time": "2019-08-19T13:10:30.445969Z",
     "start_time": "2019-08-19T13:10:30.441147Z"
    },
    "hidden": true
   },
   "outputs": [],
   "source": [
    "val_df.head()"
   ]
  },
  {
   "cell_type": "code",
   "execution_count": null,
   "metadata": {
    "ExecuteTime": {
     "end_time": "2019-08-19T13:12:32.444665Z",
     "start_time": "2019-08-19T13:12:32.441651Z"
    },
    "hidden": true
   },
   "outputs": [],
   "source": [
    "train_df.shape, val_df.shape"
   ]
  },
  {
   "cell_type": "code",
   "execution_count": null,
   "metadata": {
    "ExecuteTime": {
     "end_time": "2019-08-19T13:15:04.313966Z",
     "start_time": "2019-08-19T13:15:04.308953Z"
    },
    "hidden": true
   },
   "outputs": [],
   "source": [
    "train_df =train_df[~train_df['id_code'].isin(val_df.id_code.tolist())]"
   ]
  },
  {
   "cell_type": "code",
   "execution_count": null,
   "metadata": {
    "ExecuteTime": {
     "end_time": "2019-08-19T13:15:18.234998Z",
     "start_time": "2019-08-19T13:15:18.231898Z"
    },
    "hidden": true
   },
   "outputs": [],
   "source": [
    "train_df.shape, val_df.shape"
   ]
  },
  {
   "cell_type": "code",
   "execution_count": null,
   "metadata": {
    "ExecuteTime": {
     "end_time": "2019-08-19T13:15:51.100060Z",
     "start_time": "2019-08-19T13:15:51.094725Z"
    },
    "hidden": true
   },
   "outputs": [],
   "source": [
    "val_df.head()"
   ]
  },
  {
   "cell_type": "code",
   "execution_count": null,
   "metadata": {
    "ExecuteTime": {
     "end_time": "2019-08-19T13:17:30.865088Z",
     "start_time": "2019-08-19T13:17:30.861142Z"
    },
    "hidden": true
   },
   "outputs": [],
   "source": [
    "train_df = train_df[train_df.diagnosis != 3]"
   ]
  },
  {
   "cell_type": "code",
   "execution_count": null,
   "metadata": {
    "ExecuteTime": {
     "end_time": "2019-08-19T16:20:01.503317Z",
     "start_time": "2019-08-19T16:20:01.496591Z"
    },
    "hidden": true
   },
   "outputs": [],
   "source": [
    "train_df['diagnosis'] -= 1 "
   ]
  },
  {
   "cell_type": "code",
   "execution_count": null,
   "metadata": {
    "ExecuteTime": {
     "end_time": "2019-08-19T16:20:05.633158Z",
     "start_time": "2019-08-19T16:20:05.625052Z"
    },
    "hidden": true
   },
   "outputs": [],
   "source": [
    "train_df"
   ]
  }
 ],
 "metadata": {
  "kernelspec": {
   "display_name": "ML",
   "language": "python",
   "name": "ml"
  },
  "language_info": {
   "codemirror_mode": {
    "name": "ipython",
    "version": 3
   },
   "file_extension": ".py",
   "mimetype": "text/x-python",
   "name": "python",
   "nbconvert_exporter": "python",
   "pygments_lexer": "ipython3",
   "version": "3.7.3"
  }
 },
 "nbformat": 4,
 "nbformat_minor": 2
}
