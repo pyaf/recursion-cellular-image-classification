{
 "cells": [
  {
   "cell_type": "markdown",
   "metadata": {},
   "source": [
    "# Understanding Diabetic Retinopathy"
   ]
  },
  {
   "cell_type": "markdown",
   "metadata": {},
   "source": [
    "######  What data page of the competition says:\n",
    "You are provided with a large set of retina images taken using fundus photography under a variety of imaging conditions.\n",
    "\n",
    "A clinician has rated each image for the severity of diabetic retinopathy on a scale of 0 to 4:\n",
    "\n",
    "    0 - No DR\n",
    "\n",
    "    1 - Mild\n",
    "\n",
    "    2 - Moderate\n",
    "\n",
    "    3 - Severe\n",
    "\n",
    "    4 - Proliferative DR\n",
    "\n",
    "Like any real-world data set, you will encounter noise in both the images and labels. Images may contain artifacts, be out of focus, underexposed, or overexposed. The images were gathered from multiple clinics using a variety of cameras over an extended period of time, which will introduce further variation."
   ]
  },
  {
   "cell_type": "markdown",
   "metadata": {},
   "source": [
    "Facts About Diabetic Eye Disease\n",
    "\n",
    "https://nei.nih.gov/health/diabetic/retinopathy"
   ]
  },
  {
   "cell_type": "markdown",
   "metadata": {},
   "source": [
    "\n",
    "* Diabetic eye disease comprises a *group* of eye conditions that affect people with diabetes. These conditions include diabetic retinopathy, diabetic macular edema (DME), cataract, and glaucoma.\n",
    "* Diabetic retinopathy involves changes to retinal blood vessels that can cause them to bleed or leak fluid, distorting vision.\n",
    "* Diabetic retinopathy is the most common cause of vision loss among people with diabetes and a leading cause of blindness among working-age adults.\n",
    "* Because diabetic retinopathy often goes unnoticed until vision loss occurs, people with diabetes should get a comprehensive dilated eye exam at least once a year.\n",
    "* Diabetic macular edema (DME). A consequence of diabetic retinopathy, DME is swelling in an area of the retina called the macula. \n",
    "\n",
    "Diabetic eye disease also includes cataract and glaucoma:\n",
    "\n",
    "* Cataract is a clouding of the eye’s lens. Adults with diabetes are 2-5 times more likely than those without diabetes to develop cataract. Cataract also tends to develop at an earlier age in people with diabetes.\n",
    "* Glaucoma is a group of diseases that damage the eye’s optic nerve—the bundle of nerve fibers that connects the eye to the brain. Some types of glaucoma are associated with elevated pressure inside the eye. In adults, diabetes nearly doubles the risk of glaucoma.\n"
   ]
  },
  {
   "cell_type": "markdown",
   "metadata": {},
   "source": [
    "##### \n",
    "Diabetic retinopathy may progress through four stages:\n",
    "\n",
    "* Mild nonproliferative retinopathy. Small areas of balloon-like swelling in the retina’s tiny blood vessels, called microaneurysms, occur at this earliest stage of the disease. These microaneurysms may leak fluid into the retina.\n",
    "* Moderate nonproliferative retinopathy. As the disease progresses, blood vessels that nourish the retina may swell and distort. They may also lose their ability to transport blood. Both conditions cause characteristic changes to the appearance of the retina and may contribute to DME.\n",
    "* Severe nonproliferative retinopathy. Many more blood vessels are blocked, depriving blood supply to areas of the retina. These areas secrete growth factors that signal the retina to grow new blood vessels.\n",
    "* Proliferative diabetic retinopathy (PDR). At this advanced stage, growth factors secreted by the retina trigger the proliferation of new blood vessels, which grow along the inside surface of the retina and into the vitreous gel, the fluid that fills the eye. The new blood vessels are fragile, which makes them more likely to leak and bleed. Accompanying scar tissue can contract and cause retinal detachment—the pulling away of the retina from underlying tissue, like wallpaper peeling away from a wall. Retinal detachment can lead to permanent vision loss.\n"
   ]
  },
  {
   "cell_type": "markdown",
   "metadata": {},
   "source": [
    "##### Grading\n",
    "http://eyesteve.com/diabetic-retinopathy-grading/"
   ]
  },
  {
   "cell_type": "code",
   "execution_count": null,
   "metadata": {},
   "outputs": [],
   "source": []
  },
  {
   "cell_type": "markdown",
   "metadata": {},
   "source": [
    "### Messidor dataset"
   ]
  },
  {
   "cell_type": "markdown",
   "metadata": {},
   "source": [
    "http://www.adcis.net/en/third-party/messidor/"
   ]
  },
  {
   "cell_type": "code",
   "execution_count": null,
   "metadata": {},
   "outputs": [],
   "source": []
  },
  {
   "cell_type": "code",
   "execution_count": null,
   "metadata": {},
   "outputs": [],
   "source": []
  },
  {
   "cell_type": "markdown",
   "metadata": {},
   "source": [
    "#### Retinopathy grade\n",
    "\n",
    "    0 (Normal): (μA = 0) AND (H = 0)\n",
    "    1: (0 < μA <= 5) AND (H = 0)\n",
    "    2: ((5 < μA < 15) OR (0 < H < 5)) AND (NV = 0)\n",
    "    3: (μA >= 15) OR (H >=5) OR (NV = 1)\n",
    "\n",
    "    μA: number of microaneurysms\n",
    "    H: number of hemorrhages\n",
    "    NV = 1: neovascularization\n",
    "    NV = 0: no neovascularization"
   ]
  },
  {
   "cell_type": "code",
   "execution_count": null,
   "metadata": {},
   "outputs": [],
   "source": []
  },
  {
   "cell_type": "code",
   "execution_count": null,
   "metadata": {},
   "outputs": [],
   "source": []
  }
 ],
 "metadata": {
  "kernelspec": {
   "display_name": "ML",
   "language": "python",
   "name": "ml"
  },
  "language_info": {
   "codemirror_mode": {
    "name": "ipython",
    "version": 3
   },
   "file_extension": ".py",
   "mimetype": "text/x-python",
   "name": "python",
   "nbconvert_exporter": "python",
   "pygments_lexer": "ipython3",
   "version": "3.7.3"
  }
 },
 "nbformat": 4,
 "nbformat_minor": 2
}
