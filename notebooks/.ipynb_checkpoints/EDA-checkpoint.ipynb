{
 "cells": [
  {
   "cell_type": "code",
   "execution_count": null,
   "metadata": {
    "ExecuteTime": {
     "end_time": "2019-08-31T06:41:20.444806Z",
     "start_time": "2019-08-31T06:41:20.109806Z"
    }
   },
   "outputs": [],
   "source": [
    "import matplotlib.pyplot as plt\n",
    "import matplotlib.image as mpimg\n",
    "from PIL import Image\n",
    "import pandas as pd\n",
    "import cv2\n",
    "import random\n",
    "import numpy as np\n",
    "%matplotlib inline\n",
    "SEED = 69"
   ]
  },
  {
   "cell_type": "code",
   "execution_count": null,
   "metadata": {
    "ExecuteTime": {
     "end_time": "2019-08-31T06:41:43.013454Z",
     "start_time": "2019-08-31T06:41:42.979783Z"
    }
   },
   "outputs": [],
   "source": [
    "df = pd.read_csv('../data/train.csv')\n"
   ]
  },
  {
   "cell_type": "code",
   "execution_count": null,
   "metadata": {
    "ExecuteTime": {
     "end_time": "2019-08-31T06:44:01.388545Z",
     "start_time": "2019-08-31T06:44:01.384558Z"
    }
   },
   "outputs": [],
   "source": [
    "df = df.replace(to_replace=3, value=3.5)"
   ]
  },
  {
   "cell_type": "code",
   "execution_count": null,
   "metadata": {},
   "outputs": [],
   "source": []
  },
  {
   "cell_type": "code",
   "execution_count": null,
   "metadata": {},
   "outputs": [],
   "source": []
  },
  {
   "cell_type": "markdown",
   "metadata": {},
   "source": [
    "### 2015's test data"
   ]
  },
  {
   "cell_type": "code",
   "execution_count": null,
   "metadata": {
    "ExecuteTime": {
     "end_time": "2019-08-31T06:41:27.530460Z",
     "start_time": "2019-08-31T06:41:27.527906Z"
    }
   },
   "outputs": [],
   "source": [
    "# test_old = pd.read_csv('../external_data/2015/retinopathy_solution.csv')"
   ]
  },
  {
   "cell_type": "code",
   "execution_count": null,
   "metadata": {
    "ExecuteTime": {
     "end_time": "2019-08-15T06:46:55.210006Z",
     "start_time": "2019-08-15T06:46:55.189428Z"
    }
   },
   "outputs": [],
   "source": [
    "test_old.head()"
   ]
  },
  {
   "cell_type": "code",
   "execution_count": null,
   "metadata": {
    "ExecuteTime": {
     "end_time": "2019-08-15T06:46:57.731606Z",
     "start_time": "2019-08-15T06:46:57.713872Z"
    }
   },
   "outputs": [],
   "source": [
    "test_old.info()"
   ]
  },
  {
   "cell_type": "code",
   "execution_count": null,
   "metadata": {
    "ExecuteTime": {
     "end_time": "2019-08-15T06:49:50.651075Z",
     "start_time": "2019-08-15T06:49:50.553661Z"
    }
   },
   "outputs": [],
   "source": [
    "test_old[\"level\"].value_counts().plot(kind='bar')"
   ]
  },
  {
   "cell_type": "code",
   "execution_count": null,
   "metadata": {
    "ExecuteTime": {
     "end_time": "2019-08-15T06:49:50.813910Z",
     "start_time": "2019-08-15T06:49:50.794895Z"
    }
   },
   "outputs": [],
   "source": [
    "test_old[\"level\"].value_counts(normalize=True)"
   ]
  },
  {
   "cell_type": "code",
   "execution_count": null,
   "metadata": {
    "ExecuteTime": {
     "end_time": "2019-08-15T06:54:22.533824Z",
     "start_time": "2019-08-15T06:54:22.520793Z"
    }
   },
   "outputs": [],
   "source": [
    "test_old.query('Usage==\"Private\"')['level'].value_counts(normalize=True)"
   ]
  },
  {
   "cell_type": "code",
   "execution_count": null,
   "metadata": {
    "ExecuteTime": {
     "end_time": "2019-08-15T06:54:29.625642Z",
     "start_time": "2019-08-15T06:54:29.613912Z"
    }
   },
   "outputs": [],
   "source": [
    "test_old.query('Usage==\"Public\"')['level'].value_counts(normalize=True)"
   ]
  },
  {
   "cell_type": "code",
   "execution_count": null,
   "metadata": {
    "ExecuteTime": {
     "end_time": "2019-08-15T06:49:58.660166Z",
     "start_time": "2019-08-15T06:49:58.656571Z"
    }
   },
   "outputs": [],
   "source": [
    "test_old[\"level\"].value_counts()"
   ]
  },
  {
   "cell_type": "code",
   "execution_count": null,
   "metadata": {
    "ExecuteTime": {
     "end_time": "2019-08-14T16:53:13.807760Z",
     "start_time": "2019-08-14T16:53:13.688670Z"
    }
   },
   "outputs": [],
   "source": [
    "!ls ../data"
   ]
  },
  {
   "cell_type": "code",
   "execution_count": null,
   "metadata": {
    "ExecuteTime": {
     "end_time": "2019-08-27T08:22:26.720545Z",
     "start_time": "2019-08-27T08:22:26.650386Z"
    }
   },
   "outputs": [],
   "source": [
    "train_df = pd.read_csv('../data/train.csv')\n",
    "train_mes = pd.read_csv('../data/train_messidor.csv')\n",
    "old = pd.read_csv('../data/2015.csv')\n",
    "test_df = pd.read_csv('../data/sample_submission.csv')"
   ]
  },
  {
   "cell_type": "code",
   "execution_count": null,
   "metadata": {
    "ExecuteTime": {
     "end_time": "2019-08-27T08:23:06.121690Z",
     "start_time": "2019-08-27T08:23:06.116149Z"
    }
   },
   "outputs": [],
   "source": [
    "old_ones = old.query('diagnosis == 1')\n",
    "train_ones = train_df.query('diagnosis == 1')"
   ]
  },
  {
   "cell_type": "code",
   "execution_count": null,
   "metadata": {
    "ExecuteTime": {
     "end_time": "2019-08-27T08:26:28.246678Z",
     "start_time": "2019-08-27T08:26:26.381639Z"
    }
   },
   "outputs": [],
   "source": [
    "i = 19\n",
    "old_img = old_ones.iloc[i]['id_code']\n",
    "old_path = '../data/all_images/' + old_img\n",
    "plt.imshow(Image.open(old_path)); plt.show()\n",
    "train_img = train_ones.iloc[i]['id_code']\n",
    "train_path = '../data/all_images/' + train_img\n",
    "plt.imshow(Image.open(train_path)); plt.show()"
   ]
  },
  {
   "cell_type": "code",
   "execution_count": null,
   "metadata": {
    "ExecuteTime": {
     "end_time": "2019-08-17T17:34:04.169768Z",
     "start_time": "2019-08-17T17:34:04.165481Z"
    }
   },
   "outputs": [],
   "source": [
    "test_df.shape"
   ]
  },
  {
   "cell_type": "code",
   "execution_count": null,
   "metadata": {
    "ExecuteTime": {
     "end_time": "2019-08-15T08:45:54.518661Z",
     "start_time": "2019-08-15T08:45:54.515689Z"
    }
   },
   "outputs": [],
   "source": [
    "#train_mes['id_code'] = train_mes['id_code'].apply(lambda x: x[:-4])\n",
    "#train_mes['id_code'] = train_mes['id_code'] + '.tif'\n",
    "#train_mes.to_csv('../data/train_messidor.csv', index=False)"
   ]
  },
  {
   "cell_type": "code",
   "execution_count": null,
   "metadata": {
    "ExecuteTime": {
     "end_time": "2019-08-18T09:27:53.708826Z",
     "start_time": "2019-08-18T09:27:53.687647Z"
    }
   },
   "outputs": [],
   "source": [
    "train_mes.head()"
   ]
  },
  {
   "cell_type": "code",
   "execution_count": null,
   "metadata": {
    "ExecuteTime": {
     "end_time": "2019-08-18T09:30:36.442412Z",
     "start_time": "2019-08-18T09:30:36.435648Z"
    }
   },
   "outputs": [],
   "source": [
    "train_mes['diagnosis'].value_counts(),  train_df['diagnosis'].value_counts()"
   ]
  },
  {
   "cell_type": "code",
   "execution_count": null,
   "metadata": {
    "ExecuteTime": {
     "end_time": "2019-08-14T16:53:16.714871Z",
     "start_time": "2019-08-14T16:53:16.710399Z"
    }
   },
   "outputs": [],
   "source": [
    "test_df.head()"
   ]
  },
  {
   "cell_type": "code",
   "execution_count": null,
   "metadata": {
    "ExecuteTime": {
     "end_time": "2019-08-14T16:53:16.975970Z",
     "start_time": "2019-08-14T16:53:16.959081Z"
    }
   },
   "outputs": [],
   "source": [
    "train_df.info(), test_df.info()"
   ]
  },
  {
   "cell_type": "code",
   "execution_count": null,
   "metadata": {
    "ExecuteTime": {
     "end_time": "2019-08-16T21:08:11.265253Z",
     "start_time": "2019-08-16T21:08:11.259046Z"
    }
   },
   "outputs": [],
   "source": [
    "\n",
    "old['diagnosis'].value_counts()#.plot(kind=\"bar\", title='org data'); plt.show();"
   ]
  },
  {
   "cell_type": "code",
   "execution_count": null,
   "metadata": {
    "ExecuteTime": {
     "end_time": "2019-08-16T21:07:33.380680Z",
     "start_time": "2019-08-16T21:07:33.370357Z"
    }
   },
   "outputs": [],
   "source": [
    "train_df['diagnosis'].value_counts()#.plot(kind=\"bar\", title='org data'); plt.show();"
   ]
  },
  {
   "cell_type": "code",
   "execution_count": null,
   "metadata": {
    "ExecuteTime": {
     "end_time": "2019-08-15T08:44:31.510956Z",
     "start_time": "2019-08-15T08:44:31.253247Z"
    }
   },
   "outputs": [],
   "source": [
    "train_df['diagnosis'].value_counts().plot(kind=\"bar\", title='org data'); plt.show();\n",
    "train_mes['diagnosis'].value_counts().plot(kind=\"bar\", title='mes data'); plt.show();\n",
    "old['diagnosis'].value_counts().plot(kind=\"bar\", title='old data'); plt.show();"
   ]
  },
  {
   "cell_type": "code",
   "execution_count": null,
   "metadata": {
    "ExecuteTime": {
     "end_time": "2019-08-15T08:44:37.048286Z",
     "start_time": "2019-08-15T08:44:37.036966Z"
    }
   },
   "outputs": [],
   "source": [
    "old['diagnosis'].value_counts(normalize=True),  train_old['diagnosis'].value_counts()"
   ]
  },
  {
   "cell_type": "code",
   "execution_count": null,
   "metadata": {
    "ExecuteTime": {
     "end_time": "2019-08-15T08:44:40.302755Z",
     "start_time": "2019-08-15T08:44:40.299984Z"
    }
   },
   "outputs": [],
   "source": [
    "old.shape"
   ]
  },
  {
   "cell_type": "code",
   "execution_count": null,
   "metadata": {
    "ExecuteTime": {
     "end_time": "2019-08-15T08:44:42.937925Z",
     "start_time": "2019-08-15T08:44:42.926709Z"
    }
   },
   "outputs": [],
   "source": [
    "old.head()"
   ]
  },
  {
   "cell_type": "code",
   "execution_count": null,
   "metadata": {
    "ExecuteTime": {
     "end_time": "2019-08-15T07:00:09.645826Z",
     "start_time": "2019-08-15T07:00:09.613503Z"
    }
   },
   "outputs": [],
   "source": [
    "test_old = pd.read_csv('../external_data/2015/retinopathy_solution.csv')\n",
    "test_old = test_old.rename(columns={'level':'diagnosis', 'image':'id_code'})\n",
    "test_old = test_old.drop(columns=['Usage'])"
   ]
  },
  {
   "cell_type": "code",
   "execution_count": null,
   "metadata": {
    "ExecuteTime": {
     "end_time": "2019-08-15T07:00:10.038645Z",
     "start_time": "2019-08-15T07:00:10.031929Z"
    }
   },
   "outputs": [],
   "source": [
    "test_old.head()"
   ]
  },
  {
   "cell_type": "code",
   "execution_count": null,
   "metadata": {
    "ExecuteTime": {
     "end_time": "2019-08-15T07:00:10.399064Z",
     "start_time": "2019-08-15T07:00:10.392418Z"
    }
   },
   "outputs": [],
   "source": [
    "old = pd.concat([train_old, test_old], sort=False, ignore_index=True)\n",
    "old['id_code'] = old['id_code'] + '.jpeg'"
   ]
  },
  {
   "cell_type": "code",
   "execution_count": null,
   "metadata": {
    "ExecuteTime": {
     "end_time": "2019-08-15T08:40:59.506503Z",
     "start_time": "2019-08-15T08:40:59.495338Z"
    }
   },
   "outputs": [],
   "source": [
    "old.head()"
   ]
  },
  {
   "cell_type": "code",
   "execution_count": null,
   "metadata": {
    "ExecuteTime": {
     "end_time": "2019-08-15T08:41:14.594053Z",
     "start_time": "2019-08-15T08:41:14.315821Z"
    }
   },
   "outputs": [],
   "source": [
    "# old.to_csv('../data/2015.csv', index=False)"
   ]
  },
  {
   "cell_type": "code",
   "execution_count": null,
   "metadata": {
    "ExecuteTime": {
     "end_time": "2019-08-17T17:58:35.968623Z",
     "start_time": "2019-08-17T17:58:35.949149Z"
    }
   },
   "outputs": [],
   "source": [
    "train_df['diagnosis'].value_counts(normalize=True),  old['diagnosis'].value_counts()"
   ]
  },
  {
   "cell_type": "code",
   "execution_count": null,
   "metadata": {
    "ExecuteTime": {
     "end_time": "2019-08-18T09:34:32.225443Z",
     "start_time": "2019-08-18T09:34:32.189150Z"
    }
   },
   "outputs": [],
   "source": [
    "def sample(obj): # [5]\n",
    "    return obj.sample(n=count_dict[obj.name], replace=False)\n",
    "\n",
    "count_dict = {\n",
    "    0: 15000,\n",
    "    2: 13153,\n",
    "    1: 6205,\n",
    "    3: 2087,\n",
    "    4: 1914,\n",
    "} # approx dist of org data, notice the order of keys\n",
    "\n",
    "sampled_df = old.groupby('diagnosis').apply(sample).reset_index(drop=True)\n"
   ]
  },
  {
   "cell_type": "code",
   "execution_count": null,
   "metadata": {
    "ExecuteTime": {
     "end_time": "2019-08-18T09:34:32.896455Z",
     "start_time": "2019-08-18T09:34:32.877453Z"
    }
   },
   "outputs": [],
   "source": [
    "old['diagnosis'].value_counts(normalize=True)"
   ]
  },
  {
   "cell_type": "code",
   "execution_count": null,
   "metadata": {
    "ExecuteTime": {
     "end_time": "2019-08-15T07:10:25.022638Z",
     "start_time": "2019-08-15T07:10:25.017612Z"
    }
   },
   "outputs": [],
   "source": [
    "sampled_df['diagnosis'].value_counts(normalize=True)"
   ]
  },
  {
   "cell_type": "code",
   "execution_count": null,
   "metadata": {
    "ExecuteTime": {
     "end_time": "2019-08-18T09:34:35.046635Z",
     "start_time": "2019-08-18T09:34:34.906751Z"
    }
   },
   "outputs": [],
   "source": [
    "sampled_df['diagnosis'].value_counts().plot(kind='bar');"
   ]
  },
  {
   "cell_type": "code",
   "execution_count": null,
   "metadata": {
    "ExecuteTime": {
     "end_time": "2019-08-18T09:34:58.514511Z",
     "start_time": "2019-08-18T09:34:58.505978Z"
    }
   },
   "outputs": [],
   "source": [
    "added = old.append(sampled_df)\n",
    "added.shape, old.shape, sampled_df.shape"
   ]
  },
  {
   "cell_type": "code",
   "execution_count": null,
   "metadata": {
    "ExecuteTime": {
     "end_time": "2019-07-14T07:56:58.862545Z",
     "start_time": "2019-07-14T07:56:58.860441Z"
    }
   },
   "outputs": [],
   "source": [
    "counts = np.unique(train_df['diagnosis'].values, return_counts=True)"
   ]
  },
  {
   "cell_type": "code",
   "execution_count": null,
   "metadata": {
    "ExecuteTime": {
     "end_time": "2019-07-14T07:56:58.874158Z",
     "start_time": "2019-07-14T07:56:58.864181Z"
    }
   },
   "outputs": [],
   "source": [
    "counts"
   ]
  },
  {
   "cell_type": "code",
   "execution_count": null,
   "metadata": {
    "ExecuteTime": {
     "end_time": "2019-08-15T07:30:12.783395Z",
     "start_time": "2019-08-15T07:30:12.748598Z"
    }
   },
   "outputs": [],
   "source": [
    "y_test = pd.read_csv('../weights/submission820.csv')\n",
    "y_test['diagnosis'].value_counts(normalize=True)"
   ]
  },
  {
   "cell_type": "code",
   "execution_count": null,
   "metadata": {
    "ExecuteTime": {
     "end_time": "2019-08-15T08:40:44.953409Z",
     "start_time": "2019-08-15T08:40:44.939378Z"
    }
   },
   "outputs": [],
   "source": [
    "old.head()"
   ]
  },
  {
   "cell_type": "code",
   "execution_count": null,
   "metadata": {
    "ExecuteTime": {
     "end_time": "2019-07-14T07:56:59.176419Z",
     "start_time": "2019-07-14T07:56:59.033867Z"
    }
   },
   "outputs": [],
   "source": [
    "i = 0\n",
    "#img = mpimg.imread('../data/train_images/%s.png' % train_df.iloc[i][\"id_code\"])\n",
    "\n",
    "img = cv2.imread('../data/train_images/%s.png' % train_df.iloc[i][\"id_code\"])\n",
    "img = cv2.cvtColor(img, cv2.COLOR_BGR2RGB)  # ****************************"
   ]
  },
  {
   "cell_type": "code",
   "execution_count": null,
   "metadata": {
    "ExecuteTime": {
     "end_time": "2019-07-14T07:56:59.180048Z",
     "start_time": "2019-07-14T07:56:59.177673Z"
    }
   },
   "outputs": [],
   "source": [
    "img.shape\n"
   ]
  },
  {
   "cell_type": "code",
   "execution_count": null,
   "metadata": {
    "ExecuteTime": {
     "end_time": "2019-07-14T07:56:59.219514Z",
     "start_time": "2019-07-14T07:56:59.181366Z"
    }
   },
   "outputs": [],
   "source": [
    "np.max(img), np.min(img)"
   ]
  },
  {
   "cell_type": "code",
   "execution_count": null,
   "metadata": {
    "ExecuteTime": {
     "end_time": "2019-07-14T07:56:59.926158Z",
     "start_time": "2019-07-14T07:56:59.234382Z"
    }
   },
   "outputs": [],
   "source": [
    "plt.imshow(img)"
   ]
  },
  {
   "cell_type": "code",
   "execution_count": null,
   "metadata": {
    "ExecuteTime": {
     "end_time": "2019-07-14T07:57:00.624368Z",
     "start_time": "2019-07-14T07:56:59.927430Z"
    }
   },
   "outputs": [],
   "source": [
    "# plot some random training images with their ground truth labels\n",
    "i = random.choice(range(train_df.shape[0]))\n",
    "img = mpimg.imread('../data/train_images/' + train_df.iloc[i]['id_code'] + '.png')\n",
    "plt.imshow(img)\n",
    "plt.title(train_df.iloc[i]['diagnosis'])\n",
    "plt.show()"
   ]
  },
  {
   "cell_type": "code",
   "execution_count": null,
   "metadata": {
    "ExecuteTime": {
     "end_time": "2019-07-14T07:57:00.630406Z",
     "start_time": "2019-07-14T07:57:00.626184Z"
    }
   },
   "outputs": [],
   "source": [
    "train_df['diagnosis'].value_counts()"
   ]
  },
  {
   "cell_type": "markdown",
   "metadata": {},
   "source": [
    "### See some images"
   ]
  },
  {
   "cell_type": "code",
   "execution_count": null,
   "metadata": {
    "ExecuteTime": {
     "end_time": "2019-08-15T08:31:48.115602Z",
     "start_time": "2019-08-15T08:31:44.634022Z"
    }
   },
   "outputs": [],
   "source": [
    "def display_samples(df, columns=3, rows=3):\n",
    "    fig=plt.figure(figsize=(5*columns, 4*rows))\n",
    "\n",
    "    for i in range(columns*rows):\n",
    "        image_path = df.loc[i,'id_code']\n",
    "        image_id = df.loc[i,'diagnosis']\n",
    "        img = cv2.imread(f'../external_data/train_images/{image_path}.jpeg')\n",
    "        img = cv2.cvtColor(img, cv2.COLOR_BGR2RGB)\n",
    "        \n",
    "        fig.add_subplot(rows, columns, i+1)\n",
    "        plt.title(image_id)\n",
    "        plt.imshow(img)\n",
    "    \n",
    "    plt.tight_layout()\n",
    "\n",
    "display_samples(train_old)"
   ]
  },
  {
   "cell_type": "code",
   "execution_count": null,
   "metadata": {
    "ExecuteTime": {
     "end_time": "2019-08-15T08:31:12.347189Z",
     "start_time": "2019-08-15T08:31:08.073783Z"
    }
   },
   "outputs": [],
   "source": [
    "def display_samples(df, columns=3, rows=3):\n",
    "    fig=plt.figure(figsize=(5*columns, 4*rows))\n",
    "\n",
    "    for i in range(columns*rows):\n",
    "        image_path = df.loc[i,'id_code']\n",
    "        image_id = df.loc[i,'diagnosis']\n",
    "        img = cv2.imread(f'../external_data/2015/test/{image_path}.jpeg')\n",
    "        img = cv2.cvtColor(img, cv2.COLOR_BGR2RGB)\n",
    "        \n",
    "        fig.add_subplot(rows, columns, i+1)\n",
    "        plt.title(image_id)\n",
    "        plt.imshow(img)\n",
    "    \n",
    "    plt.tight_layout()\n",
    "\n",
    "display_samples(test_old)"
   ]
  },
  {
   "cell_type": "code",
   "execution_count": null,
   "metadata": {
    "ExecuteTime": {
     "end_time": "2019-08-12T16:20:15.937250Z",
     "start_time": "2019-08-12T16:20:15.933065Z"
    }
   },
   "outputs": [],
   "source": [
    "SEED=0\n",
    "IMG_SIZE = 512\n",
    "NUM_CLASSES = 5\n",
    "SEED = 77\n",
    "TRAIN_NUM = 1000 # use 1000 when you just want to explore new idea, use -1 for full train\n",
    "\n"
   ]
  },
  {
   "cell_type": "code",
   "execution_count": null,
   "metadata": {
    "ExecuteTime": {
     "end_time": "2019-07-14T07:57:25.472032Z",
     "start_time": "2019-07-14T07:57:22.160634Z"
    }
   },
   "outputs": [],
   "source": [
    "\n",
    "fig = plt.figure(figsize=(25, 16))\n",
    "# display 10 images from each class\n",
    "for class_id in sorted(train_df['diagnosis'].unique()):\n",
    "    for i, (idx, row) in enumerate(train_df.loc[train_df['diagnosis'] == class_id].sample(5, random_state=SEED).iterrows()):\n",
    "        ax = fig.add_subplot(5, 5, class_id * 5 + i + 1, xticks=[], yticks=[])\n",
    "        path=f\"../data/train_images/{row['id_code']}.png\"\n",
    "        image = cv2.imread(path)\n",
    "        image = cv2.cvtColor(image, cv2.COLOR_BGR2RGB)\n",
    "        image = cv2.resize(image, (IMG_SIZE, IMG_SIZE))\n",
    "\n",
    "        plt.imshow(image)\n",
    "        ax.set_title('Label: %d-%d-%s' % (class_id, idx, row['id_code']) )\n",
    "        "
   ]
  },
  {
   "cell_type": "markdown",
   "metadata": {},
   "source": [
    "### Bengrahm's preprocessing"
   ]
  },
  {
   "cell_type": "code",
   "execution_count": null,
   "metadata": {
    "ExecuteTime": {
     "end_time": "2019-08-12T16:31:35.060068Z",
     "start_time": "2019-08-12T16:31:35.052821Z"
    }
   },
   "outputs": [],
   "source": [
    "def crop_image_from_gray(img, tol=7):\n",
    "    if img.ndim == 2:\n",
    "        mask = img > tol\n",
    "        return img[np.ix_(mask.any(1), mask.any(0))]\n",
    "    elif img.ndim == 3:\n",
    "        gray_img = cv2.cvtColor(img, cv2.COLOR_RGB2GRAY)\n",
    "        mask = gray_img > tol\n",
    "        check_shape = img[:, :, 0][np.ix_(mask.any(1), mask.any(0))].shape[0]\n",
    "        if check_shape == 0:  # image is too dark so that we crop out everything,\n",
    "            return img  # return original image\n",
    "        else:\n",
    "            img1 = img[:, :, 0][np.ix_(mask.any(1), mask.any(0))]\n",
    "            img2 = img[:, :, 1][np.ix_(mask.any(1), mask.any(0))]\n",
    "            img3 = img[:, :, 2][np.ix_(mask.any(1), mask.any(0))]\n",
    "            img = np.stack([img1, img2, img3], axis=-1)\n",
    "        return img"
   ]
  },
  {
   "cell_type": "code",
   "execution_count": null,
   "metadata": {
    "ExecuteTime": {
     "end_time": "2019-08-12T17:31:20.239832Z",
     "start_time": "2019-08-12T17:31:19.952493Z"
    }
   },
   "outputs": [],
   "source": [
    "path = \"../data/train_images/000c1434d8d7.png\"\n",
    "IMG_SIZE = 512\n",
    "image = cv2.imread(path)\n",
    "#image = cv2.cvtColor(image, cv2.COLOR_BGR2GRAY)\n",
    "image = cv2.cvtColor(image, cv2.COLOR_BGR2RGB)\n",
    "image = crop_image_from_gray(image)\n",
    "gray_image = cv2.resize(image, (IMG_SIZE, IMG_SIZE))\n",
    "plt.imshow(gray_image, cmap=\"gray\"); plt.show()\n"
   ]
  },
  {
   "cell_type": "code",
   "execution_count": null,
   "metadata": {
    "ExecuteTime": {
     "end_time": "2019-08-12T17:37:49.911923Z",
     "start_time": "2019-08-12T17:37:49.747268Z"
    }
   },
   "outputs": [],
   "source": [
    "#cv2.GaussianBlur(img, kernel, sigmaX), kernel should be of odd shape, sigmaX is std in X direction, by default sigmaY = sigmaX\n",
    "#They can be zero's and then they are computed from sigma. \n",
    "gauss_img = cv2.GaussianBlur(gray_image , (11, 11) , 10) # what is the ksize then?\n",
    "plt.imshow(gauss_img, cmap=\"gray\")"
   ]
  },
  {
   "cell_type": "code",
   "execution_count": null,
   "metadata": {
    "ExecuteTime": {
     "end_time": "2019-08-12T17:38:04.666040Z",
     "start_time": "2019-08-12T17:38:04.663448Z"
    }
   },
   "outputs": [],
   "source": [
    "cv2.getGaussianKernel(9, 10) # the values are selected from a normal distribution, imagine a norm dist with given sigmaX (here 2nd arg), you gotta select values at 0 in the middle of the kernel\n",
    "# then equal values from each sides (+x plane and -ve x plane)"
   ]
  },
  {
   "cell_type": "code",
   "execution_count": null,
   "metadata": {
    "ExecuteTime": {
     "end_time": "2019-08-12T17:37:51.292572Z",
     "start_time": "2019-08-12T17:37:51.290594Z"
    }
   },
   "outputs": [],
   "source": [
    "# dst = alpha * img1 + beta * img2 + gamma\n",
    "# cv2.addWeighted(img1, alpha, img2, beta, gamma)\n",
    "image = cv2.addWeighted(gray_image, 4, gauss_img ,-4 , 128) #  \n",
    "#image = 4 * gray_image - 4* gauss_img + 128\n",
    "\n",
    "#image += 128"
   ]
  },
  {
   "cell_type": "code",
   "execution_count": null,
   "metadata": {
    "ExecuteTime": {
     "end_time": "2019-08-12T17:37:52.161367Z",
     "start_time": "2019-08-12T17:37:51.994203Z"
    }
   },
   "outputs": [],
   "source": [
    "plt.imshow(image, cmap=\"gray\")"
   ]
  },
  {
   "cell_type": "code",
   "execution_count": null,
   "metadata": {
    "ExecuteTime": {
     "end_time": "2019-08-12T17:31:28.103165Z",
     "start_time": "2019-08-12T17:31:27.952595Z"
    }
   },
   "outputs": [],
   "source": [
    "img = np.load('../data/npy_files/bgcc456/000c1434d8d7.npy')\n",
    "plt.imshow(img)"
   ]
  },
  {
   "cell_type": "code",
   "execution_count": null,
   "metadata": {},
   "outputs": [],
   "source": [
    "# one of the comments:\n",
    "#It may be interesting to experiment with a Median filter, rather than a Gaussian filter. The Median filter is much better at separating small or narrow objects (e.g. blood vessels,\n",
    "#spots, etc.) from a rather smooth background.\n",
    "# https://www.kaggle.com/ratthachat/aptos-updatedv14-preprocessing-ben-s-cropping#571542"
   ]
  },
  {
   "cell_type": "markdown",
   "metadata": {},
   "source": [
    "### Tom's circle crop"
   ]
  },
  {
   "cell_type": "code",
   "execution_count": null,
   "metadata": {
    "ExecuteTime": {
     "end_time": "2019-08-12T16:51:56.182302Z",
     "start_time": "2019-08-12T16:51:55.546924Z"
    }
   },
   "outputs": [],
   "source": [
    "img = cv2.imread(path)\n",
    "img = crop_image_from_gray(img)    \n",
    "img = cv2.cvtColor(img, cv2.COLOR_BGR2RGB)\n",
    "plt.imshow(img)"
   ]
  },
  {
   "cell_type": "code",
   "execution_count": null,
   "metadata": {
    "ExecuteTime": {
     "end_time": "2019-08-12T16:51:56.428588Z",
     "start_time": "2019-08-12T16:51:56.183868Z"
    }
   },
   "outputs": [],
   "source": [
    "height, width, depth = img.shape    \n",
    "x = int(width/2)\n",
    "y = int(height/2)\n",
    "r = np.amin((x,y))\n",
    "circle_img = np.zeros((height, width), np.uint8)\n",
    "cv2.circle(circle_img, (x,y), int(r), 1, thickness=-1) # img, center, radius, color(pixel value), thickness (-1 fill all inside)\n",
    "plt.imshow(circle_img)"
   ]
  },
  {
   "cell_type": "code",
   "execution_count": null,
   "metadata": {
    "ExecuteTime": {
     "end_time": "2019-08-12T16:51:56.479252Z",
     "start_time": "2019-08-12T16:51:56.429886Z"
    }
   },
   "outputs": [],
   "source": [
    "np.unique(circle_img)"
   ]
  },
  {
   "cell_type": "code",
   "execution_count": null,
   "metadata": {
    "ExecuteTime": {
     "end_time": "2019-08-12T16:51:56.596672Z",
     "start_time": "2019-08-12T16:51:56.587733Z"
    }
   },
   "outputs": [],
   "source": [
    "# dst = img1 & img2\n",
    "#The operation of \"And\" will be performed only if mask[i] doesn't equal zero, else the the result of and operation will be zero. \n",
    "img = cv2.bitwise_and(img, img, mask=circle_img) "
   ]
  },
  {
   "cell_type": "code",
   "execution_count": null,
   "metadata": {
    "ExecuteTime": {
     "end_time": "2019-08-12T16:52:08.818551Z",
     "start_time": "2019-08-12T16:52:08.334248Z"
    }
   },
   "outputs": [],
   "source": [
    "plt.imshow(img) # so basically, circle crop the image from the center, with max possible radius, we may lose information which comes out of the circle, like see the fundus is lost"
   ]
  },
  {
   "cell_type": "code",
   "execution_count": null,
   "metadata": {
    "ExecuteTime": {
     "end_time": "2019-08-12T16:51:06.577908Z",
     "start_time": "2019-08-12T16:51:06.088027Z"
    }
   },
   "outputs": [],
   "source": [
    "img = crop_image_from_gray(img)\n",
    "img=cv2.addWeighted ( img,4, cv2.GaussianBlur( img , (0,0) , 10) ,-4 ,128)\n",
    "plt.imshow(img)\n"
   ]
  },
  {
   "cell_type": "code",
   "execution_count": null,
   "metadata": {},
   "outputs": [],
   "source": []
  },
  {
   "cell_type": "code",
   "execution_count": null,
   "metadata": {},
   "outputs": [],
   "source": []
  },
  {
   "cell_type": "code",
   "execution_count": null,
   "metadata": {
    "ExecuteTime": {
     "end_time": "2019-08-12T16:31:47.907725Z",
     "start_time": "2019-08-12T16:31:45.302836Z"
    }
   },
   "outputs": [],
   "source": [
    "fig = plt.figure(figsize=(25, 16))\n",
    "for class_id in sorted(train_df['diagnosis'].unique()):\n",
    "    for i, (idx, row) in enumerate(train_df.loc[train_df['diagnosis'] == class_id].sample(5, random_state=SEED).iterrows()):\n",
    "        ax = fig.add_subplot(5, 5, class_id * 5 + i + 1, xticks=[], yticks=[])\n",
    "        path=f\"../data/train_images/{row['id_code']}.png\"\n",
    "        image = cv2.imread(path)\n",
    "        \n",
    "        image = cv2.cvtColor(image, cv2.COLOR_BGR2GRAY)\n",
    "#         image=cv2.addWeighted ( image, 0 , cv2.GaussianBlur( image , (0 ,0 ) , 10) ,-4 ,128)\n",
    "        image = cv2.resize(image, (IMG_SIZE, IMG_SIZE))\n",
    "\n",
    "        plt.imshow(image, cmap='gray')\n",
    "        ax.set_title('Label: %d-%d-%s' % (class_id, idx, row['id_code']) )\n",
    "\n"
   ]
  },
  {
   "cell_type": "code",
   "execution_count": null,
   "metadata": {
    "ExecuteTime": {
     "end_time": "2019-08-12T16:20:58.894125Z",
     "start_time": "2019-08-12T16:20:53.380112Z"
    }
   },
   "outputs": [],
   "source": [
    "fig = plt.figure(figsize=(25, 16))\n",
    "for class_id in sorted(train_df['diagnosis'].unique()):\n",
    "    for i, (idx, row) in enumerate(train_df.loc[train_df['diagnosis'] == class_id].sample(5, random_state=SEED).iterrows()):\n",
    "        ax = fig.add_subplot(5, 5, class_id * 5 + i + 1, xticks=[], yticks=[])\n",
    "        path=f\"../data/train_images/{row['id_code']}.png\"\n",
    "        image = cv2.imread(path)\n",
    "        image = cv2.cvtColor(image, cv2.COLOR_BGR2GRAY)\n",
    "        image = cv2.resize(image, (IMG_SIZE, IMG_SIZE))\n",
    "        image=cv2.addWeighted ( image,4, cv2.GaussianBlur( image , (0,0) , IMG_SIZE/10) ,-4 ,128) # the trick is to add this line\n",
    "\n",
    "        plt.imshow(image, cmap='gray')\n",
    "        ax.set_title('Label: %d-%d-%s' % (class_id, idx, row['id_code']) )"
   ]
  },
  {
   "cell_type": "markdown",
   "metadata": {},
   "source": [
    "### Exploring old data"
   ]
  },
  {
   "cell_type": "code",
   "execution_count": null,
   "metadata": {
    "ExecuteTime": {
     "end_time": "2019-07-14T07:57:28.874240Z",
     "start_time": "2019-07-14T07:57:28.851027Z"
    }
   },
   "outputs": [],
   "source": [
    "train_old = pd.read_csv('../data/train_old.csv')\n",
    "train_old.shape"
   ]
  },
  {
   "cell_type": "code",
   "execution_count": null,
   "metadata": {
    "ExecuteTime": {
     "end_time": "2019-07-14T07:59:24.662339Z",
     "start_time": "2019-07-14T07:59:23.336953Z"
    }
   },
   "outputs": [],
   "source": [
    "\n",
    "fig = plt.figure(figsize=(25, 16))\n",
    "# display 10 images from each class\n",
    "for class_id in sorted(train_old['diagnosis'].unique()):\n",
    "    for i, (idx, row) in enumerate(train_old.loc[train_old['diagnosis'] == class_id].sample(5, random_state=SEED).iterrows()):\n",
    "        ax = fig.add_subplot(5, 5, class_id * 5 + i + 1, xticks=[], yticks=[])\n",
    "        path=f\"../external_data/train_images/{row['id_code']}.jpeg\"\n",
    "        #print(path)\n",
    "        image = cv2.imread(path)\n",
    "        image = cv2.cvtColor(image, cv2.COLOR_BGR2RGB)\n",
    "        image = cv2.resize(image, (IMG_SIZE, IMG_SIZE))\n",
    "\n",
    "        plt.imshow(image)\n",
    "        ax.set_title('Label: %d-%d-%s' % (class_id, idx, row['id_code']) )\n",
    "        "
   ]
  },
  {
   "cell_type": "code",
   "execution_count": null,
   "metadata": {
    "ExecuteTime": {
     "end_time": "2019-07-14T07:59:38.324798Z",
     "start_time": "2019-07-14T07:59:38.200464Z"
    }
   },
   "outputs": [],
   "source": [
    "train_old[['diagnosis']].hist();"
   ]
  },
  {
   "cell_type": "code",
   "execution_count": null,
   "metadata": {
    "ExecuteTime": {
     "end_time": "2019-07-14T08:00:39.888341Z",
     "start_time": "2019-07-14T08:00:39.884589Z"
    }
   },
   "outputs": [],
   "source": [
    "train_old['diagnosis'].value_counts()"
   ]
  },
  {
   "cell_type": "code",
   "execution_count": null,
   "metadata": {
    "ExecuteTime": {
     "end_time": "2019-07-14T07:59:41.320961Z",
     "start_time": "2019-07-14T07:59:41.317003Z"
    }
   },
   "outputs": [],
   "source": [
    "counts = train_df['diagnosis'].value_counts(normalize=True)\n",
    "counts"
   ]
  },
  {
   "cell_type": "code",
   "execution_count": null,
   "metadata": {
    "ExecuteTime": {
     "end_time": "2019-07-14T07:59:49.847699Z",
     "start_time": "2019-07-14T07:59:49.844733Z"
    }
   },
   "outputs": [],
   "source": [
    "count_dict = {}\n",
    "for i in counts.index:\n",
    "    count_dict[i] = counts.loc[i]\n",
    "    #print(i, counts.loc[i])\n",
    "count_dict"
   ]
  },
  {
   "cell_type": "code",
   "execution_count": null,
   "metadata": {
    "ExecuteTime": {
     "end_time": "2019-07-14T08:01:23.854638Z",
     "start_time": "2019-07-14T08:01:23.852330Z"
    }
   },
   "outputs": [],
   "source": [
    "def sample(obj, replace=False, total=8000):\n",
    "    return obj.sample(n=int(count_dict[obj.name] * total), replace=replace)"
   ]
  },
  {
   "cell_type": "code",
   "execution_count": null,
   "metadata": {
    "ExecuteTime": {
     "end_time": "2019-07-14T08:01:24.132270Z",
     "start_time": "2019-07-14T08:01:24.122650Z"
    }
   },
   "outputs": [],
   "source": [
    "sampled_train = train_old.groupby('diagnosis').apply(sample).reset_index(drop=True)"
   ]
  },
  {
   "cell_type": "code",
   "execution_count": null,
   "metadata": {
    "ExecuteTime": {
     "end_time": "2019-07-14T08:01:35.453147Z",
     "start_time": "2019-07-14T08:01:35.450540Z"
    }
   },
   "outputs": [],
   "source": [
    "sampled_train.shape"
   ]
  },
  {
   "cell_type": "code",
   "execution_count": null,
   "metadata": {
    "ExecuteTime": {
     "end_time": "2019-07-14T08:02:27.646750Z",
     "start_time": "2019-07-14T08:02:27.486020Z"
    }
   },
   "outputs": [],
   "source": [
    "sampled_train[['diagnosis']].hist()"
   ]
  },
  {
   "cell_type": "code",
   "execution_count": null,
   "metadata": {
    "ExecuteTime": {
     "end_time": "2019-07-14T08:02:27.700339Z",
     "start_time": "2019-07-14T08:02:27.695120Z"
    }
   },
   "outputs": [],
   "source": [
    "sampled_train['diagnosis'].value_counts()"
   ]
  },
  {
   "cell_type": "code",
   "execution_count": null,
   "metadata": {
    "ExecuteTime": {
     "end_time": "2019-07-14T07:57:06.069414Z",
     "start_time": "2019-07-14T07:57:00.562Z"
    }
   },
   "outputs": [],
   "source": [
    "np.random.normal(0, 0.1)"
   ]
  },
  {
   "cell_type": "markdown",
   "metadata": {},
   "source": [
    "#### Messidor"
   ]
  },
  {
   "cell_type": "code",
   "execution_count": null,
   "metadata": {
    "ExecuteTime": {
     "end_time": "2019-07-14T19:18:05.962178Z",
     "start_time": "2019-07-14T19:18:05.955695Z"
    }
   },
   "outputs": [],
   "source": [
    "train_mes = pd.read_csv('../external_data/messidor/train_messidor.csv')"
   ]
  },
  {
   "cell_type": "code",
   "execution_count": null,
   "metadata": {
    "ExecuteTime": {
     "end_time": "2019-07-14T19:18:06.215286Z",
     "start_time": "2019-07-14T19:18:06.206646Z"
    }
   },
   "outputs": [],
   "source": [
    "train_mes.head()"
   ]
  },
  {
   "cell_type": "code",
   "execution_count": null,
   "metadata": {
    "ExecuteTime": {
     "end_time": "2019-07-14T19:18:13.883600Z",
     "start_time": "2019-07-14T19:18:13.756552Z"
    }
   },
   "outputs": [],
   "source": [
    "train_mes['diagnosis'].hist()"
   ]
  },
  {
   "cell_type": "code",
   "execution_count": null,
   "metadata": {
    "ExecuteTime": {
     "end_time": "2019-07-14T19:04:01.421424Z",
     "start_time": "2019-07-14T19:04:01.419740Z"
    }
   },
   "outputs": [],
   "source": [
    "#messidor: 4-class labels (normal, mild, moderate, severe)\n",
    "#kaggle dataset: 5-class labels (normal, mild, moderate, severe, end stage) "
   ]
  },
  {
   "cell_type": "code",
   "execution_count": null,
   "metadata": {
    "ExecuteTime": {
     "end_time": "2019-07-14T19:12:05.758519Z",
     "start_time": "2019-07-14T19:12:05.753584Z"
    }
   },
   "outputs": [],
   "source": [
    "train_mes.head()"
   ]
  },
  {
   "cell_type": "code",
   "execution_count": null,
   "metadata": {
    "ExecuteTime": {
     "end_time": "2019-07-14T19:18:57.708262Z",
     "start_time": "2019-07-14T19:18:57.693496Z"
    }
   },
   "outputs": [],
   "source": [
    "train_mes['diagnosis'].value_counts(normalize=True)"
   ]
  },
  {
   "cell_type": "code",
   "execution_count": null,
   "metadata": {
    "ExecuteTime": {
     "end_time": "2019-07-14T19:22:50.642465Z",
     "start_time": "2019-07-14T19:22:49.401996Z"
    }
   },
   "outputs": [],
   "source": [
    "\n",
    "fig = plt.figure(figsize=(25, 16))\n",
    "# display 10 images from each class\n",
    "for class_id in sorted(train_mes['diagnosis'].unique()):\n",
    "    for i, (idx, row) in enumerate(train_mes.loc[train_mes['diagnosis'] == class_id].sample(5, random_state=69).iterrows()):\n",
    "        ax = fig.add_subplot(5, 5, class_id * 5 + i + 1, xticks=[], yticks=[])\n",
    "        path=f\"../external_data/messidor/train_images/{row['id_code']}.tif\"\n",
    "        #print(path)\n",
    "        image = cv2.imread(path)\n",
    "        image = cv2.cvtColor(image, cv2.COLOR_BGR2RGB)\n",
    "        image = cv2.resize(image, (512, 512))\n",
    "\n",
    "        plt.imshow(image)\n",
    "        ax.set_title('Label: %d'  % (class_id ))\n",
    "        "
   ]
  },
  {
   "cell_type": "markdown",
   "metadata": {},
   "source": [
    "#### Analyse npy files"
   ]
  },
  {
   "cell_type": "code",
   "execution_count": null,
   "metadata": {
    "ExecuteTime": {
     "end_time": "2019-08-10T11:07:26.978345Z",
     "start_time": "2019-08-10T11:07:26.954313Z"
    }
   },
   "outputs": [],
   "source": [
    "def display_samples(df, columns=3, rows=3):\n",
    "    fig=plt.figure(figsize=(5*columns, 4*rows))\n",
    "\n",
    "    for i in range(columns*rows):\n",
    "        image_path = df.loc[i,'id_code']\n",
    "        image_id = df.loc[i,'diagnosis']\n",
    "        img = np.load(f'../data/npy_files/bgcc300/{image_path}.npy')\n",
    "        fig.add_subplot(rows, columns, i+1)\n",
    "        plt.title(image_path)\n",
    "        plt.imshow(img)\n",
    "    \n",
    "    plt.tight_layout()\n",
    "train_1 = pd.read_csv('../data/train.csv')\n",
    "train_2 = pd.read_csv('../data/train_old.csv')\n",
    "train_3 = pd.read_csv('../data/train_messidor.csv')"
   ]
  },
  {
   "cell_type": "code",
   "execution_count": null,
   "metadata": {
    "ExecuteTime": {
     "end_time": "2019-08-10T11:07:29.538038Z",
     "start_time": "2019-08-10T11:07:27.455170Z"
    }
   },
   "outputs": [],
   "source": [
    "display_samples(train_1)"
   ]
  },
  {
   "cell_type": "code",
   "execution_count": null,
   "metadata": {
    "ExecuteTime": {
     "end_time": "2019-08-10T11:07:41.033920Z",
     "start_time": "2019-08-10T11:07:38.811008Z"
    }
   },
   "outputs": [],
   "source": [
    "display_samples(train_2)"
   ]
  },
  {
   "cell_type": "code",
   "execution_count": null,
   "metadata": {
    "ExecuteTime": {
     "end_time": "2019-08-10T11:07:50.205228Z",
     "start_time": "2019-08-10T11:07:45.239643Z"
    }
   },
   "outputs": [],
   "source": [
    "display_samples(train_3, 3, 10)"
   ]
  },
  {
   "cell_type": "code",
   "execution_count": null,
   "metadata": {
    "ExecuteTime": {
     "end_time": "2019-07-15T06:27:24.085627Z",
     "start_time": "2019-07-15T06:27:24.076632Z"
    },
    "scrolled": true
   },
   "outputs": [],
   "source": [
    "train_3.head(10)"
   ]
  },
  {
   "cell_type": "markdown",
   "metadata": {},
   "source": [
    " The train_3's 20060523_50153_0100_PP.tif is not properly cropped due to a small white dot outside the retina circle, this can be fixed using high tol, like tol=10 in the ben_color_crop function in prepare_npy.ipynb, still I'll go with this, it's not an artifact model should learn to ignore it."
   ]
  },
  {
   "cell_type": "markdown",
   "metadata": {},
   "source": [
    "### Blurry images"
   ]
  },
  {
   "cell_type": "code",
   "execution_count": null,
   "metadata": {
    "ExecuteTime": {
     "end_time": "2019-08-10T12:08:21.300291Z",
     "start_time": "2019-08-10T12:08:21.293711Z"
    }
   },
   "outputs": [],
   "source": [
    "train_df = pd.read_csv('../data/train.csv')\n",
    "train_df.shape"
   ]
  },
  {
   "cell_type": "code",
   "execution_count": null,
   "metadata": {
    "ExecuteTime": {
     "end_time": "2019-08-10T11:02:36.975263Z",
     "start_time": "2019-08-10T11:02:36.966518Z"
    }
   },
   "outputs": [],
   "source": [
    "img_size = 300\n",
    "def crop_image_from_gray(img,tol=7):\n",
    "    if img.ndim ==2:\n",
    "        mask = img>tol\n",
    "        return img[np.ix_(mask.any(1),mask.any(0))]\n",
    "    elif img.ndim==3:\n",
    "        gray_img = cv2.cvtColor(img, cv2.COLOR_RGB2GRAY)\n",
    "        mask = gray_img>tol\n",
    "        \n",
    "        check_shape = img[:,:,0][np.ix_(mask.any(1),mask.any(0))].shape[0]\n",
    "        if (check_shape == 0): # image is too dark so that we crop out everything,\n",
    "            return img # return original image\n",
    "        else:\n",
    "            img1=img[:,:,0][np.ix_(mask.any(1),mask.any(0))]\n",
    "            img2=img[:,:,1][np.ix_(mask.any(1),mask.any(0))]\n",
    "            img3=img[:,:,2][np.ix_(mask.any(1),mask.any(0))]\n",
    "            img = np.stack([img1,img2,img3],axis=-1)\n",
    "        return img\n",
    "def preprocess_image(img_file):\n",
    "    img = cv2.imread(img_file)\n",
    "    img = cv2.cvtColor(img, cv2.COLOR_BGR2RGB)\n",
    "    img = crop_image_from_gray(img)\n",
    "    img = cv2.resize(img, (img_size,img_size))\n",
    "    return img"
   ]
  },
  {
   "cell_type": "code",
   "execution_count": null,
   "metadata": {
    "ExecuteTime": {
     "end_time": "2019-08-10T11:06:25.749135Z",
     "start_time": "2019-08-10T11:06:25.283442Z"
    }
   },
   "outputs": [],
   "source": [
    "# a blurry image\n",
    "fig=plt.figure(figsize=(8, 8))\n",
    "image_path = train_df.loc[8,'id_code']\n",
    "image_id = train_df.loc[8,'diagnosis']\n",
    "img = preprocess_image(f'../data/train_images/{image_path}.png')\n",
    "plt.subplot(1, 2, 1)\n",
    "plt.title(f'diagnosis:{image_id} index:{8}')\n",
    "plt.imshow(img)\n",
    "plt.subplot(1, 2, 2)\n",
    "img = np.load(f'../data/npy_files/bgcc300/{image_path}.npy')\n",
    "plt.imshow(img)\n",
    "plt.tight_layout()"
   ]
  },
  {
   "cell_type": "code",
   "execution_count": null,
   "metadata": {
    "ExecuteTime": {
     "end_time": "2019-08-10T11:08:44.815145Z",
     "start_time": "2019-08-10T11:08:44.350114Z"
    }
   },
   "outputs": [],
   "source": [
    "# a normal image\n",
    "fig=plt.figure(figsize=(8, 8))\n",
    "image_path = train_df.loc[0, 'id_code']\n",
    "image_id = train_df.loc[0, 'diagnosis']\n",
    "img = preprocess_image(f'../data/train_images/{image_path}.png')\n",
    "plt.subplot(1, 2, 1)\n",
    "plt.title(f'diagnosis:{image_id} index:{8}')\n",
    "plt.imshow(img)\n",
    "plt.subplot(1, 2, 2)\n",
    "img = np.load(f'../data/npy_files/bgcc300/{image_path}.npy')\n",
    "plt.imshow(img)\n",
    "plt.tight_layout()"
   ]
  },
  {
   "cell_type": "code",
   "execution_count": null,
   "metadata": {
    "ExecuteTime": {
     "end_time": "2019-08-10T11:22:46.017750Z",
     "start_time": "2019-08-10T11:22:46.015608Z"
    }
   },
   "outputs": [],
   "source": [
    "def isClear(img, threshold = 60):\n",
    "    return cv2.Laplacian(img, cv2.CV_64F).var() > threshold"
   ]
  },
  {
   "cell_type": "code",
   "execution_count": null,
   "metadata": {},
   "outputs": [],
   "source": []
  },
  {
   "cell_type": "code",
   "execution_count": null,
   "metadata": {
    "ExecuteTime": {
     "end_time": "2019-08-10T12:21:31.640703Z",
     "start_time": "2019-08-10T12:21:28.696406Z"
    }
   },
   "outputs": [],
   "source": [
    "# plot some random images from train_df, see if they clear laplacian test or not\n",
    "def display_samples(df, columns=4, rows=3):\n",
    "    fig=plt.figure(figsize=(5*columns, 4*rows))\n",
    "    for i in range(columns*rows):\n",
    "        idx = np.random.randint(0, len(df)-1, 1)[0]\n",
    "        image_path = df.loc[idx,'id_code']\n",
    "        image_id = df.loc[idx,'diagnosis']\n",
    "        img = preprocess_image(f'../data/train_images/{image_path}.png')\n",
    "        fig.add_subplot(rows, columns, i+1)\n",
    "        plt.title(f'diagnosis:{image_id}   isclear:{isClear(img)}')\n",
    "        plt.imshow(img)\n",
    "    plt.tight_layout()\n",
    "display_samples(train_df)"
   ]
  },
  {
   "cell_type": "code",
   "execution_count": null,
   "metadata": {
    "ExecuteTime": {
     "end_time": "2019-08-10T12:28:17.922505Z",
     "start_time": "2019-08-10T12:22:59.838146Z"
    }
   },
   "outputs": [],
   "source": [
    "import time\n",
    "from tqdm import tqdm\n",
    "blur_list = []\n",
    "blur_list_id = []\n",
    "start_time = time.time();\n",
    "for i, image_id in enumerate(tqdm(train_df['id_code'])):\n",
    "    img = preprocess_image(f'../data/train_images/{image_id}.png')\n",
    "    if(not isClear(img, threshold=50)):\n",
    "        blur_list.append(i)\n",
    "        blur_list_id.append(image_id)\n",
    "# train_df = train_df.drop(blur_list)"
   ]
  },
  {
   "cell_type": "code",
   "execution_count": null,
   "metadata": {
    "ExecuteTime": {
     "end_time": "2019-08-10T12:29:46.725935Z",
     "start_time": "2019-08-10T12:29:46.723372Z"
    }
   },
   "outputs": [],
   "source": [
    "len(blur_list_id)"
   ]
  },
  {
   "cell_type": "code",
   "execution_count": null,
   "metadata": {
    "ExecuteTime": {
     "end_time": "2019-08-10T12:29:57.135061Z",
     "start_time": "2019-08-10T12:29:57.129713Z"
    }
   },
   "outputs": [],
   "source": [
    "np.array(blur_list)"
   ]
  },
  {
   "cell_type": "code",
   "execution_count": null,
   "metadata": {
    "ExecuteTime": {
     "end_time": "2019-08-10T12:21:56.057927Z",
     "start_time": "2019-08-10T12:21:52.750014Z"
    }
   },
   "outputs": [],
   "source": [
    "def display_blurry_samples(df, img_id_list, columns=4, rows=3):\n",
    "    fig=plt.figure(figsize=(5*columns, 4*rows))\n",
    "    for i in range(columns*rows):\n",
    "        img = preprocess_image(f'../data/train_images/{img_id_list[i]}.png')\n",
    "#         img = np.load(f'../data/npy_files/bgcc300/{img_id_list[i]}.npy')\n",
    "        fig.add_subplot(rows, columns, i+1)\n",
    "        plt.title(f'index:{i}')\n",
    "        plt.imshow(img)\n",
    "    plt.tight_layout()\n",
    "display_blurry_samples(train_df, blur_list_id)\n"
   ]
  },
  {
   "cell_type": "markdown",
   "metadata": {},
   "source": [
    "### test"
   ]
  },
  {
   "cell_type": "code",
   "execution_count": null,
   "metadata": {
    "ExecuteTime": {
     "end_time": "2019-08-18T11:37:55.864572Z",
     "start_time": "2019-08-18T11:37:55.536610Z"
    }
   },
   "outputs": [],
   "source": [
    "import cv2\n",
    "import numpy as np\n",
    "import pandas as pd\n",
    "path = '../data/all_images/b96b518596b3.png'\n",
    "bgr = cv2.imread(path)\n",
    "# bgr = crop_image(bgr, tol=10)\n",
    "rgb = cv2.cvtColor(bgr, cv2.COLOR_BGR2RGB)\n",
    "k = np.max(rgb.shape)//20*2+1 # kernel size: next odd number to (largest dim of the image) / 10\n",
    "bg = cv2.medianBlur(rgb, k)\n"
   ]
  },
  {
   "cell_type": "code",
   "execution_count": null,
   "metadata": {
    "ExecuteTime": {
     "end_time": "2019-08-18T12:25:19.414681Z",
     "start_time": "2019-08-18T12:25:19.388710Z"
    }
   },
   "outputs": [],
   "source": [
    "type(rgb)"
   ]
  },
  {
   "cell_type": "code",
   "execution_count": null,
   "metadata": {
    "ExecuteTime": {
     "end_time": "2019-08-18T11:39:21.206481Z",
     "start_time": "2019-08-18T11:39:21.008966Z"
    }
   },
   "outputs": [],
   "source": [
    "tdf = pd.read_csv('../data/folds/train1-5.csv')\n",
    "vdf = pd.read_csv('../data/folds/val1-5.csv')"
   ]
  },
  {
   "cell_type": "code",
   "execution_count": null,
   "metadata": {
    "ExecuteTime": {
     "end_time": "2019-08-18T11:39:22.849225Z",
     "start_time": "2019-08-18T11:39:22.845710Z"
    }
   },
   "outputs": [],
   "source": [
    "'b96b518596b3' in tdf.id_code.values"
   ]
  },
  {
   "cell_type": "code",
   "execution_count": null,
   "metadata": {
    "ExecuteTime": {
     "end_time": "2019-08-18T11:39:42.894375Z",
     "start_time": "2019-08-18T11:39:40.573326Z"
    }
   },
   "outputs": [],
   "source": [
    "plt.imshow(rgb)"
   ]
  },
  {
   "cell_type": "code",
   "execution_count": null,
   "metadata": {
    "ExecuteTime": {
     "end_time": "2019-08-18T12:25:19.384852Z",
     "start_time": "2019-08-18T11:41:32.143245Z"
    }
   },
   "outputs": [],
   "source": [
    "from tqdm import tqdm_notebook as tqdm\n",
    "df = pd.read_csv('../data/train.csv')\n",
    "for idx, row in tqdm(df.iterrows()):\n",
    "    try:\n",
    "        path = '../data/all_images/' + row[0]# + '.png'\n",
    "        bgr = cv2.imread(path)\n",
    "        #bgr = crop_image(bgr, tol=10)\n",
    "        rgb = cv2.cvtColor(bgr, cv2.COLOR_BGR2RGB)\n",
    "        k = np.max(rgb.shape)//20*2+1 # kernel size: next odd number to (largest dim of the image) / 10\n",
    "        bg = cv2.medianBlur(rgb, k)\n",
    "    except Exception as e:\n",
    "        print(idx, e)"
   ]
  },
  {
   "cell_type": "code",
   "execution_count": null,
   "metadata": {
    "ExecuteTime": {
     "end_time": "2019-08-18T12:29:45.118819Z",
     "start_time": "2019-08-18T12:29:45.116200Z"
    }
   },
   "outputs": [],
   "source": [
    "array([  23,   45,   82,  120,  126,  166,  192,  198,  200,  230,  325,\n",
    "        360,  378,  409,  538,  572,  671,  699,  756,  771,  889, 1024,\n",
    "       1183, 1280, 1393, 1455, 1469, 1540, 1546, 1547, 1605, 1629, 1643,\n",
    "       1724, 1753, 1814, 1833, 1850, 1918, 2034, 2400, 2403, 2576, 2637,\n",
    "       2680, 2782, 2793, 2794, 3006, 3276, 3357, 3370])"
   ]
  },
  {
   "cell_type": "code",
   "execution_count": null,
   "metadata": {
    "ExecuteTime": {
     "end_time": "2019-08-18T12:30:20.670371Z",
     "start_time": "2019-08-18T12:30:20.665194Z"
    }
   },
   "outputs": [],
   "source": [
    "np.array(list(map(int, indice.split())))"
   ]
  },
  {
   "cell_type": "code",
   "execution_count": null,
   "metadata": {
    "ExecuteTime": {
     "end_time": "2019-08-18T12:28:09.393975Z",
     "start_time": "2019-08-18T12:28:09.387649Z"
    }
   },
   "outputs": [],
   "source": [
    "df.iloc[3370]"
   ]
  },
  {
   "cell_type": "code",
   "execution_count": null,
   "metadata": {},
   "outputs": [],
   "source": []
  }
 ],
 "metadata": {
  "kernelspec": {
   "display_name": "ML",
   "language": "python",
   "name": "ml"
  },
  "language_info": {
   "codemirror_mode": {
    "name": "ipython",
    "version": 3
   },
   "file_extension": ".py",
   "mimetype": "text/x-python",
   "name": "python",
   "nbconvert_exporter": "python",
   "pygments_lexer": "ipython3",
   "version": "3.7.3"
  }
 },
 "nbformat": 4,
 "nbformat_minor": 2
}
